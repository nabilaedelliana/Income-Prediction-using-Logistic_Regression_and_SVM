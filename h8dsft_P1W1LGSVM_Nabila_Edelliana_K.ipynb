{
  "cells": [
    {
      "cell_type": "markdown",
      "metadata": {
        "id": "Zb6Y44qdxueG"
      },
      "source": [
        "**Using this template**\n",
        "\n",
        "1. Change notebook title to assignment title you working on, eg. `Graded Challenge 1 or Milestone 1`\n",
        "2. Put your identity such as name and batch number below notebook title.\n",
        "3. Write your description before do any work. State your purpose of this assignment and what you are trying to achieve. \n",
        "4. Look at the rubric of this assignment and make sure you understand the criteria.\n",
        "5. Code your solution in the cell provided below the working area section.\n",
        "6. State your conlusions, findings, and any other relevant information in the cell provided below the conclusions sections.\n",
        "7. Save this notebook and rename it to assignment title you working on  eg. `Graded Challenge 1 or Milestone 1`\n",
        "8. Push your assignment before deadline.\n",
        "9. Good Luck!"
      ]
    },
    {
      "cell_type": "markdown",
      "metadata": {
        "id": "aZ68GsboxueL"
      },
      "source": [
        "# I. Perkenalan"
      ]
    },
    {
      "cell_type": "markdown",
      "metadata": {
        "id": "r_FWKJ_exueM"
      },
      "source": [
        "## 1.1. Perkenalan"
      ]
    },
    {
      "cell_type": "markdown",
      "metadata": {
        "id": "6liN450RxueO"
      },
      "source": [
        "### Graded Challenge 2 - P1\n",
        "\n",
        "- Name   : Nabila Edelliana Khairunnisa\n",
        "- Batch  : 011"
      ]
    },
    {
      "cell_type": "markdown",
      "metadata": {
        "id": "lDss3R8RxueP"
      },
      "source": [
        "### Description\n",
        "Project tugas ini bertujuan untuk mendalami lebih lanjut dasar-dasar data science khususnya konsep classification terutama Logistic Regression dan SVM.\n",
        "\n",
        "Data yang di olah merupakan data jasa transportasi .\n",
        "### Objective\n",
        "1. Mampu memperoleh data menggunakan BigQuery\n",
        "2. Mampu memahami konsep Classification dengan Logistic Regression dan SVM\n",
        "3. Mampu mempersiapkan data untuk digunakan dalam model Logistic Regression dan SVM\n",
        "4. Mampu mengimplementasikan Logistic Regression dan SVM untuk membuat prediksi\n",
        "\n",
        "### Problem Statement\n",
        "\n",
        "1. Model manakah yang lebih baik dalam memprediksi income? Logistic Regression atau SVM?\n",
        "2. Bagaimana hasil metrics evaluasi terhadap model?\n",
        "3. Bagaimana pengaruh hyperparameter terhadap hasil pemodelan?"
      ]
    },
    {
      "cell_type": "markdown",
      "metadata": {
        "id": "EK1BRRGBxuek"
      },
      "source": [
        "## 1.2. Query dari BigQuery"
      ]
    },
    {
      "cell_type": "markdown",
      "metadata": {
        "id": "osGCO0rBxuem"
      },
      "source": [
        "SELECT\n",
        "\n",
        "age, workclass, education, education_num, marital_status, occupation, relationship, race, sex, capital_gain, capital_loss, hours_per_week, native_country, income_bracket\n",
        "\n",
        "FROM `bigquery-public-data.ml_datasets.census_adult_income`\n",
        "\n",
        "WHERE workclass NOT LIKE '%?%' AND hours_per_week < 100\n",
        "\n",
        "LIMIT 21989;"
      ]
    },
    {
      "cell_type": "markdown",
      "metadata": {
        "id": "YZLxZifOxueq"
      },
      "source": [
        "## Working Area\n",
        "\n",
        "```txt\n",
        "Put your code, analysis, everything below this line\n",
        "\n",
        "Make sure to check everything the rubric requires before you submit\n",
        "```"
      ]
    },
    {
      "cell_type": "markdown",
      "metadata": {
        "id": "3CMGXeFcxuer"
      },
      "source": [
        "# II. Import Pustaka yang Dibutuhkan"
      ]
    },
    {
      "cell_type": "code",
      "execution_count": 1,
      "metadata": {
        "id": "M4lIhPOmxuet"
      },
      "outputs": [],
      "source": [
        "# Library EDA\n",
        "import numpy as np\n",
        "import pandas as pd\n",
        "import matplotlib.pyplot as plt\n",
        "import seaborn as sns\n",
        "import scipy.stats as stats\n",
        "\n",
        "# Library pre-processing\n",
        "from sklearn.model_selection import train_test_split\n",
        "from sklearn.preprocessing import MinMaxScaler\n",
        "from sklearn.preprocessing import OrdinalEncoder\n",
        "\n",
        "# Library Model Machine Learning\n",
        "from sklearn.linear_model import LogisticRegression\n",
        "from sklearn.svm import SVC\n",
        "from sklearn.model_selection import GridSearchCV\n",
        "\n",
        "# Library Evaluasi Model\n",
        "from sklearn.metrics import classification_report,ConfusionMatrixDisplay,confusion_matrix\n",
        "\n",
        "# Library Saving dan Open Model\n",
        "import pickle"
      ]
    },
    {
      "cell_type": "markdown",
      "metadata": {
        "id": "-eP8S6LIxuew"
      },
      "source": [
        "# III. Data Loading"
      ]
    },
    {
      "cell_type": "code",
      "execution_count": 2,
      "metadata": {
        "colab": {
          "base_uri": "https://localhost:8080/",
          "height": 206
        },
        "id": "0Hx2FloExuew",
        "outputId": "e036c26a-ece5-4df6-ebe7-c3292f82f6a4"
      },
      "outputs": [
        {
          "output_type": "execute_result",
          "data": {
            "text/plain": [
              "   age workclass education  education_num       marital_status  \\\n",
              "0   39   Private       9th              5   Married-civ-spouse   \n",
              "1   72   Private       9th              5   Married-civ-spouse   \n",
              "2   45   Private       9th              5   Married-civ-spouse   \n",
              "3   31   Private       9th              5   Married-civ-spouse   \n",
              "4   55   Private       9th              5   Married-civ-spouse   \n",
              "\n",
              "           occupation relationship                 race      sex  \\\n",
              "0       Other-service         Wife                Black   Female   \n",
              "1     Exec-managerial         Wife   Asian-Pac-Islander   Female   \n",
              "2   Machine-op-inspct         Wife                White   Female   \n",
              "3     Exec-managerial         Wife                White   Female   \n",
              "4        Tech-support         Wife                White   Female   \n",
              "\n",
              "   capital_gain  capital_loss  hours_per_week  native_country income_bracket  \n",
              "0          3411             0              34   United-States          <=50K  \n",
              "1             0             0              48   United-States           >50K  \n",
              "2             0             0              40   United-States           >50K  \n",
              "3             0             0              40   United-States          <=50K  \n",
              "4             0             0              23   United-States          <=50K  "
            ],
            "text/html": [
              "\n",
              "  <div id=\"df-4e260b9c-7e5e-45ae-bf84-9eff13736763\">\n",
              "    <div class=\"colab-df-container\">\n",
              "      <div>\n",
              "<style scoped>\n",
              "    .dataframe tbody tr th:only-of-type {\n",
              "        vertical-align: middle;\n",
              "    }\n",
              "\n",
              "    .dataframe tbody tr th {\n",
              "        vertical-align: top;\n",
              "    }\n",
              "\n",
              "    .dataframe thead th {\n",
              "        text-align: right;\n",
              "    }\n",
              "</style>\n",
              "<table border=\"1\" class=\"dataframe\">\n",
              "  <thead>\n",
              "    <tr style=\"text-align: right;\">\n",
              "      <th></th>\n",
              "      <th>age</th>\n",
              "      <th>workclass</th>\n",
              "      <th>education</th>\n",
              "      <th>education_num</th>\n",
              "      <th>marital_status</th>\n",
              "      <th>occupation</th>\n",
              "      <th>relationship</th>\n",
              "      <th>race</th>\n",
              "      <th>sex</th>\n",
              "      <th>capital_gain</th>\n",
              "      <th>capital_loss</th>\n",
              "      <th>hours_per_week</th>\n",
              "      <th>native_country</th>\n",
              "      <th>income_bracket</th>\n",
              "    </tr>\n",
              "  </thead>\n",
              "  <tbody>\n",
              "    <tr>\n",
              "      <th>0</th>\n",
              "      <td>39</td>\n",
              "      <td>Private</td>\n",
              "      <td>9th</td>\n",
              "      <td>5</td>\n",
              "      <td>Married-civ-spouse</td>\n",
              "      <td>Other-service</td>\n",
              "      <td>Wife</td>\n",
              "      <td>Black</td>\n",
              "      <td>Female</td>\n",
              "      <td>3411</td>\n",
              "      <td>0</td>\n",
              "      <td>34</td>\n",
              "      <td>United-States</td>\n",
              "      <td>&lt;=50K</td>\n",
              "    </tr>\n",
              "    <tr>\n",
              "      <th>1</th>\n",
              "      <td>72</td>\n",
              "      <td>Private</td>\n",
              "      <td>9th</td>\n",
              "      <td>5</td>\n",
              "      <td>Married-civ-spouse</td>\n",
              "      <td>Exec-managerial</td>\n",
              "      <td>Wife</td>\n",
              "      <td>Asian-Pac-Islander</td>\n",
              "      <td>Female</td>\n",
              "      <td>0</td>\n",
              "      <td>0</td>\n",
              "      <td>48</td>\n",
              "      <td>United-States</td>\n",
              "      <td>&gt;50K</td>\n",
              "    </tr>\n",
              "    <tr>\n",
              "      <th>2</th>\n",
              "      <td>45</td>\n",
              "      <td>Private</td>\n",
              "      <td>9th</td>\n",
              "      <td>5</td>\n",
              "      <td>Married-civ-spouse</td>\n",
              "      <td>Machine-op-inspct</td>\n",
              "      <td>Wife</td>\n",
              "      <td>White</td>\n",
              "      <td>Female</td>\n",
              "      <td>0</td>\n",
              "      <td>0</td>\n",
              "      <td>40</td>\n",
              "      <td>United-States</td>\n",
              "      <td>&gt;50K</td>\n",
              "    </tr>\n",
              "    <tr>\n",
              "      <th>3</th>\n",
              "      <td>31</td>\n",
              "      <td>Private</td>\n",
              "      <td>9th</td>\n",
              "      <td>5</td>\n",
              "      <td>Married-civ-spouse</td>\n",
              "      <td>Exec-managerial</td>\n",
              "      <td>Wife</td>\n",
              "      <td>White</td>\n",
              "      <td>Female</td>\n",
              "      <td>0</td>\n",
              "      <td>0</td>\n",
              "      <td>40</td>\n",
              "      <td>United-States</td>\n",
              "      <td>&lt;=50K</td>\n",
              "    </tr>\n",
              "    <tr>\n",
              "      <th>4</th>\n",
              "      <td>55</td>\n",
              "      <td>Private</td>\n",
              "      <td>9th</td>\n",
              "      <td>5</td>\n",
              "      <td>Married-civ-spouse</td>\n",
              "      <td>Tech-support</td>\n",
              "      <td>Wife</td>\n",
              "      <td>White</td>\n",
              "      <td>Female</td>\n",
              "      <td>0</td>\n",
              "      <td>0</td>\n",
              "      <td>23</td>\n",
              "      <td>United-States</td>\n",
              "      <td>&lt;=50K</td>\n",
              "    </tr>\n",
              "  </tbody>\n",
              "</table>\n",
              "</div>\n",
              "      <button class=\"colab-df-convert\" onclick=\"convertToInteractive('df-4e260b9c-7e5e-45ae-bf84-9eff13736763')\"\n",
              "              title=\"Convert this dataframe to an interactive table.\"\n",
              "              style=\"display:none;\">\n",
              "        \n",
              "  <svg xmlns=\"http://www.w3.org/2000/svg\" height=\"24px\"viewBox=\"0 0 24 24\"\n",
              "       width=\"24px\">\n",
              "    <path d=\"M0 0h24v24H0V0z\" fill=\"none\"/>\n",
              "    <path d=\"M18.56 5.44l.94 2.06.94-2.06 2.06-.94-2.06-.94-.94-2.06-.94 2.06-2.06.94zm-11 1L8.5 8.5l.94-2.06 2.06-.94-2.06-.94L8.5 2.5l-.94 2.06-2.06.94zm10 10l.94 2.06.94-2.06 2.06-.94-2.06-.94-.94-2.06-.94 2.06-2.06.94z\"/><path d=\"M17.41 7.96l-1.37-1.37c-.4-.4-.92-.59-1.43-.59-.52 0-1.04.2-1.43.59L10.3 9.45l-7.72 7.72c-.78.78-.78 2.05 0 2.83L4 21.41c.39.39.9.59 1.41.59.51 0 1.02-.2 1.41-.59l7.78-7.78 2.81-2.81c.8-.78.8-2.07 0-2.86zM5.41 20L4 18.59l7.72-7.72 1.47 1.35L5.41 20z\"/>\n",
              "  </svg>\n",
              "      </button>\n",
              "      \n",
              "  <style>\n",
              "    .colab-df-container {\n",
              "      display:flex;\n",
              "      flex-wrap:wrap;\n",
              "      gap: 12px;\n",
              "    }\n",
              "\n",
              "    .colab-df-convert {\n",
              "      background-color: #E8F0FE;\n",
              "      border: none;\n",
              "      border-radius: 50%;\n",
              "      cursor: pointer;\n",
              "      display: none;\n",
              "      fill: #1967D2;\n",
              "      height: 32px;\n",
              "      padding: 0 0 0 0;\n",
              "      width: 32px;\n",
              "    }\n",
              "\n",
              "    .colab-df-convert:hover {\n",
              "      background-color: #E2EBFA;\n",
              "      box-shadow: 0px 1px 2px rgba(60, 64, 67, 0.3), 0px 1px 3px 1px rgba(60, 64, 67, 0.15);\n",
              "      fill: #174EA6;\n",
              "    }\n",
              "\n",
              "    [theme=dark] .colab-df-convert {\n",
              "      background-color: #3B4455;\n",
              "      fill: #D2E3FC;\n",
              "    }\n",
              "\n",
              "    [theme=dark] .colab-df-convert:hover {\n",
              "      background-color: #434B5C;\n",
              "      box-shadow: 0px 1px 3px 1px rgba(0, 0, 0, 0.15);\n",
              "      filter: drop-shadow(0px 1px 2px rgba(0, 0, 0, 0.3));\n",
              "      fill: #FFFFFF;\n",
              "    }\n",
              "  </style>\n",
              "\n",
              "      <script>\n",
              "        const buttonEl =\n",
              "          document.querySelector('#df-4e260b9c-7e5e-45ae-bf84-9eff13736763 button.colab-df-convert');\n",
              "        buttonEl.style.display =\n",
              "          google.colab.kernel.accessAllowed ? 'block' : 'none';\n",
              "\n",
              "        async function convertToInteractive(key) {\n",
              "          const element = document.querySelector('#df-4e260b9c-7e5e-45ae-bf84-9eff13736763');\n",
              "          const dataTable =\n",
              "            await google.colab.kernel.invokeFunction('convertToInteractive',\n",
              "                                                     [key], {});\n",
              "          if (!dataTable) return;\n",
              "\n",
              "          const docLinkHtml = 'Like what you see? Visit the ' +\n",
              "            '<a target=\"_blank\" href=https://colab.research.google.com/notebooks/data_table.ipynb>data table notebook</a>'\n",
              "            + ' to learn more about interactive tables.';\n",
              "          element.innerHTML = '';\n",
              "          dataTable['output_type'] = 'display_data';\n",
              "          await google.colab.output.renderOutput(dataTable, element);\n",
              "          const docLink = document.createElement('div');\n",
              "          docLink.innerHTML = docLinkHtml;\n",
              "          element.appendChild(docLink);\n",
              "        }\n",
              "      </script>\n",
              "    </div>\n",
              "  </div>\n",
              "  "
            ]
          },
          "metadata": {},
          "execution_count": 2
        }
      ],
      "source": [
        "data = pd.read_csv('census_adult_income.csv')\n",
        "# Menampilkan head data\n",
        "data.head()"
      ]
    },
    {
      "cell_type": "code",
      "execution_count": 3,
      "metadata": {
        "colab": {
          "base_uri": "https://localhost:8080/",
          "height": 206
        },
        "id": "zB0Dls--xuez",
        "outputId": "5991ba28-6a4d-4a77-8792-42b0590dbc02"
      },
      "outputs": [
        {
          "output_type": "execute_result",
          "data": {
            "text/plain": [
              "       age   workclass education  education_num  marital_status  \\\n",
              "21984   47     Private       9th              5        Divorced   \n",
              "21985   24     Private       9th              5   Never-married   \n",
              "21986   64   State-gov       9th              5   Never-married   \n",
              "21987   31     Private       9th              5   Never-married   \n",
              "21988   31     Private       9th              5   Never-married   \n",
              "\n",
              "           occupation    relationship    race      sex  capital_gain  \\\n",
              "21984   Other-service   Not-in-family   White   Female             0   \n",
              "21985   Other-service   Not-in-family   White     Male             0   \n",
              "21986    Adm-clerical   Not-in-family   White   Female             0   \n",
              "21987           Sales   Not-in-family   White     Male             0   \n",
              "21988    Craft-repair   Not-in-family   Other     Male             0   \n",
              "\n",
              "       capital_loss  hours_per_week  native_country income_bracket  \n",
              "21984          1719              30   United-States          <=50K  \n",
              "21985             0              40     El-Salvador          <=50K  \n",
              "21986             0              38   United-States          <=50K  \n",
              "21987             0              43   United-States           >50K  \n",
              "21988             0              45   United-States          <=50K  "
            ],
            "text/html": [
              "\n",
              "  <div id=\"df-853ea868-7585-4f9d-b556-5867d90f8339\">\n",
              "    <div class=\"colab-df-container\">\n",
              "      <div>\n",
              "<style scoped>\n",
              "    .dataframe tbody tr th:only-of-type {\n",
              "        vertical-align: middle;\n",
              "    }\n",
              "\n",
              "    .dataframe tbody tr th {\n",
              "        vertical-align: top;\n",
              "    }\n",
              "\n",
              "    .dataframe thead th {\n",
              "        text-align: right;\n",
              "    }\n",
              "</style>\n",
              "<table border=\"1\" class=\"dataframe\">\n",
              "  <thead>\n",
              "    <tr style=\"text-align: right;\">\n",
              "      <th></th>\n",
              "      <th>age</th>\n",
              "      <th>workclass</th>\n",
              "      <th>education</th>\n",
              "      <th>education_num</th>\n",
              "      <th>marital_status</th>\n",
              "      <th>occupation</th>\n",
              "      <th>relationship</th>\n",
              "      <th>race</th>\n",
              "      <th>sex</th>\n",
              "      <th>capital_gain</th>\n",
              "      <th>capital_loss</th>\n",
              "      <th>hours_per_week</th>\n",
              "      <th>native_country</th>\n",
              "      <th>income_bracket</th>\n",
              "    </tr>\n",
              "  </thead>\n",
              "  <tbody>\n",
              "    <tr>\n",
              "      <th>21984</th>\n",
              "      <td>47</td>\n",
              "      <td>Private</td>\n",
              "      <td>9th</td>\n",
              "      <td>5</td>\n",
              "      <td>Divorced</td>\n",
              "      <td>Other-service</td>\n",
              "      <td>Not-in-family</td>\n",
              "      <td>White</td>\n",
              "      <td>Female</td>\n",
              "      <td>0</td>\n",
              "      <td>1719</td>\n",
              "      <td>30</td>\n",
              "      <td>United-States</td>\n",
              "      <td>&lt;=50K</td>\n",
              "    </tr>\n",
              "    <tr>\n",
              "      <th>21985</th>\n",
              "      <td>24</td>\n",
              "      <td>Private</td>\n",
              "      <td>9th</td>\n",
              "      <td>5</td>\n",
              "      <td>Never-married</td>\n",
              "      <td>Other-service</td>\n",
              "      <td>Not-in-family</td>\n",
              "      <td>White</td>\n",
              "      <td>Male</td>\n",
              "      <td>0</td>\n",
              "      <td>0</td>\n",
              "      <td>40</td>\n",
              "      <td>El-Salvador</td>\n",
              "      <td>&lt;=50K</td>\n",
              "    </tr>\n",
              "    <tr>\n",
              "      <th>21986</th>\n",
              "      <td>64</td>\n",
              "      <td>State-gov</td>\n",
              "      <td>9th</td>\n",
              "      <td>5</td>\n",
              "      <td>Never-married</td>\n",
              "      <td>Adm-clerical</td>\n",
              "      <td>Not-in-family</td>\n",
              "      <td>White</td>\n",
              "      <td>Female</td>\n",
              "      <td>0</td>\n",
              "      <td>0</td>\n",
              "      <td>38</td>\n",
              "      <td>United-States</td>\n",
              "      <td>&lt;=50K</td>\n",
              "    </tr>\n",
              "    <tr>\n",
              "      <th>21987</th>\n",
              "      <td>31</td>\n",
              "      <td>Private</td>\n",
              "      <td>9th</td>\n",
              "      <td>5</td>\n",
              "      <td>Never-married</td>\n",
              "      <td>Sales</td>\n",
              "      <td>Not-in-family</td>\n",
              "      <td>White</td>\n",
              "      <td>Male</td>\n",
              "      <td>0</td>\n",
              "      <td>0</td>\n",
              "      <td>43</td>\n",
              "      <td>United-States</td>\n",
              "      <td>&gt;50K</td>\n",
              "    </tr>\n",
              "    <tr>\n",
              "      <th>21988</th>\n",
              "      <td>31</td>\n",
              "      <td>Private</td>\n",
              "      <td>9th</td>\n",
              "      <td>5</td>\n",
              "      <td>Never-married</td>\n",
              "      <td>Craft-repair</td>\n",
              "      <td>Not-in-family</td>\n",
              "      <td>Other</td>\n",
              "      <td>Male</td>\n",
              "      <td>0</td>\n",
              "      <td>0</td>\n",
              "      <td>45</td>\n",
              "      <td>United-States</td>\n",
              "      <td>&lt;=50K</td>\n",
              "    </tr>\n",
              "  </tbody>\n",
              "</table>\n",
              "</div>\n",
              "      <button class=\"colab-df-convert\" onclick=\"convertToInteractive('df-853ea868-7585-4f9d-b556-5867d90f8339')\"\n",
              "              title=\"Convert this dataframe to an interactive table.\"\n",
              "              style=\"display:none;\">\n",
              "        \n",
              "  <svg xmlns=\"http://www.w3.org/2000/svg\" height=\"24px\"viewBox=\"0 0 24 24\"\n",
              "       width=\"24px\">\n",
              "    <path d=\"M0 0h24v24H0V0z\" fill=\"none\"/>\n",
              "    <path d=\"M18.56 5.44l.94 2.06.94-2.06 2.06-.94-2.06-.94-.94-2.06-.94 2.06-2.06.94zm-11 1L8.5 8.5l.94-2.06 2.06-.94-2.06-.94L8.5 2.5l-.94 2.06-2.06.94zm10 10l.94 2.06.94-2.06 2.06-.94-2.06-.94-.94-2.06-.94 2.06-2.06.94z\"/><path d=\"M17.41 7.96l-1.37-1.37c-.4-.4-.92-.59-1.43-.59-.52 0-1.04.2-1.43.59L10.3 9.45l-7.72 7.72c-.78.78-.78 2.05 0 2.83L4 21.41c.39.39.9.59 1.41.59.51 0 1.02-.2 1.41-.59l7.78-7.78 2.81-2.81c.8-.78.8-2.07 0-2.86zM5.41 20L4 18.59l7.72-7.72 1.47 1.35L5.41 20z\"/>\n",
              "  </svg>\n",
              "      </button>\n",
              "      \n",
              "  <style>\n",
              "    .colab-df-container {\n",
              "      display:flex;\n",
              "      flex-wrap:wrap;\n",
              "      gap: 12px;\n",
              "    }\n",
              "\n",
              "    .colab-df-convert {\n",
              "      background-color: #E8F0FE;\n",
              "      border: none;\n",
              "      border-radius: 50%;\n",
              "      cursor: pointer;\n",
              "      display: none;\n",
              "      fill: #1967D2;\n",
              "      height: 32px;\n",
              "      padding: 0 0 0 0;\n",
              "      width: 32px;\n",
              "    }\n",
              "\n",
              "    .colab-df-convert:hover {\n",
              "      background-color: #E2EBFA;\n",
              "      box-shadow: 0px 1px 2px rgba(60, 64, 67, 0.3), 0px 1px 3px 1px rgba(60, 64, 67, 0.15);\n",
              "      fill: #174EA6;\n",
              "    }\n",
              "\n",
              "    [theme=dark] .colab-df-convert {\n",
              "      background-color: #3B4455;\n",
              "      fill: #D2E3FC;\n",
              "    }\n",
              "\n",
              "    [theme=dark] .colab-df-convert:hover {\n",
              "      background-color: #434B5C;\n",
              "      box-shadow: 0px 1px 3px 1px rgba(0, 0, 0, 0.15);\n",
              "      filter: drop-shadow(0px 1px 2px rgba(0, 0, 0, 0.3));\n",
              "      fill: #FFFFFF;\n",
              "    }\n",
              "  </style>\n",
              "\n",
              "      <script>\n",
              "        const buttonEl =\n",
              "          document.querySelector('#df-853ea868-7585-4f9d-b556-5867d90f8339 button.colab-df-convert');\n",
              "        buttonEl.style.display =\n",
              "          google.colab.kernel.accessAllowed ? 'block' : 'none';\n",
              "\n",
              "        async function convertToInteractive(key) {\n",
              "          const element = document.querySelector('#df-853ea868-7585-4f9d-b556-5867d90f8339');\n",
              "          const dataTable =\n",
              "            await google.colab.kernel.invokeFunction('convertToInteractive',\n",
              "                                                     [key], {});\n",
              "          if (!dataTable) return;\n",
              "\n",
              "          const docLinkHtml = 'Like what you see? Visit the ' +\n",
              "            '<a target=\"_blank\" href=https://colab.research.google.com/notebooks/data_table.ipynb>data table notebook</a>'\n",
              "            + ' to learn more about interactive tables.';\n",
              "          element.innerHTML = '';\n",
              "          dataTable['output_type'] = 'display_data';\n",
              "          await google.colab.output.renderOutput(dataTable, element);\n",
              "          const docLink = document.createElement('div');\n",
              "          docLink.innerHTML = docLinkHtml;\n",
              "          element.appendChild(docLink);\n",
              "        }\n",
              "      </script>\n",
              "    </div>\n",
              "  </div>\n",
              "  "
            ]
          },
          "metadata": {},
          "execution_count": 3
        }
      ],
      "source": [
        "# Menampilkan tail data\n",
        "data.tail()"
      ]
    },
    {
      "cell_type": "code",
      "execution_count": 4,
      "metadata": {
        "id": "vH0EjVGQxue0"
      },
      "outputs": [],
      "source": [
        "# Membuat salinan data untuk backup\n",
        "data_copy = data.copy()"
      ]
    },
    {
      "cell_type": "code",
      "execution_count": 5,
      "metadata": {
        "colab": {
          "base_uri": "https://localhost:8080/"
        },
        "id": "JXoHi5eHxue1",
        "outputId": "8d20a639-422c-49d8-9840-1d1fc3a2d3cb"
      },
      "outputs": [
        {
          "output_type": "execute_result",
          "data": {
            "text/plain": [
              "(21989, 14)"
            ]
          },
          "metadata": {},
          "execution_count": 5
        }
      ],
      "source": [
        "# mengecek ukuran dataset\n",
        "data.shape"
      ]
    },
    {
      "cell_type": "code",
      "execution_count": 6,
      "metadata": {
        "colab": {
          "base_uri": "https://localhost:8080/"
        },
        "id": "TcpFHo_wxue2",
        "outputId": "e9799976-ad51-4510-b2fb-7f02745b3020"
      },
      "outputs": [
        {
          "output_type": "stream",
          "name": "stdout",
          "text": [
            "<class 'pandas.core.frame.DataFrame'>\n",
            "RangeIndex: 21989 entries, 0 to 21988\n",
            "Data columns (total 14 columns):\n",
            " #   Column          Non-Null Count  Dtype \n",
            "---  ------          --------------  ----- \n",
            " 0   age             21989 non-null  int64 \n",
            " 1   workclass       21989 non-null  object\n",
            " 2   education       21989 non-null  object\n",
            " 3   education_num   21989 non-null  int64 \n",
            " 4   marital_status  21989 non-null  object\n",
            " 5   occupation      21989 non-null  object\n",
            " 6   relationship    21989 non-null  object\n",
            " 7   race            21989 non-null  object\n",
            " 8   sex             21989 non-null  object\n",
            " 9   capital_gain    21989 non-null  int64 \n",
            " 10  capital_loss    21989 non-null  int64 \n",
            " 11  hours_per_week  21989 non-null  int64 \n",
            " 12  native_country  21989 non-null  object\n",
            " 13  income_bracket  21989 non-null  object\n",
            "dtypes: int64(5), object(9)\n",
            "memory usage: 2.3+ MB\n"
          ]
        }
      ],
      "source": [
        "data.info()"
      ]
    },
    {
      "cell_type": "markdown",
      "metadata": {
        "id": "Z8yY_uhExue4"
      },
      "source": [
        "# IV. Exploratory Data Analysis (EDA)"
      ]
    },
    {
      "cell_type": "markdown",
      "metadata": {
        "id": "TiJ-iTI2xue5"
      },
      "source": [
        "## 4.1. Melihat missing value"
      ]
    },
    {
      "cell_type": "code",
      "execution_count": 7,
      "metadata": {
        "colab": {
          "base_uri": "https://localhost:8080/"
        },
        "id": "V_JtExuFxue6",
        "outputId": "2874498f-b731-49cc-c82e-d72ce2a9cb2b"
      },
      "outputs": [
        {
          "output_type": "execute_result",
          "data": {
            "text/plain": [
              "age               0\n",
              "workclass         0\n",
              "education         0\n",
              "education_num     0\n",
              "marital_status    0\n",
              "occupation        0\n",
              "relationship      0\n",
              "race              0\n",
              "sex               0\n",
              "capital_gain      0\n",
              "capital_loss      0\n",
              "hours_per_week    0\n",
              "native_country    0\n",
              "income_bracket    0\n",
              "dtype: int64"
            ]
          },
          "metadata": {},
          "execution_count": 7
        }
      ],
      "source": [
        "# Melihat data yang memiliki missing value\n",
        "data.isnull().sum()"
      ]
    },
    {
      "cell_type": "code",
      "execution_count": 8,
      "metadata": {
        "colab": {
          "base_uri": "https://localhost:8080/"
        },
        "id": "Xl1aLt4uxue7",
        "outputId": "13ea199d-74c2-42a6-a91f-5abf02966670"
      },
      "outputs": [
        {
          "output_type": "execute_result",
          "data": {
            "text/plain": [
              "array([' Other-service', ' Exec-managerial', ' Machine-op-inspct',\n",
              "       ' Tech-support', ' Adm-clerical', ' Farming-fishing',\n",
              "       ' Priv-house-serv', ' Sales', ' Protective-serv',\n",
              "       ' Transport-moving', ' Handlers-cleaners', ' Craft-repair',\n",
              "       ' Prof-specialty', ' ?', ' Armed-Forces'], dtype=object)"
            ]
          },
          "metadata": {},
          "execution_count": 8
        }
      ],
      "source": [
        "data['occupation'].unique()"
      ]
    },
    {
      "cell_type": "markdown",
      "metadata": {
        "id": "qACXdAijxue8"
      },
      "source": [
        "terlihat sepertinya data tidak memiliki missing values. Namun setelah ditelusuri unique nya, ada data ' ?' yang merupakan missing value. Selanjutnya saya akan mengganti data tersebut menjadi nan."
      ]
    },
    {
      "cell_type": "code",
      "execution_count": 9,
      "metadata": {
        "id": "MXQA4oDnxue9"
      },
      "outputs": [],
      "source": [
        "# Remove the ? sign and assign those as nan values\n",
        "data['native_country'] = data['native_country'].replace(' ?' , np.nan )\n",
        "data['age'] = data['age'].replace(' ?' , np.nan )\n",
        "data['workclass'] = data['workclass'].replace(' ?' , np.nan )\n",
        "data['education'] = data['education'].replace(' ?' , np.nan )\n",
        "data['education_num'] = data['education_num'].replace(' ?' , np.nan )\n",
        "data['marital_status'] = data['marital_status'].replace(' ?' , np.nan )\n",
        "data['occupation'] = data['occupation'].replace(' ?' , np.nan )\n",
        "data['relationship'] = data['relationship'].replace(' ?' , np.nan )\n",
        "data['race'] = data['race'].replace(' ?' , np.nan )\n",
        "data['sex'] = data['sex'].replace(' ?' , np.nan )\n",
        "data['capital_gain'] = data['capital_gain'].replace(' ?' , np.nan )\n",
        "data['capital_loss'] = data['capital_loss'].replace(' ?' , np.nan )\n",
        "data['hours_per_week'] = data['hours_per_week'].replace(' ?' , np.nan )"
      ]
    },
    {
      "cell_type": "code",
      "execution_count": 10,
      "metadata": {
        "colab": {
          "base_uri": "https://localhost:8080/"
        },
        "id": "kN4Aya8txufC",
        "outputId": "c50c446b-ba24-45b4-eec7-934334b245a7"
      },
      "outputs": [
        {
          "output_type": "execute_result",
          "data": {
            "text/plain": [
              "array([' Other-service', ' Exec-managerial', ' Machine-op-inspct',\n",
              "       ' Tech-support', ' Adm-clerical', ' Farming-fishing',\n",
              "       ' Priv-house-serv', ' Sales', ' Protective-serv',\n",
              "       ' Transport-moving', ' Handlers-cleaners', ' Craft-repair',\n",
              "       ' Prof-specialty', nan, ' Armed-Forces'], dtype=object)"
            ]
          },
          "metadata": {},
          "execution_count": 10
        }
      ],
      "source": [
        "data['occupation'].unique()"
      ]
    },
    {
      "cell_type": "markdown",
      "metadata": {
        "id": "pRzQBIGRxufE"
      },
      "source": [
        "sudah berganti jadi nan values"
      ]
    },
    {
      "cell_type": "code",
      "execution_count": 11,
      "metadata": {
        "colab": {
          "base_uri": "https://localhost:8080/"
        },
        "id": "tfFJc0--xufF",
        "outputId": "49e17bae-eea4-43d5-ec9e-b1d7be0e7b62"
      },
      "outputs": [
        {
          "output_type": "execute_result",
          "data": {
            "text/plain": [
              "age                 0\n",
              "workclass           0\n",
              "education           0\n",
              "education_num       0\n",
              "marital_status      0\n",
              "occupation          6\n",
              "relationship        0\n",
              "race                0\n",
              "sex                 0\n",
              "capital_gain        0\n",
              "capital_loss        0\n",
              "hours_per_week      0\n",
              "native_country    390\n",
              "income_bracket      0\n",
              "dtype: int64"
            ]
          },
          "metadata": {},
          "execution_count": 11
        }
      ],
      "source": [
        "# Melihat missing value\n",
        "data.isnull().sum()"
      ]
    },
    {
      "cell_type": "markdown",
      "metadata": {
        "id": "Qy6NWk7-xufG"
      },
      "source": [
        "setelah dilakukan pendefinisian missing value, ternyata data tersebut memiliki missing values di occupation dan native_country."
      ]
    },
    {
      "cell_type": "markdown",
      "metadata": {
        "id": "xqOx8dPjxufG"
      },
      "source": [
        "## 4.2. Drop kolom yang tidak diperlukan"
      ]
    },
    {
      "cell_type": "code",
      "execution_count": 12,
      "metadata": {
        "colab": {
          "base_uri": "https://localhost:8080/",
          "height": 0
        },
        "id": "CMDXAdPtxufG",
        "outputId": "2d41e30f-8b70-4ad0-91f2-3b52853a8274"
      },
      "outputs": [
        {
          "output_type": "execute_result",
          "data": {
            "text/plain": [
              "   age workclass education  education_num       marital_status  \\\n",
              "0   39   Private       9th              5   Married-civ-spouse   \n",
              "1   72   Private       9th              5   Married-civ-spouse   \n",
              "2   45   Private       9th              5   Married-civ-spouse   \n",
              "3   31   Private       9th              5   Married-civ-spouse   \n",
              "4   55   Private       9th              5   Married-civ-spouse   \n",
              "\n",
              "           occupation relationship                 race      sex  \\\n",
              "0       Other-service         Wife                Black   Female   \n",
              "1     Exec-managerial         Wife   Asian-Pac-Islander   Female   \n",
              "2   Machine-op-inspct         Wife                White   Female   \n",
              "3     Exec-managerial         Wife                White   Female   \n",
              "4        Tech-support         Wife                White   Female   \n",
              "\n",
              "   capital_gain  capital_loss  hours_per_week  native_country income_bracket  \n",
              "0          3411             0              34   United-States          <=50K  \n",
              "1             0             0              48   United-States           >50K  \n",
              "2             0             0              40   United-States           >50K  \n",
              "3             0             0              40   United-States          <=50K  \n",
              "4             0             0              23   United-States          <=50K  "
            ],
            "text/html": [
              "\n",
              "  <div id=\"df-5dd47942-4eeb-46f7-a617-8045a771b725\">\n",
              "    <div class=\"colab-df-container\">\n",
              "      <div>\n",
              "<style scoped>\n",
              "    .dataframe tbody tr th:only-of-type {\n",
              "        vertical-align: middle;\n",
              "    }\n",
              "\n",
              "    .dataframe tbody tr th {\n",
              "        vertical-align: top;\n",
              "    }\n",
              "\n",
              "    .dataframe thead th {\n",
              "        text-align: right;\n",
              "    }\n",
              "</style>\n",
              "<table border=\"1\" class=\"dataframe\">\n",
              "  <thead>\n",
              "    <tr style=\"text-align: right;\">\n",
              "      <th></th>\n",
              "      <th>age</th>\n",
              "      <th>workclass</th>\n",
              "      <th>education</th>\n",
              "      <th>education_num</th>\n",
              "      <th>marital_status</th>\n",
              "      <th>occupation</th>\n",
              "      <th>relationship</th>\n",
              "      <th>race</th>\n",
              "      <th>sex</th>\n",
              "      <th>capital_gain</th>\n",
              "      <th>capital_loss</th>\n",
              "      <th>hours_per_week</th>\n",
              "      <th>native_country</th>\n",
              "      <th>income_bracket</th>\n",
              "    </tr>\n",
              "  </thead>\n",
              "  <tbody>\n",
              "    <tr>\n",
              "      <th>0</th>\n",
              "      <td>39</td>\n",
              "      <td>Private</td>\n",
              "      <td>9th</td>\n",
              "      <td>5</td>\n",
              "      <td>Married-civ-spouse</td>\n",
              "      <td>Other-service</td>\n",
              "      <td>Wife</td>\n",
              "      <td>Black</td>\n",
              "      <td>Female</td>\n",
              "      <td>3411</td>\n",
              "      <td>0</td>\n",
              "      <td>34</td>\n",
              "      <td>United-States</td>\n",
              "      <td>&lt;=50K</td>\n",
              "    </tr>\n",
              "    <tr>\n",
              "      <th>1</th>\n",
              "      <td>72</td>\n",
              "      <td>Private</td>\n",
              "      <td>9th</td>\n",
              "      <td>5</td>\n",
              "      <td>Married-civ-spouse</td>\n",
              "      <td>Exec-managerial</td>\n",
              "      <td>Wife</td>\n",
              "      <td>Asian-Pac-Islander</td>\n",
              "      <td>Female</td>\n",
              "      <td>0</td>\n",
              "      <td>0</td>\n",
              "      <td>48</td>\n",
              "      <td>United-States</td>\n",
              "      <td>&gt;50K</td>\n",
              "    </tr>\n",
              "    <tr>\n",
              "      <th>2</th>\n",
              "      <td>45</td>\n",
              "      <td>Private</td>\n",
              "      <td>9th</td>\n",
              "      <td>5</td>\n",
              "      <td>Married-civ-spouse</td>\n",
              "      <td>Machine-op-inspct</td>\n",
              "      <td>Wife</td>\n",
              "      <td>White</td>\n",
              "      <td>Female</td>\n",
              "      <td>0</td>\n",
              "      <td>0</td>\n",
              "      <td>40</td>\n",
              "      <td>United-States</td>\n",
              "      <td>&gt;50K</td>\n",
              "    </tr>\n",
              "    <tr>\n",
              "      <th>3</th>\n",
              "      <td>31</td>\n",
              "      <td>Private</td>\n",
              "      <td>9th</td>\n",
              "      <td>5</td>\n",
              "      <td>Married-civ-spouse</td>\n",
              "      <td>Exec-managerial</td>\n",
              "      <td>Wife</td>\n",
              "      <td>White</td>\n",
              "      <td>Female</td>\n",
              "      <td>0</td>\n",
              "      <td>0</td>\n",
              "      <td>40</td>\n",
              "      <td>United-States</td>\n",
              "      <td>&lt;=50K</td>\n",
              "    </tr>\n",
              "    <tr>\n",
              "      <th>4</th>\n",
              "      <td>55</td>\n",
              "      <td>Private</td>\n",
              "      <td>9th</td>\n",
              "      <td>5</td>\n",
              "      <td>Married-civ-spouse</td>\n",
              "      <td>Tech-support</td>\n",
              "      <td>Wife</td>\n",
              "      <td>White</td>\n",
              "      <td>Female</td>\n",
              "      <td>0</td>\n",
              "      <td>0</td>\n",
              "      <td>23</td>\n",
              "      <td>United-States</td>\n",
              "      <td>&lt;=50K</td>\n",
              "    </tr>\n",
              "  </tbody>\n",
              "</table>\n",
              "</div>\n",
              "      <button class=\"colab-df-convert\" onclick=\"convertToInteractive('df-5dd47942-4eeb-46f7-a617-8045a771b725')\"\n",
              "              title=\"Convert this dataframe to an interactive table.\"\n",
              "              style=\"display:none;\">\n",
              "        \n",
              "  <svg xmlns=\"http://www.w3.org/2000/svg\" height=\"24px\"viewBox=\"0 0 24 24\"\n",
              "       width=\"24px\">\n",
              "    <path d=\"M0 0h24v24H0V0z\" fill=\"none\"/>\n",
              "    <path d=\"M18.56 5.44l.94 2.06.94-2.06 2.06-.94-2.06-.94-.94-2.06-.94 2.06-2.06.94zm-11 1L8.5 8.5l.94-2.06 2.06-.94-2.06-.94L8.5 2.5l-.94 2.06-2.06.94zm10 10l.94 2.06.94-2.06 2.06-.94-2.06-.94-.94-2.06-.94 2.06-2.06.94z\"/><path d=\"M17.41 7.96l-1.37-1.37c-.4-.4-.92-.59-1.43-.59-.52 0-1.04.2-1.43.59L10.3 9.45l-7.72 7.72c-.78.78-.78 2.05 0 2.83L4 21.41c.39.39.9.59 1.41.59.51 0 1.02-.2 1.41-.59l7.78-7.78 2.81-2.81c.8-.78.8-2.07 0-2.86zM5.41 20L4 18.59l7.72-7.72 1.47 1.35L5.41 20z\"/>\n",
              "  </svg>\n",
              "      </button>\n",
              "      \n",
              "  <style>\n",
              "    .colab-df-container {\n",
              "      display:flex;\n",
              "      flex-wrap:wrap;\n",
              "      gap: 12px;\n",
              "    }\n",
              "\n",
              "    .colab-df-convert {\n",
              "      background-color: #E8F0FE;\n",
              "      border: none;\n",
              "      border-radius: 50%;\n",
              "      cursor: pointer;\n",
              "      display: none;\n",
              "      fill: #1967D2;\n",
              "      height: 32px;\n",
              "      padding: 0 0 0 0;\n",
              "      width: 32px;\n",
              "    }\n",
              "\n",
              "    .colab-df-convert:hover {\n",
              "      background-color: #E2EBFA;\n",
              "      box-shadow: 0px 1px 2px rgba(60, 64, 67, 0.3), 0px 1px 3px 1px rgba(60, 64, 67, 0.15);\n",
              "      fill: #174EA6;\n",
              "    }\n",
              "\n",
              "    [theme=dark] .colab-df-convert {\n",
              "      background-color: #3B4455;\n",
              "      fill: #D2E3FC;\n",
              "    }\n",
              "\n",
              "    [theme=dark] .colab-df-convert:hover {\n",
              "      background-color: #434B5C;\n",
              "      box-shadow: 0px 1px 3px 1px rgba(0, 0, 0, 0.15);\n",
              "      filter: drop-shadow(0px 1px 2px rgba(0, 0, 0, 0.3));\n",
              "      fill: #FFFFFF;\n",
              "    }\n",
              "  </style>\n",
              "\n",
              "      <script>\n",
              "        const buttonEl =\n",
              "          document.querySelector('#df-5dd47942-4eeb-46f7-a617-8045a771b725 button.colab-df-convert');\n",
              "        buttonEl.style.display =\n",
              "          google.colab.kernel.accessAllowed ? 'block' : 'none';\n",
              "\n",
              "        async function convertToInteractive(key) {\n",
              "          const element = document.querySelector('#df-5dd47942-4eeb-46f7-a617-8045a771b725');\n",
              "          const dataTable =\n",
              "            await google.colab.kernel.invokeFunction('convertToInteractive',\n",
              "                                                     [key], {});\n",
              "          if (!dataTable) return;\n",
              "\n",
              "          const docLinkHtml = 'Like what you see? Visit the ' +\n",
              "            '<a target=\"_blank\" href=https://colab.research.google.com/notebooks/data_table.ipynb>data table notebook</a>'\n",
              "            + ' to learn more about interactive tables.';\n",
              "          element.innerHTML = '';\n",
              "          dataTable['output_type'] = 'display_data';\n",
              "          await google.colab.output.renderOutput(dataTable, element);\n",
              "          const docLink = document.createElement('div');\n",
              "          docLink.innerHTML = docLinkHtml;\n",
              "          element.appendChild(docLink);\n",
              "        }\n",
              "      </script>\n",
              "    </div>\n",
              "  </div>\n",
              "  "
            ]
          },
          "metadata": {},
          "execution_count": 12
        }
      ],
      "source": [
        "# menyalin data lagi untuk berjaga-jaga\n",
        "df_new = data.copy()\n",
        "df_new.head()"
      ]
    },
    {
      "cell_type": "markdown",
      "metadata": {
        "id": "qCqcQflMxufH"
      },
      "source": [
        "karena `education_num` memiliki makna yang sama dengan `education`, maka akan saya drop."
      ]
    },
    {
      "cell_type": "code",
      "execution_count": 13,
      "metadata": {
        "colab": {
          "base_uri": "https://localhost:8080/",
          "height": 0
        },
        "id": "-Kj8ffxZxufJ",
        "outputId": "78e87f37-1bba-40b3-d50b-f249287a1b4e"
      },
      "outputs": [
        {
          "output_type": "execute_result",
          "data": {
            "text/plain": [
              "   age workclass education       marital_status          occupation  \\\n",
              "0   39   Private       9th   Married-civ-spouse       Other-service   \n",
              "1   72   Private       9th   Married-civ-spouse     Exec-managerial   \n",
              "2   45   Private       9th   Married-civ-spouse   Machine-op-inspct   \n",
              "3   31   Private       9th   Married-civ-spouse     Exec-managerial   \n",
              "4   55   Private       9th   Married-civ-spouse        Tech-support   \n",
              "\n",
              "  relationship                 race      sex  capital_gain  capital_loss  \\\n",
              "0         Wife                Black   Female          3411             0   \n",
              "1         Wife   Asian-Pac-Islander   Female             0             0   \n",
              "2         Wife                White   Female             0             0   \n",
              "3         Wife                White   Female             0             0   \n",
              "4         Wife                White   Female             0             0   \n",
              "\n",
              "   hours_per_week  native_country income_bracket  \n",
              "0              34   United-States          <=50K  \n",
              "1              48   United-States           >50K  \n",
              "2              40   United-States           >50K  \n",
              "3              40   United-States          <=50K  \n",
              "4              23   United-States          <=50K  "
            ],
            "text/html": [
              "\n",
              "  <div id=\"df-c98374b8-8dce-46d3-b4b2-779b7ef1ba2c\">\n",
              "    <div class=\"colab-df-container\">\n",
              "      <div>\n",
              "<style scoped>\n",
              "    .dataframe tbody tr th:only-of-type {\n",
              "        vertical-align: middle;\n",
              "    }\n",
              "\n",
              "    .dataframe tbody tr th {\n",
              "        vertical-align: top;\n",
              "    }\n",
              "\n",
              "    .dataframe thead th {\n",
              "        text-align: right;\n",
              "    }\n",
              "</style>\n",
              "<table border=\"1\" class=\"dataframe\">\n",
              "  <thead>\n",
              "    <tr style=\"text-align: right;\">\n",
              "      <th></th>\n",
              "      <th>age</th>\n",
              "      <th>workclass</th>\n",
              "      <th>education</th>\n",
              "      <th>marital_status</th>\n",
              "      <th>occupation</th>\n",
              "      <th>relationship</th>\n",
              "      <th>race</th>\n",
              "      <th>sex</th>\n",
              "      <th>capital_gain</th>\n",
              "      <th>capital_loss</th>\n",
              "      <th>hours_per_week</th>\n",
              "      <th>native_country</th>\n",
              "      <th>income_bracket</th>\n",
              "    </tr>\n",
              "  </thead>\n",
              "  <tbody>\n",
              "    <tr>\n",
              "      <th>0</th>\n",
              "      <td>39</td>\n",
              "      <td>Private</td>\n",
              "      <td>9th</td>\n",
              "      <td>Married-civ-spouse</td>\n",
              "      <td>Other-service</td>\n",
              "      <td>Wife</td>\n",
              "      <td>Black</td>\n",
              "      <td>Female</td>\n",
              "      <td>3411</td>\n",
              "      <td>0</td>\n",
              "      <td>34</td>\n",
              "      <td>United-States</td>\n",
              "      <td>&lt;=50K</td>\n",
              "    </tr>\n",
              "    <tr>\n",
              "      <th>1</th>\n",
              "      <td>72</td>\n",
              "      <td>Private</td>\n",
              "      <td>9th</td>\n",
              "      <td>Married-civ-spouse</td>\n",
              "      <td>Exec-managerial</td>\n",
              "      <td>Wife</td>\n",
              "      <td>Asian-Pac-Islander</td>\n",
              "      <td>Female</td>\n",
              "      <td>0</td>\n",
              "      <td>0</td>\n",
              "      <td>48</td>\n",
              "      <td>United-States</td>\n",
              "      <td>&gt;50K</td>\n",
              "    </tr>\n",
              "    <tr>\n",
              "      <th>2</th>\n",
              "      <td>45</td>\n",
              "      <td>Private</td>\n",
              "      <td>9th</td>\n",
              "      <td>Married-civ-spouse</td>\n",
              "      <td>Machine-op-inspct</td>\n",
              "      <td>Wife</td>\n",
              "      <td>White</td>\n",
              "      <td>Female</td>\n",
              "      <td>0</td>\n",
              "      <td>0</td>\n",
              "      <td>40</td>\n",
              "      <td>United-States</td>\n",
              "      <td>&gt;50K</td>\n",
              "    </tr>\n",
              "    <tr>\n",
              "      <th>3</th>\n",
              "      <td>31</td>\n",
              "      <td>Private</td>\n",
              "      <td>9th</td>\n",
              "      <td>Married-civ-spouse</td>\n",
              "      <td>Exec-managerial</td>\n",
              "      <td>Wife</td>\n",
              "      <td>White</td>\n",
              "      <td>Female</td>\n",
              "      <td>0</td>\n",
              "      <td>0</td>\n",
              "      <td>40</td>\n",
              "      <td>United-States</td>\n",
              "      <td>&lt;=50K</td>\n",
              "    </tr>\n",
              "    <tr>\n",
              "      <th>4</th>\n",
              "      <td>55</td>\n",
              "      <td>Private</td>\n",
              "      <td>9th</td>\n",
              "      <td>Married-civ-spouse</td>\n",
              "      <td>Tech-support</td>\n",
              "      <td>Wife</td>\n",
              "      <td>White</td>\n",
              "      <td>Female</td>\n",
              "      <td>0</td>\n",
              "      <td>0</td>\n",
              "      <td>23</td>\n",
              "      <td>United-States</td>\n",
              "      <td>&lt;=50K</td>\n",
              "    </tr>\n",
              "  </tbody>\n",
              "</table>\n",
              "</div>\n",
              "      <button class=\"colab-df-convert\" onclick=\"convertToInteractive('df-c98374b8-8dce-46d3-b4b2-779b7ef1ba2c')\"\n",
              "              title=\"Convert this dataframe to an interactive table.\"\n",
              "              style=\"display:none;\">\n",
              "        \n",
              "  <svg xmlns=\"http://www.w3.org/2000/svg\" height=\"24px\"viewBox=\"0 0 24 24\"\n",
              "       width=\"24px\">\n",
              "    <path d=\"M0 0h24v24H0V0z\" fill=\"none\"/>\n",
              "    <path d=\"M18.56 5.44l.94 2.06.94-2.06 2.06-.94-2.06-.94-.94-2.06-.94 2.06-2.06.94zm-11 1L8.5 8.5l.94-2.06 2.06-.94-2.06-.94L8.5 2.5l-.94 2.06-2.06.94zm10 10l.94 2.06.94-2.06 2.06-.94-2.06-.94-.94-2.06-.94 2.06-2.06.94z\"/><path d=\"M17.41 7.96l-1.37-1.37c-.4-.4-.92-.59-1.43-.59-.52 0-1.04.2-1.43.59L10.3 9.45l-7.72 7.72c-.78.78-.78 2.05 0 2.83L4 21.41c.39.39.9.59 1.41.59.51 0 1.02-.2 1.41-.59l7.78-7.78 2.81-2.81c.8-.78.8-2.07 0-2.86zM5.41 20L4 18.59l7.72-7.72 1.47 1.35L5.41 20z\"/>\n",
              "  </svg>\n",
              "      </button>\n",
              "      \n",
              "  <style>\n",
              "    .colab-df-container {\n",
              "      display:flex;\n",
              "      flex-wrap:wrap;\n",
              "      gap: 12px;\n",
              "    }\n",
              "\n",
              "    .colab-df-convert {\n",
              "      background-color: #E8F0FE;\n",
              "      border: none;\n",
              "      border-radius: 50%;\n",
              "      cursor: pointer;\n",
              "      display: none;\n",
              "      fill: #1967D2;\n",
              "      height: 32px;\n",
              "      padding: 0 0 0 0;\n",
              "      width: 32px;\n",
              "    }\n",
              "\n",
              "    .colab-df-convert:hover {\n",
              "      background-color: #E2EBFA;\n",
              "      box-shadow: 0px 1px 2px rgba(60, 64, 67, 0.3), 0px 1px 3px 1px rgba(60, 64, 67, 0.15);\n",
              "      fill: #174EA6;\n",
              "    }\n",
              "\n",
              "    [theme=dark] .colab-df-convert {\n",
              "      background-color: #3B4455;\n",
              "      fill: #D2E3FC;\n",
              "    }\n",
              "\n",
              "    [theme=dark] .colab-df-convert:hover {\n",
              "      background-color: #434B5C;\n",
              "      box-shadow: 0px 1px 3px 1px rgba(0, 0, 0, 0.15);\n",
              "      filter: drop-shadow(0px 1px 2px rgba(0, 0, 0, 0.3));\n",
              "      fill: #FFFFFF;\n",
              "    }\n",
              "  </style>\n",
              "\n",
              "      <script>\n",
              "        const buttonEl =\n",
              "          document.querySelector('#df-c98374b8-8dce-46d3-b4b2-779b7ef1ba2c button.colab-df-convert');\n",
              "        buttonEl.style.display =\n",
              "          google.colab.kernel.accessAllowed ? 'block' : 'none';\n",
              "\n",
              "        async function convertToInteractive(key) {\n",
              "          const element = document.querySelector('#df-c98374b8-8dce-46d3-b4b2-779b7ef1ba2c');\n",
              "          const dataTable =\n",
              "            await google.colab.kernel.invokeFunction('convertToInteractive',\n",
              "                                                     [key], {});\n",
              "          if (!dataTable) return;\n",
              "\n",
              "          const docLinkHtml = 'Like what you see? Visit the ' +\n",
              "            '<a target=\"_blank\" href=https://colab.research.google.com/notebooks/data_table.ipynb>data table notebook</a>'\n",
              "            + ' to learn more about interactive tables.';\n",
              "          element.innerHTML = '';\n",
              "          dataTable['output_type'] = 'display_data';\n",
              "          await google.colab.output.renderOutput(dataTable, element);\n",
              "          const docLink = document.createElement('div');\n",
              "          docLink.innerHTML = docLinkHtml;\n",
              "          element.appendChild(docLink);\n",
              "        }\n",
              "      </script>\n",
              "    </div>\n",
              "  </div>\n",
              "  "
            ]
          },
          "metadata": {},
          "execution_count": 13
        }
      ],
      "source": [
        "df_new.drop(columns='education_num', inplace=True)\n",
        "df_new.head()"
      ]
    },
    {
      "cell_type": "markdown",
      "metadata": {
        "id": "9O7hVltTxufK"
      },
      "source": [
        "## 4.3. Melihat korelasi setiap kolom dengan target (income)"
      ]
    },
    {
      "cell_type": "markdown",
      "metadata": {
        "id": "8oM9jiYCxufL"
      },
      "source": [
        "korelasi di setiap kolom akan dilihat dari :\n",
        "1. Distribusi data kolom tersebut dengan kolom target.\n",
        "2. Chi-Square test.\n",
        "    dilakukan dengan hypothesis testing dengan rules :\n",
        "    - H0: tidak ada korelasi antara kolom dan kolom target\n",
        "    - H1: ada korelasi antara kolom dan kolom target\n",
        "    - P-Val < alpha (0.05) --> berhasil menolak H0\n",
        "    - P-Val >= alpha (0.05) --> gagal menolak H0 --> kemungkinan ada korelasi --> masukkan kolom ke pemodelan"
      ]
    },
    {
      "cell_type": "markdown",
      "metadata": {
        "id": "2eLxxQLVxufM"
      },
      "source": [
        "### 4.3.1. Melihat korelasi income dan age"
      ]
    },
    {
      "cell_type": "markdown",
      "metadata": {
        "id": "cjUE23ngxufP"
      },
      "source": [
        "grafik korelasi"
      ]
    },
    {
      "cell_type": "code",
      "execution_count": 14,
      "metadata": {
        "colab": {
          "base_uri": "https://localhost:8080/",
          "height": 513
        },
        "id": "IVJQN1pnxufP",
        "outputId": "b1909570-650e-4e06-b44e-87d82ca84aeb"
      },
      "outputs": [
        {
          "output_type": "display_data",
          "data": {
            "text/plain": [
              "<Figure size 1080x576 with 1 Axes>"
            ],
            "image/png": "[encoded data removed]"
          },
          "metadata": {
            "needs_background": "light"
          }
        }
      ],
      "source": [
        "fig, axes = plt.subplots(ncols=1,figsize=(15,8))\n",
        "axes.hist(df_new[df_new['income_bracket'] == ' >50K'].age,\n",
        "         histtype='step', label='>50K')\n",
        "axes.hist(df_new[df_new['income_bracket'] == ' <=50K'].age,\n",
        "         histtype='step', label='<=50K')\n",
        "axes.set_title('Grafik Distribusi Income berdasarkan Age')\n",
        "axes.legend()\n",
        "axes.set_ylabel('count')\n",
        "axes.set_xlabel('age')\n",
        "axes.grid()"
      ]
    },
    {
      "cell_type": "markdown",
      "metadata": {
        "id": "tHej_-B9xufQ"
      },
      "source": [
        "- sebagian besar data ini adalah orang-orang di usia lebih muda yaitu antara 20-40 tahun.\n",
        "- orang-orang dengan income >50K lebih banyak di usia paruh baya antara usia 35-50 tahun\n",
        "- orang-orang dengan income <=50K lebih banyak di usia muda yaitu 20-30 tahun.\n",
        "- jika seseorang memiliki usia 20-30 tahun, kemungkinan income nya <=50K akan lebih besar."
      ]
    },
    {
      "cell_type": "markdown",
      "metadata": {
        "id": "TzV2AmIqxufR"
      },
      "source": [
        "Chi-Square Age"
      ]
    },
    {
      "cell_type": "code",
      "execution_count": 15,
      "metadata": {
        "colab": {
          "base_uri": "https://localhost:8080/"
        },
        "id": "j9lfDTRXxufR",
        "outputId": "cd90d9da-69d3-426c-c68b-69385333c1ad"
      },
      "outputs": [
        {
          "output_type": "stream",
          "name": "stdout",
          "text": [
            "Approach 1: The p-value approach to hypothesis testing in the decision rule\n",
            "chisquare-score is: 2735.854171528943  and p value is: 0.0\n",
            "Null Hypothesis is rejected.\n",
            "\n",
            "--------------------------------------------------------------------------------------\n",
            "Approach 2: The critical value approach to hypothesis testing in the decision rule\n",
            "chisquare-score is: 2735.854171528943  and critical value is: 90.53122543488065\n",
            "Null Hypothesis is rejected.\n"
          ]
        }
      ],
      "source": [
        "# Membuat contingency table\n",
        "data_crosstab = pd.crosstab(df_new['income_bracket'],\n",
        "                            df_new['age'],\n",
        "                           margins=True, margins_name=\"Total\")\n",
        "\n",
        "# Mendefinisikan significance level\n",
        "alpha = 0.05\n",
        "\n",
        "# Perhitungan Chisquare\n",
        "chi_square = 0\n",
        "rows = data['income_bracket'].unique()\n",
        "columns = data['age'].unique()\n",
        "for i in columns:\n",
        "    for j in rows:\n",
        "        O = data_crosstab[i][j]\n",
        "        E = data_crosstab[i]['Total'] * data_crosstab['Total'][j] / data_crosstab['Total']['Total']\n",
        "        chi_square += (O-E)**2/E\n",
        "\n",
        "# Pendekatan dengan p-value\n",
        "print(\"Approach 1: The p-value approach to hypothesis testing in the decision rule\")\n",
        "p_value = 1 - stats.chi2.cdf(chi_square, (len(rows)-1)*(len(columns)-1))\n",
        "conclusion = \"Failed to reject the null hypothesis.\"\n",
        "if p_value <= alpha:\n",
        "    conclusion = \"Null Hypothesis is rejected.\"\n",
        "        \n",
        "print(\"chisquare-score is:\", chi_square, \" and p value is:\", p_value)\n",
        "print(conclusion)\n",
        "    \n",
        "# Pendekatan dengan critical value\n",
        "print(\"\\n--------------------------------------------------------------------------------------\")\n",
        "print(\"Approach 2: The critical value approach to hypothesis testing in the decision rule\")\n",
        "critical_value = stats.chi2.ppf(1-alpha, (len(rows)-1)*(len(columns)-1))\n",
        "conclusion = \"Failed to reject the null hypothesis.\"\n",
        "if chi_square > critical_value:\n",
        "    conclusion = \"Null Hypothesis is rejected.\"\n",
        "        \n",
        "print(\"chisquare-score is:\", chi_square, \" and critical value is:\", critical_value)\n",
        "print(conclusion)"
      ]
    },
    {
      "cell_type": "markdown",
      "metadata": {
        "id": "jOUoZ7E-xufT"
      },
      "source": [
        "berdasarkan perhitangan chi-square test, diambil kesimpulan bahwa bisa jadi terdapat korelasi antara income dengan age. conclusion : age dimasukkan sebagai fitur ke model ML."
      ]
    },
    {
      "cell_type": "markdown",
      "metadata": {
        "id": "UPS2rqzExufU"
      },
      "source": [
        "### 4.3.2. Melihat korelasi income dan education"
      ]
    },
    {
      "cell_type": "markdown",
      "metadata": {
        "id": "6tVCwbTfxufV"
      },
      "source": [
        "grafik korelasi"
      ]
    },
    {
      "cell_type": "code",
      "execution_count": 16,
      "metadata": {
        "colab": {
          "base_uri": "https://localhost:8080/",
          "height": 0
        },
        "id": "Pp9efu4IxufV",
        "outputId": "f25857c9-0cc3-43f7-ed33-815c82151f34"
      },
      "outputs": [
        {
          "output_type": "display_data",
          "data": {
            "text/plain": [
              "<Figure size 1080x576 with 1 Axes>"
            ],
            "image/png": "[encoded data removed]"
          },
          "metadata": {
            "needs_background": "light"
          }
        }
      ],
      "source": [
        "fig, axes = plt.subplots(ncols=1,figsize=(15,8))\n",
        "axes.hist(df_new[df_new['income_bracket'] == ' >50K'].education,\n",
        "         histtype='step', label='>50K')\n",
        "axes.hist(df_new[df_new['income_bracket'] == ' <=50K'].education,\n",
        "         histtype='step', label='<=50K')\n",
        "axes.set_title('Grafik Distribusi Income berdasarkan Education')\n",
        "axes.legend()\n",
        "axes.set_ylabel('count')\n",
        "axes.set_xlabel('Education')\n",
        "axes.grid()"
      ]
    },
    {
      "cell_type": "markdown",
      "metadata": {
        "id": "KfY07v36xufW"
      },
      "source": [
        "Berdasarkan grafik:\n",
        "- sebagian besar data ini adalah orang-orang dengan latar pendidikan HS-grad, Some-college, Assoc-voc, Assoc-acdm, dan Bachelors.\n",
        "- orang-orang dengan income >50K dan <=50K memiliki sebaran pendidikan yang hampir sama.\n",
        "- jika seseorang memiliki pendidikan 'Assoc-acdm', maka kemungkinan income nya >50K akan lebih besar."
      ]
    },
    {
      "cell_type": "markdown",
      "metadata": {
        "id": "7AYuGbUhxufW"
      },
      "source": [
        "Chi-Square education"
      ]
    },
    {
      "cell_type": "code",
      "execution_count": 17,
      "metadata": {
        "colab": {
          "base_uri": "https://localhost:8080/"
        },
        "id": "Z4DYHbJpxufX",
        "outputId": "215dd011-a8f1-4494-8de9-27c540aa153c"
      },
      "outputs": [
        {
          "output_type": "stream",
          "name": "stdout",
          "text": [
            "Approach 1: The p-value approach to hypothesis testing in the decision rule\n",
            "chisquare-score is: 3681.8761333638454  and p value is: 0.0\n",
            "Null Hypothesis is rejected.\n",
            "\n",
            "--------------------------------------------------------------------------------------\n",
            "Approach 2: The critical value approach to hypothesis testing in the decision rule\n",
            "chisquare-score is: 3681.8761333638454  and critical value is: 24.995790139728616\n",
            "Null Hypothesis is rejected.\n"
          ]
        }
      ],
      "source": [
        "# Membuat contingency table\n",
        "data_crosstab = pd.crosstab(df_new['income_bracket'],\n",
        "                            df_new['education'],\n",
        "                           margins=True, margins_name=\"Total\")\n",
        "\n",
        "# Mendefinisikan significance level\n",
        "alpha = 0.05\n",
        "\n",
        "# Perhitungan Chisquare\n",
        "chi_square = 0\n",
        "rows = data['income_bracket'].unique()\n",
        "columns = data['education'].unique()\n",
        "for i in columns:\n",
        "    for j in rows:\n",
        "        O = data_crosstab[i][j]\n",
        "        E = data_crosstab[i]['Total'] * data_crosstab['Total'][j] / data_crosstab['Total']['Total']\n",
        "        chi_square += (O-E)**2/E\n",
        "\n",
        "# Pendekatan dengan p-value\n",
        "print(\"Approach 1: The p-value approach to hypothesis testing in the decision rule\")\n",
        "p_value = 1 - stats.chi2.cdf(chi_square, (len(rows)-1)*(len(columns)-1))\n",
        "conclusion = \"Failed to reject the null hypothesis.\"\n",
        "if p_value <= alpha:\n",
        "    conclusion = \"Null Hypothesis is rejected.\"\n",
        "        \n",
        "print(\"chisquare-score is:\", chi_square, \" and p value is:\", p_value)\n",
        "print(conclusion)\n",
        "    \n",
        "# Pendekatan dengan critical value\n",
        "print(\"\\n--------------------------------------------------------------------------------------\")\n",
        "print(\"Approach 2: The critical value approach to hypothesis testing in the decision rule\")\n",
        "critical_value = stats.chi2.ppf(1-alpha, (len(rows)-1)*(len(columns)-1))\n",
        "conclusion = \"Failed to reject the null hypothesis.\"\n",
        "if chi_square > critical_value:\n",
        "    conclusion = \"Null Hypothesis is rejected.\"\n",
        "        \n",
        "print(\"chisquare-score is:\", chi_square, \" and critical value is:\", critical_value)\n",
        "print(conclusion)"
      ]
    },
    {
      "cell_type": "markdown",
      "metadata": {
        "id": "qRLODCC-xufY"
      },
      "source": [
        "berdasarkan perhitangan chi-square test, diambil kesimpulan bahwa bisa jadi terdapat korelasi antara income dengan education. conclusion : education dimasukkan sebagai fitur ke model ML"
      ]
    },
    {
      "cell_type": "markdown",
      "metadata": {
        "id": "0kzdsRusxufY"
      },
      "source": [
        "### 4.3.3. Melihat korelasi income dan capital_gain"
      ]
    },
    {
      "cell_type": "markdown",
      "metadata": {
        "id": "56yFP-2CxufZ"
      },
      "source": [
        "grafik korelasi"
      ]
    },
    {
      "cell_type": "code",
      "execution_count": 18,
      "metadata": {
        "colab": {
          "base_uri": "https://localhost:8080/",
          "height": 0
        },
        "id": "5k4Jg45Txufa",
        "outputId": "dc9c2ddc-7c78-4704-f1dc-5fe0f81a76fb"
      },
      "outputs": [
        {
          "output_type": "display_data",
          "data": {
            "text/plain": [
              "<Figure size 1080x576 with 1 Axes>"
            ],
            "image/png": "[encoded data removed]"
          },
          "metadata": {
            "needs_background": "light"
          }
        }
      ],
      "source": [
        "fig, axes = plt.subplots(ncols=1,figsize=(15,8))\n",
        "axes.hist(df_new[df_new['income_bracket'] == ' >50K'].capital_gain,\n",
        "         histtype='step', label='>50K')\n",
        "axes.hist(df_new[df_new['income_bracket'] == ' <=50K'].capital_gain,\n",
        "         histtype='step', label='<=50K')\n",
        "axes.set_title('Grafik Distribusi Income berdasarkan capital_gain')\n",
        "axes.legend()\n",
        "axes.set_ylabel('count')\n",
        "axes.set_xlabel('capital_gain')\n",
        "axes.grid()"
      ]
    },
    {
      "cell_type": "markdown",
      "metadata": {
        "id": "cXAP35kYxufc"
      },
      "source": [
        "Berdasarkan grafik:\n",
        "- sebagian besar data ini adalah orang-orang yang memiliki capital gain 0.\n",
        "- orang-orang dengan capital gain > 0 memiliki kemungkinan income >50K lebih tinggi.\n",
        "- capital gain > 0 kurang bisa menjelaskan korelasinya dengan kelas income."
      ]
    },
    {
      "cell_type": "markdown",
      "metadata": {
        "id": "UU8byZw7xufg"
      },
      "source": [
        "Chi-Square capital_gain"
      ]
    },
    {
      "cell_type": "code",
      "execution_count": 19,
      "metadata": {
        "colab": {
          "base_uri": "https://localhost:8080/"
        },
        "id": "MoAo8aXkxufh",
        "outputId": "009454cc-d00a-46c5-a6a9-1eef366e51f5"
      },
      "outputs": [
        {
          "output_type": "stream",
          "name": "stdout",
          "text": [
            "Approach 1: The p-value approach to hypothesis testing in the decision rule\n",
            "chisquare-score is: 3457.4670772607196  and p value is: 0.0\n",
            "Null Hypothesis is rejected.\n",
            "\n",
            "--------------------------------------------------------------------------------------\n",
            "Approach 2: The critical value approach to hypothesis testing in the decision rule\n",
            "chisquare-score is: 3457.4670772607196  and critical value is: 127.68930826333825\n",
            "Null Hypothesis is rejected.\n"
          ]
        }
      ],
      "source": [
        "# Membuat contingency table\n",
        "data_crosstab = pd.crosstab(df_new['income_bracket'],\n",
        "                            df_new['capital_gain'],\n",
        "                           margins=True, margins_name=\"Total\")\n",
        "\n",
        "# Mendefinisikan significance level\n",
        "alpha = 0.05\n",
        "\n",
        "# Perhitungan Chisquare\n",
        "chi_square = 0\n",
        "rows = data['income_bracket'].unique()\n",
        "columns = data['capital_gain'].unique()\n",
        "for i in columns:\n",
        "    for j in rows:\n",
        "        O = data_crosstab[i][j]\n",
        "        E = data_crosstab[i]['Total'] * data_crosstab['Total'][j] / data_crosstab['Total']['Total']\n",
        "        chi_square += (O-E)**2/E\n",
        "\n",
        "# Pendekatan dengan p-value\n",
        "print(\"Approach 1: The p-value approach to hypothesis testing in the decision rule\")\n",
        "p_value = 1 - stats.chi2.cdf(chi_square, (len(rows)-1)*(len(columns)-1))\n",
        "conclusion = \"Failed to reject the null hypothesis.\"\n",
        "if p_value <= alpha:\n",
        "    conclusion = \"Null Hypothesis is rejected.\"\n",
        "        \n",
        "print(\"chisquare-score is:\", chi_square, \" and p value is:\", p_value)\n",
        "print(conclusion)\n",
        "    \n",
        "# Pendekatan dengan critical value\n",
        "print(\"\\n--------------------------------------------------------------------------------------\")\n",
        "print(\"Approach 2: The critical value approach to hypothesis testing in the decision rule\")\n",
        "critical_value = stats.chi2.ppf(1-alpha, (len(rows)-1)*(len(columns)-1))\n",
        "conclusion = \"Failed to reject the null hypothesis.\"\n",
        "if chi_square > critical_value:\n",
        "    conclusion = \"Null Hypothesis is rejected.\"\n",
        "        \n",
        "print(\"chisquare-score is:\", chi_square, \" and critical value is:\", critical_value)\n",
        "print(conclusion)"
      ]
    },
    {
      "cell_type": "markdown",
      "metadata": {
        "id": "4-sYWjqPxufi"
      },
      "source": [
        "berdasarkan perhitangan chi-square test, diambil kesimpulan bahwa bisa jadi terdapat korelasi antara income dengan capital gain. Akan tetapi kolom ini kurang baik dalam menunjukkan bukti korelasinya sehingga tidak cocok untuk dijadikan fitur prediksi. conclusion : capital gain tidak dimasukkan sebagai fitur ke model ML"
      ]
    },
    {
      "cell_type": "markdown",
      "metadata": {
        "id": "OjfZtARWxufj"
      },
      "source": [
        "### 4.3.4. Melihat korelasi income dan capital_loss"
      ]
    },
    {
      "cell_type": "markdown",
      "metadata": {
        "id": "bugWc9IAxufk"
      },
      "source": [
        "grafik korelasi"
      ]
    },
    {
      "cell_type": "code",
      "execution_count": 20,
      "metadata": {
        "colab": {
          "base_uri": "https://localhost:8080/",
          "height": 0
        },
        "id": "chhJFyG0xufk",
        "outputId": "7a705f4e-1c34-499c-d3f8-82374dcd6759"
      },
      "outputs": [
        {
          "output_type": "display_data",
          "data": {
            "text/plain": [
              "<Figure size 1080x576 with 1 Axes>"
            ],
            "image/png": "[encoded data removed]"
          },
          "metadata": {
            "needs_background": "light"
          }
        }
      ],
      "source": [
        "fig, axes = plt.subplots(ncols=1,figsize=(15,8))\n",
        "axes.hist(df_new[df_new['income_bracket'] == ' >50K'].capital_loss,\n",
        "         histtype='step', label='>50K')\n",
        "axes.hist(df_new[df_new['income_bracket'] == ' <=50K'].capital_loss,\n",
        "         histtype='step', label='<=50K')\n",
        "axes.set_title('Grafik Distribusi Income berdasarkan capital_gain')\n",
        "axes.legend()\n",
        "axes.set_ylabel('count')\n",
        "axes.set_xlabel('capital_loss')\n",
        "axes.grid()"
      ]
    },
    {
      "cell_type": "markdown",
      "metadata": {
        "id": "vuERRc6vxufl"
      },
      "source": [
        "Berdasarkan grafik:\n",
        "- sebagian besar data ini adalah orang-orang yang memiliki capital loss 0.\n",
        "- capital loss terbanyak untuk orang-orang dengan capital loss > 0 dan income >50K adalah sebesar 2000.\n",
        "- capital loss terbanyak untuk orang-orang dengan capital loss > 0 dan income <=50K adalah sebesar 1500-2000.\n",
        "- capital gain > 0 kurang bisa menjelaskan korelasinya dengan kelas income."
      ]
    },
    {
      "cell_type": "markdown",
      "metadata": {
        "id": "WsRySGGnxufl"
      },
      "source": [
        "Chi-Square capital_loss  "
      ]
    },
    {
      "cell_type": "code",
      "execution_count": 21,
      "metadata": {
        "colab": {
          "base_uri": "https://localhost:8080/"
        },
        "id": "4eC4vje6xufm",
        "outputId": "174c9040-77e7-4695-b82c-4373b1e3e52d"
      },
      "outputs": [
        {
          "output_type": "stream",
          "name": "stdout",
          "text": [
            "Approach 1: The p-value approach to hypothesis testing in the decision rule\n",
            "chisquare-score is: 1620.2536276167875  and p value is: 0.0\n",
            "Null Hypothesis is rejected.\n",
            "\n",
            "--------------------------------------------------------------------------------------\n",
            "Approach 2: The critical value approach to hypothesis testing in the decision rule\n",
            "chisquare-score is: 1620.2536276167875  and critical value is: 101.87947396543588\n",
            "Null Hypothesis is rejected.\n"
          ]
        }
      ],
      "source": [
        "# Membuat contingency table\n",
        "data_crosstab = pd.crosstab(df_new['income_bracket'],\n",
        "                            df_new['capital_loss'],\n",
        "                           margins=True, margins_name=\"Total\")\n",
        "\n",
        "# Mendefinisikan significance level\n",
        "alpha = 0.05\n",
        "\n",
        "# Perhitungan Chisquare\n",
        "chi_square = 0\n",
        "rows = data['income_bracket'].unique()\n",
        "columns = data['capital_loss'].unique()\n",
        "for i in columns:\n",
        "    for j in rows:\n",
        "        O = data_crosstab[i][j]\n",
        "        E = data_crosstab[i]['Total'] * data_crosstab['Total'][j] / data_crosstab['Total']['Total']\n",
        "        chi_square += (O-E)**2/E\n",
        "\n",
        "# Pendekatan dengan p-value\n",
        "print(\"Approach 1: The p-value approach to hypothesis testing in the decision rule\")\n",
        "p_value = 1 - stats.chi2.cdf(chi_square, (len(rows)-1)*(len(columns)-1))\n",
        "conclusion = \"Failed to reject the null hypothesis.\"\n",
        "if p_value <= alpha:\n",
        "    conclusion = \"Null Hypothesis is rejected.\"\n",
        "        \n",
        "print(\"chisquare-score is:\", chi_square, \" and p value is:\", p_value)\n",
        "print(conclusion)\n",
        "    \n",
        "# Pendekatan dengan critical value\n",
        "print(\"\\n--------------------------------------------------------------------------------------\")\n",
        "print(\"Approach 2: The critical value approach to hypothesis testing in the decision rule\")\n",
        "critical_value = stats.chi2.ppf(1-alpha, (len(rows)-1)*(len(columns)-1))\n",
        "conclusion = \"Failed to reject the null hypothesis.\"\n",
        "if chi_square > critical_value:\n",
        "    conclusion = \"Null Hypothesis is rejected.\"\n",
        "        \n",
        "print(\"chisquare-score is:\", chi_square, \" and critical value is:\", critical_value)\n",
        "print(conclusion)"
      ]
    },
    {
      "cell_type": "markdown",
      "metadata": {
        "id": "WvnBUpXvxufn"
      },
      "source": [
        "berdasarkan perhitangan chi-square test, diambil kesimpulan bahwa bisa jadi terdapat korelasi antara income dengan capital loss. Akan tetapi kolom ini kurang baik dalam menunjukkan bukti korelasinya sehingga tidak cocok untuk dijadikan fitur prediksi. conclusion : capital loss tidak dimasukkan sebagai fitur ke model ML"
      ]
    },
    {
      "cell_type": "markdown",
      "metadata": {
        "id": "45vkOyCQxufn"
      },
      "source": [
        "### 4.3.5. Melihat korelasi income dan hours_per_week"
      ]
    },
    {
      "cell_type": "markdown",
      "metadata": {
        "id": "gPrquVm6xufo"
      },
      "source": [
        "grafik korelasi"
      ]
    },
    {
      "cell_type": "code",
      "execution_count": 22,
      "metadata": {
        "colab": {
          "base_uri": "https://localhost:8080/",
          "height": 0
        },
        "id": "gk5IkjTOxufo",
        "outputId": "efdc4977-b8ec-409c-8435-48e1717fb239"
      },
      "outputs": [
        {
          "output_type": "display_data",
          "data": {
            "text/plain": [
              "<Figure size 1080x576 with 1 Axes>"
            ],
            "image/png": "[encoded data removed]"
          },
          "metadata": {
            "needs_background": "light"
          }
        }
      ],
      "source": [
        "fig, axes = plt.subplots(ncols=1,figsize=(15,8))\n",
        "axes.hist(df_new[df_new['income_bracket'] == ' >50K'].hours_per_week,\n",
        "         histtype='step', label='>50K')\n",
        "axes.hist(df_new[df_new['income_bracket'] == ' <=50K'].hours_per_week,\n",
        "         histtype='step', label='<=50K')\n",
        "axes.set_title('Grafik Distribusi Income berdasarkan hours_per_week')\n",
        "axes.legend()\n",
        "axes.set_ylabel('count')\n",
        "axes.set_xlabel('hours_per_week')\n",
        "axes.grid()"
      ]
    },
    {
      "cell_type": "markdown",
      "metadata": {
        "id": "RdCU4JFbxufp"
      },
      "source": [
        "Berdasarkan grafik:\n",
        "- sebagian besar data ini adalah orang-orang yang memiliki hours per week 35-40 jam.\n",
        "- orang-orang dengan hours per week yang kecil (0-30 jam) lebih banyak dimiliki oaleh orang dengan income <=50K. Hal ini wajar karena mungkin bayaran yang tinggi disesuaikan dengan banyaknya jam kerja juga."
      ]
    },
    {
      "cell_type": "markdown",
      "metadata": {
        "id": "zYw1U4ccxufq"
      },
      "source": [
        "Chi-Square hours_per_week"
      ]
    },
    {
      "cell_type": "code",
      "execution_count": 23,
      "metadata": {
        "colab": {
          "base_uri": "https://localhost:8080/"
        },
        "id": "sP9nlBBZxufr",
        "outputId": "4092c07c-577c-465e-e2cb-0b33f1aaec34"
      },
      "outputs": [
        {
          "output_type": "stream",
          "name": "stdout",
          "text": [
            "Approach 1: The p-value approach to hypothesis testing in the decision rule\n",
            "chisquare-score is: 2040.3368412310394  and p value is: 0.0\n",
            "Null Hypothesis is rejected.\n",
            "\n",
            "--------------------------------------------------------------------------------------\n",
            "Approach 2: The critical value approach to hypothesis testing in the decision rule\n",
            "chisquare-score is: 2040.3368412310394  and critical value is: 114.26786767719355\n",
            "Null Hypothesis is rejected.\n"
          ]
        }
      ],
      "source": [
        "# Membuat contingency table\n",
        "data_crosstab = pd.crosstab(df_new['income_bracket'],\n",
        "                            df_new['hours_per_week'],\n",
        "                           margins=True, margins_name=\"Total\")\n",
        "\n",
        "# Mendefinisikan significance level\n",
        "alpha = 0.05\n",
        "\n",
        "# Perhitungan Chisquare\n",
        "chi_square = 0\n",
        "rows = data['income_bracket'].unique()\n",
        "columns = data['hours_per_week'].unique()\n",
        "for i in columns:\n",
        "    for j in rows:\n",
        "        O = data_crosstab[i][j]\n",
        "        E = data_crosstab[i]['Total'] * data_crosstab['Total'][j] / data_crosstab['Total']['Total']\n",
        "        chi_square += (O-E)**2/E\n",
        "\n",
        "# Pendekatan dengan p-value\n",
        "print(\"Approach 1: The p-value approach to hypothesis testing in the decision rule\")\n",
        "p_value = 1 - stats.chi2.cdf(chi_square, (len(rows)-1)*(len(columns)-1))\n",
        "conclusion = \"Failed to reject the null hypothesis.\"\n",
        "if p_value <= alpha:\n",
        "    conclusion = \"Null Hypothesis is rejected.\"\n",
        "        \n",
        "print(\"chisquare-score is:\", chi_square, \" and p value is:\", p_value)\n",
        "print(conclusion)\n",
        "    \n",
        "# Pendekatan dengan critical value\n",
        "print(\"\\n--------------------------------------------------------------------------------------\")\n",
        "print(\"Approach 2: The critical value approach to hypothesis testing in the decision rule\")\n",
        "critical_value = stats.chi2.ppf(1-alpha, (len(rows)-1)*(len(columns)-1))\n",
        "conclusion = \"Failed to reject the null hypothesis.\"\n",
        "if chi_square > critical_value:\n",
        "    conclusion = \"Null Hypothesis is rejected.\"\n",
        "        \n",
        "print(\"chisquare-score is:\", chi_square, \" and critical value is:\", critical_value)\n",
        "print(conclusion)"
      ]
    },
    {
      "cell_type": "markdown",
      "metadata": {
        "id": "yNpgimTzxufs"
      },
      "source": [
        "berdasarkan perhitangan chi-square test, diambil kesimpulan bahwa bisa jadi terdapat korelasi antara income dengan hours per week. conclusion : hours per week dimasukkan sebagai fitur ke model ML"
      ]
    },
    {
      "cell_type": "markdown",
      "metadata": {
        "id": "XVV-s8D8xuft"
      },
      "source": [
        "### 4.3.6. Melihat korelasi income dan workclass"
      ]
    },
    {
      "cell_type": "markdown",
      "metadata": {
        "id": "sfwy0uiWxuft"
      },
      "source": [
        "grafik korelasi"
      ]
    },
    {
      "cell_type": "code",
      "execution_count": 24,
      "metadata": {
        "colab": {
          "base_uri": "https://localhost:8080/",
          "height": 0
        },
        "id": "lHL3_Upqxuft",
        "outputId": "6fadfaa2-8300-4afa-d651-6ec26d4f6d4e"
      },
      "outputs": [
        {
          "output_type": "display_data",
          "data": {
            "text/plain": [
              "<Figure size 1080x576 with 1 Axes>"
            ],
            "image/png": "[encoded data removed]"
          },
          "metadata": {
            "needs_background": "light"
          }
        }
      ],
      "source": [
        "fig, axes = plt.subplots(ncols=1,figsize=(15,8))\n",
        "axes.hist(df_new[df_new['income_bracket'] == ' >50K'].workclass,\n",
        "         histtype='step', label='>50K')\n",
        "axes.hist(df_new[df_new['income_bracket'] == ' <=50K'].workclass,\n",
        "         histtype='step', label='<=50K')\n",
        "axes.set_title('Grafik Distribusi Income berdasarkan workclass')\n",
        "axes.legend()\n",
        "axes.set_ylabel('count')\n",
        "axes.set_xlabel('workclass')\n",
        "axes.grid()"
      ]
    },
    {
      "cell_type": "markdown",
      "metadata": {
        "id": "i8Aqdwmhxufu"
      },
      "source": [
        "Berdasarkan grafik:\n",
        "- sebagian besar data ini adalah orang-orang yang memiliki workclass Private.\n",
        "- di setiap workclass, terdapat distribusi yang hampir sama antara jumlah orang dengan income >50K dan <=50K dan karena itu kurang bisa merepresentasikan hubungannya yang membedakan antara kelas income <= 50K dan >50K."
      ]
    },
    {
      "cell_type": "markdown",
      "metadata": {
        "id": "sfb4-Fbfxufu"
      },
      "source": [
        "Chi-Square workclass"
      ]
    },
    {
      "cell_type": "code",
      "execution_count": 25,
      "metadata": {
        "colab": {
          "base_uri": "https://localhost:8080/"
        },
        "id": "ioLgNC_bxufv",
        "outputId": "a1e0ed6c-7db6-42d1-84a1-f7c6c5b78d52"
      },
      "outputs": [
        {
          "output_type": "stream",
          "name": "stdout",
          "text": [
            "Approach 1: The p-value approach to hypothesis testing in the decision rule\n",
            "chisquare-score is: 629.7619412961654  and p value is: 0.0\n",
            "Null Hypothesis is rejected.\n",
            "\n",
            "--------------------------------------------------------------------------------------\n",
            "Approach 2: The critical value approach to hypothesis testing in the decision rule\n",
            "chisquare-score is: 629.7619412961654  and critical value is: 14.067140449340169\n",
            "Null Hypothesis is rejected.\n"
          ]
        }
      ],
      "source": [
        "# Membuat contingency table\n",
        "data_crosstab = pd.crosstab(df_new['income_bracket'],\n",
        "                            df_new['workclass'],\n",
        "                           margins=True, margins_name=\"Total\")\n",
        "\n",
        "# Mendefinisikan significance level\n",
        "alpha = 0.05\n",
        "\n",
        "# Perhitungan Chisquare\n",
        "chi_square = 0\n",
        "rows = data['income_bracket'].unique()\n",
        "columns = data['workclass'].unique()\n",
        "for i in columns:\n",
        "    for j in rows:\n",
        "        O = data_crosstab[i][j]\n",
        "        E = data_crosstab[i]['Total'] * data_crosstab['Total'][j] / data_crosstab['Total']['Total']\n",
        "        chi_square += (O-E)**2/E\n",
        "\n",
        "# Pendekatan dengan p-value\n",
        "print(\"Approach 1: The p-value approach to hypothesis testing in the decision rule\")\n",
        "p_value = 1 - stats.chi2.cdf(chi_square, (len(rows)-1)*(len(columns)-1))\n",
        "conclusion = \"Failed to reject the null hypothesis.\"\n",
        "if p_value <= alpha:\n",
        "    conclusion = \"Null Hypothesis is rejected.\"\n",
        "        \n",
        "print(\"chisquare-score is:\", chi_square, \" and p value is:\", p_value)\n",
        "print(conclusion)\n",
        "    \n",
        "# Pendekatan dengan critical value\n",
        "print(\"\\n--------------------------------------------------------------------------------------\")\n",
        "print(\"Approach 2: The critical value approach to hypothesis testing in the decision rule\")\n",
        "critical_value = stats.chi2.ppf(1-alpha, (len(rows)-1)*(len(columns)-1))\n",
        "conclusion = \"Failed to reject the null hypothesis.\"\n",
        "if chi_square > critical_value:\n",
        "    conclusion = \"Null Hypothesis is rejected.\"\n",
        "        \n",
        "print(\"chisquare-score is:\", chi_square, \" and critical value is:\", critical_value)\n",
        "print(conclusion)"
      ]
    },
    {
      "cell_type": "markdown",
      "metadata": {
        "id": "rWm8Bs-Rxufw"
      },
      "source": [
        "berdasarkan perhitangan chi-square test, diambil kesimpulan bahwa bisa jadi terdapat korelasi antara income dengan workclass. Akan tetapi, berdasarkan grafik, tidak ada hubungan khusus antara workclass dengan income yang mendefinisikan kelas income. conclusion : workclass tidak dimasukkan sebagai fitur ke model ML"
      ]
    },
    {
      "cell_type": "markdown",
      "metadata": {
        "id": "V8C_FXs5xufw"
      },
      "source": [
        "### 4.3.7. Melihat korelasi income dan marital_status"
      ]
    },
    {
      "cell_type": "markdown",
      "metadata": {
        "id": "GXbO7-frxufx"
      },
      "source": [
        "grafik korelasi"
      ]
    },
    {
      "cell_type": "code",
      "execution_count": 26,
      "metadata": {
        "colab": {
          "base_uri": "https://localhost:8080/",
          "height": 0
        },
        "id": "LBmxMXtdxufx",
        "outputId": "6a85fa6a-6d16-461f-ba26-28dad1fced76"
      },
      "outputs": [
        {
          "output_type": "display_data",
          "data": {
            "text/plain": [
              "<Figure size 1080x576 with 1 Axes>"
            ],
            "image/png": "[encoded data removed]"
          },
          "metadata": {
            "needs_background": "light"
          }
        }
      ],
      "source": [
        "fig, axes = plt.subplots(ncols=1,figsize=(15,8))\n",
        "axes.hist(df_new[df_new['income_bracket'] == ' >50K'].marital_status,\n",
        "         histtype='step', label='>50K')\n",
        "axes.hist(df_new[df_new['income_bracket'] == ' <=50K'].marital_status,\n",
        "         histtype='step', label='<=50K')\n",
        "axes.set_title('Grafik Distribusi Income berdasarkan marital_status')\n",
        "axes.legend()\n",
        "axes.set_ylabel('count')\n",
        "axes.set_xlabel('marital_status')\n",
        "axes.grid()"
      ]
    },
    {
      "cell_type": "markdown",
      "metadata": {
        "id": "vJZ_lpCcxufy"
      },
      "source": [
        "Berdasarkan grafik:\n",
        "- sebagian besar data ini adalah orang-orang yang memiliki marital status 'Married-civ-spouse'.\n",
        "- orang-orang dengan marital status 'Never-married', ' Divorced', ' Married-spouse-absent', ' Separated', ' Widowed' memiliki distribusi yang lebih banyak dengan income <=50K"
      ]
    },
    {
      "cell_type": "markdown",
      "metadata": {
        "id": "6SG_6PYXxufy"
      },
      "source": [
        "Chi-Square marital_status"
      ]
    },
    {
      "cell_type": "code",
      "execution_count": 27,
      "metadata": {
        "colab": {
          "base_uri": "https://localhost:8080/"
        },
        "id": "e_ryNhAUxufy",
        "outputId": "1ff4f769-cb7e-4b8c-9a34-77734ad7783c"
      },
      "outputs": [
        {
          "output_type": "stream",
          "name": "stdout",
          "text": [
            "Approach 1: The p-value approach to hypothesis testing in the decision rule\n",
            "chisquare-score is: 4247.920606342834  and p value is: 0.0\n",
            "Null Hypothesis is rejected.\n",
            "\n",
            "--------------------------------------------------------------------------------------\n",
            "Approach 2: The critical value approach to hypothesis testing in the decision rule\n",
            "chisquare-score is: 4247.920606342834  and critical value is: 12.591587243743977\n",
            "Null Hypothesis is rejected.\n"
          ]
        }
      ],
      "source": [
        "# Membuat contingency table\n",
        "data_crosstab = pd.crosstab(df_new['income_bracket'],\n",
        "                            df_new['marital_status'],\n",
        "                           margins=True, margins_name=\"Total\")\n",
        "\n",
        "# Mendefinisikan significance level\n",
        "alpha = 0.05\n",
        "\n",
        "# Perhitungan Chisquare\n",
        "chi_square = 0\n",
        "rows = data['income_bracket'].unique()\n",
        "columns = data['marital_status'].unique()\n",
        "for i in columns:\n",
        "    for j in rows:\n",
        "        O = data_crosstab[i][j]\n",
        "        E = data_crosstab[i]['Total'] * data_crosstab['Total'][j] / data_crosstab['Total']['Total']\n",
        "        chi_square += (O-E)**2/E\n",
        "\n",
        "# Pendekatan dengan p-value\n",
        "print(\"Approach 1: The p-value approach to hypothesis testing in the decision rule\")\n",
        "p_value = 1 - stats.chi2.cdf(chi_square, (len(rows)-1)*(len(columns)-1))\n",
        "conclusion = \"Failed to reject the null hypothesis.\"\n",
        "if p_value <= alpha:\n",
        "    conclusion = \"Null Hypothesis is rejected.\"\n",
        "        \n",
        "print(\"chisquare-score is:\", chi_square, \" and p value is:\", p_value)\n",
        "print(conclusion)\n",
        "    \n",
        "# Pendekatan dengan critical value\n",
        "print(\"\\n--------------------------------------------------------------------------------------\")\n",
        "print(\"Approach 2: The critical value approach to hypothesis testing in the decision rule\")\n",
        "critical_value = stats.chi2.ppf(1-alpha, (len(rows)-1)*(len(columns)-1))\n",
        "conclusion = \"Failed to reject the null hypothesis.\"\n",
        "if chi_square > critical_value:\n",
        "    conclusion = \"Null Hypothesis is rejected.\"\n",
        "        \n",
        "print(\"chisquare-score is:\", chi_square, \" and critical value is:\", critical_value)\n",
        "print(conclusion)"
      ]
    },
    {
      "cell_type": "markdown",
      "metadata": {
        "id": "e0-Yjp1Lxufz"
      },
      "source": [
        "berdasarkan perhitangan chi-square test, diambil kesimpulan bahwa bisa jadi terdapat korelasi antara income dengan marital status. Akan tetapi, menurut saya marital status dapat diwakili dengan relationshop yang memiliki cardinality lebih rendah. conclusion : marital status tidak dimasukkan sebagai fitur ke model ML"
      ]
    },
    {
      "cell_type": "markdown",
      "metadata": {
        "id": "8LSP7lwZxuf0"
      },
      "source": [
        "### 4.3.8. Melihat korelasi income dan occupation"
      ]
    },
    {
      "cell_type": "markdown",
      "metadata": {
        "id": "t-LdRCETxuf0"
      },
      "source": [
        "grafik korelasi"
      ]
    },
    {
      "cell_type": "code",
      "execution_count": 28,
      "metadata": {
        "colab": {
          "base_uri": "https://localhost:8080/",
          "height": 0
        },
        "id": "VkwYCzIQxuf1",
        "outputId": "5ee9bd59-5a21-4d87-8588-bca3a1003423"
      },
      "outputs": [
        {
          "output_type": "display_data",
          "data": {
            "text/plain": [
              "<Figure size 1080x576 with 1 Axes>"
            ],
            "image/png": "[encoded data removed]"
          },
          "metadata": {
            "needs_background": "light"
          }
        }
      ],
      "source": [
        "fig, axes = plt.subplots(ncols=1,figsize=(15,8))\n",
        "axes.hist(data_copy[data_copy['income_bracket'] == ' >50K'].occupation,\n",
        "         histtype='step', label='>50K')\n",
        "axes.hist(data_copy[data_copy['income_bracket'] == ' <=50K'].occupation,\n",
        "         histtype='step', label='<=50K')\n",
        "axes.set_title('Grafik Distribusi Income berdasarkan occupation')\n",
        "axes.legend()\n",
        "axes.set_ylabel('count')\n",
        "axes.set_xlabel('occupation')\n",
        "axes.tick_params(axis='x', labelrotation = 45)\n",
        "axes.grid()"
      ]
    },
    {
      "cell_type": "markdown",
      "metadata": {
        "id": "6gjB0hopxuf3"
      },
      "source": [
        "Berdasarkan grafik:\n",
        "- distribusi data untuk kolom occupation cukup merata.\n",
        "- occupation 'Armed-Forces' memiliki kemungkinan income >50K lebih tinggi.\n",
        "- occupation 'Farming-Fishing' memiliki income <=50K lebih tinggi."
      ]
    },
    {
      "cell_type": "markdown",
      "metadata": {
        "id": "_7gNuf-ixuf3"
      },
      "source": [
        "Chi-Square occupation"
      ]
    },
    {
      "cell_type": "markdown",
      "metadata": {
        "id": "1GWq4GIrxuf3"
      },
      "source": [
        "Kolom native_num memiliki data null sehingga tidak dapat ditest menggunakan perhitungan chi-square."
      ]
    },
    {
      "cell_type": "markdown",
      "metadata": {
        "id": "oAiNEIxdxuf4"
      },
      "source": [
        "conclusion : occupation dimasukkan ke model karena memiliki pattern yang menarik di setiap kelasnya."
      ]
    },
    {
      "cell_type": "markdown",
      "metadata": {
        "id": "U3uGa5Oyxuf4"
      },
      "source": [
        "### 4.3.9. Melihat korelasi income dan relationship"
      ]
    },
    {
      "cell_type": "markdown",
      "metadata": {
        "id": "qtOMQjiqxuf5"
      },
      "source": [
        "grafik korelasi"
      ]
    },
    {
      "cell_type": "code",
      "execution_count": 29,
      "metadata": {
        "colab": {
          "base_uri": "https://localhost:8080/",
          "height": 0
        },
        "id": "Es8VUx7Lxuf5",
        "outputId": "77d7f48c-11d3-4831-cad4-70a0982b3138"
      },
      "outputs": [
        {
          "output_type": "display_data",
          "data": {
            "text/plain": [
              "<Figure size 1080x576 with 1 Axes>"
            ],
            "image/png": "[encoded data removed]"
          },
          "metadata": {
            "needs_background": "light"
          }
        }
      ],
      "source": [
        "fig, axes = plt.subplots(ncols=1,figsize=(15,8))\n",
        "axes.hist(df_new[df_new['income_bracket'] == ' >50K'].relationship,\n",
        "         histtype='step', label='>50K')\n",
        "axes.hist(df_new[df_new['income_bracket'] == ' <=50K'].relationship,\n",
        "         histtype='step', label='<=50K')\n",
        "axes.set_title('Grafik Distribusi Income berdasarkan relationship')\n",
        "axes.legend()\n",
        "axes.set_ylabel('count')\n",
        "axes.set_xlabel('relationship')\n",
        "axes.grid()"
      ]
    },
    {
      "cell_type": "markdown",
      "metadata": {
        "id": "_6Ej2lf3xuf7"
      },
      "source": [
        "Berdasarkan grafik:\n",
        "- relationship status 'Wife' memiliki kemungkinan yang sama antara income >50K dan <=50K\n",
        "- relationship status 'Husband' memiliki sebaran data paling tinggi daripada relationship status lainnya.\n",
        "- kemungkinan income >50K paling besar adalah jika orang tersebut memiliki status relationship sebagai 'Husband'"
      ]
    },
    {
      "cell_type": "markdown",
      "metadata": {
        "id": "pm9CXAagxuf7"
      },
      "source": [
        "Chi-Square relationship"
      ]
    },
    {
      "cell_type": "code",
      "execution_count": 30,
      "metadata": {
        "colab": {
          "base_uri": "https://localhost:8080/"
        },
        "id": "bS-YGCNYxuf8",
        "outputId": "fb7ac898-2aa7-469b-c32e-cb40b51f453a"
      },
      "outputs": [
        {
          "output_type": "stream",
          "name": "stdout",
          "text": [
            "Approach 1: The p-value approach to hypothesis testing in the decision rule\n",
            "chisquare-score is: 4265.36958158591  and p value is: 0.0\n",
            "Null Hypothesis is rejected.\n",
            "\n",
            "--------------------------------------------------------------------------------------\n",
            "Approach 2: The critical value approach to hypothesis testing in the decision rule\n",
            "chisquare-score is: 4265.36958158591  and critical value is: 9.487729036781154\n",
            "Null Hypothesis is rejected.\n"
          ]
        }
      ],
      "source": [
        "# Membuat contingency table\n",
        "data_crosstab = pd.crosstab(df_new['income_bracket'],\n",
        "                            df_new['relationship'],\n",
        "                           margins=True, margins_name=\"Total\")\n",
        "\n",
        "# Mendefinisikan significance level\n",
        "alpha = 0.05\n",
        "\n",
        "# Perhitungan Chisquare\n",
        "chi_square = 0\n",
        "rows = data['income_bracket'].unique()\n",
        "columns = data['relationship'].unique()\n",
        "for i in columns:\n",
        "    for j in rows:\n",
        "        O = data_crosstab[i][j]\n",
        "        E = data_crosstab[i]['Total'] * data_crosstab['Total'][j] / data_crosstab['Total']['Total']\n",
        "        chi_square += (O-E)**2/E\n",
        "\n",
        "# Pendekatan dengan p-value\n",
        "print(\"Approach 1: The p-value approach to hypothesis testing in the decision rule\")\n",
        "p_value = 1 - stats.chi2.cdf(chi_square, (len(rows)-1)*(len(columns)-1))\n",
        "conclusion = \"Failed to reject the null hypothesis.\"\n",
        "if p_value <= alpha:\n",
        "    conclusion = \"Null Hypothesis is rejected.\"\n",
        "        \n",
        "print(\"chisquare-score is:\", chi_square, \" and p value is:\", p_value)\n",
        "print(conclusion)\n",
        "    \n",
        "# Pendekatan dengan critical value\n",
        "print(\"\\n--------------------------------------------------------------------------------------\")\n",
        "print(\"Approach 2: The critical value approach to hypothesis testing in the decision rule\")\n",
        "critical_value = stats.chi2.ppf(1-alpha, (len(rows)-1)*(len(columns)-1))\n",
        "conclusion = \"Failed to reject the null hypothesis.\"\n",
        "if chi_square > critical_value:\n",
        "    conclusion = \"Null Hypothesis is rejected.\"\n",
        "        \n",
        "print(\"chisquare-score is:\", chi_square, \" and critical value is:\", critical_value)\n",
        "print(conclusion)"
      ]
    },
    {
      "cell_type": "markdown",
      "metadata": {
        "id": "57ShVvkIxuf9"
      },
      "source": [
        "berdasarkan perhitangan chi-square test, diambil kesimpulan bahwa bisa jadi terdapat korelasi antara income dengan relationship. conclusion : relationship dimasukkan sebagai fitur ke model ML"
      ]
    },
    {
      "cell_type": "markdown",
      "metadata": {
        "id": "4TEmDWJRxuf9"
      },
      "source": [
        "### 4.3.10. Melihat korelasi income dan race"
      ]
    },
    {
      "cell_type": "markdown",
      "metadata": {
        "id": "acul2bInxuf-"
      },
      "source": [
        "grafik korelasi"
      ]
    },
    {
      "cell_type": "code",
      "execution_count": 31,
      "metadata": {
        "colab": {
          "base_uri": "https://localhost:8080/",
          "height": 0
        },
        "id": "KaVLuIuhxuf-",
        "outputId": "1b55367d-88d0-4e48-ad4c-9fe9853b7bea"
      },
      "outputs": [
        {
          "output_type": "display_data",
          "data": {
            "text/plain": [
              "<Figure size 1080x576 with 1 Axes>"
            ],
            "image/png": "[encoded data removed]"
          },
          "metadata": {
            "needs_background": "light"
          }
        }
      ],
      "source": [
        "fig, axes = plt.subplots(ncols=1,figsize=(15,8))\n",
        "axes.hist(df_new[df_new['income_bracket'] == ' >50K'].race,\n",
        "         histtype='step', label='>50K')\n",
        "axes.hist(df_new[df_new['income_bracket'] == ' <=50K'].race,\n",
        "         histtype='step', label='<=50K')\n",
        "axes.set_title('Grafik Distribusi Income berdasarkan race')\n",
        "axes.legend()\n",
        "axes.set_ylabel('count')\n",
        "axes.set_xlabel('race')\n",
        "axes.grid()"
      ]
    },
    {
      "cell_type": "markdown",
      "metadata": {
        "id": "VHhv6gjvxuf_"
      },
      "source": [
        "Berdasarkan grafik:\n",
        "- race 'White' mendominasi data. Wajar saja karena sensus dilakukan di USA.\n",
        "- perbandingan antara income dan race num cukup rata jadi kalau dilihat dari grafik, hubungan antara keduanya kurang kuat. Namun ini baru asumsi, akan dikaji lebih dalam melalui chi-square test."
      ]
    },
    {
      "cell_type": "markdown",
      "metadata": {
        "id": "tZx55c9-xuf_"
      },
      "source": [
        "Chi-Square race"
      ]
    },
    {
      "cell_type": "code",
      "execution_count": 32,
      "metadata": {
        "colab": {
          "base_uri": "https://localhost:8080/"
        },
        "id": "8zv5oyTuxugA",
        "outputId": "260d78af-e1a6-4337-d7b2-c21d28307d6d"
      },
      "outputs": [
        {
          "output_type": "stream",
          "name": "stdout",
          "text": [
            "Approach 1: The p-value approach to hypothesis testing in the decision rule\n",
            "chisquare-score is: 294.6871730581622  and p value is: 0.0\n",
            "Null Hypothesis is rejected.\n",
            "\n",
            "--------------------------------------------------------------------------------------\n",
            "Approach 2: The critical value approach to hypothesis testing in the decision rule\n",
            "chisquare-score is: 294.6871730581622  and critical value is: 9.487729036781154\n",
            "Null Hypothesis is rejected.\n"
          ]
        }
      ],
      "source": [
        "# Membuat contingency table\n",
        "data_crosstab = pd.crosstab(df_new['income_bracket'],\n",
        "                            df_new['race'],\n",
        "                           margins=True, margins_name=\"Total\")\n",
        "\n",
        "# Mendefinisikan significance level\n",
        "alpha = 0.05\n",
        "\n",
        "# Perhitungan Chisquare\n",
        "chi_square = 0\n",
        "rows = data['income_bracket'].unique()\n",
        "columns = data['race'].unique()\n",
        "for i in columns:\n",
        "    for j in rows:\n",
        "        O = data_crosstab[i][j]\n",
        "        E = data_crosstab[i]['Total'] * data_crosstab['Total'][j] / data_crosstab['Total']['Total']\n",
        "        chi_square += (O-E)**2/E\n",
        "\n",
        "# Pendekatan dengan p-value\n",
        "print(\"Approach 1: The p-value approach to hypothesis testing in the decision rule\")\n",
        "p_value = 1 - stats.chi2.cdf(chi_square, (len(rows)-1)*(len(columns)-1))\n",
        "conclusion = \"Failed to reject the null hypothesis.\"\n",
        "if p_value <= alpha:\n",
        "    conclusion = \"Null Hypothesis is rejected.\"\n",
        "        \n",
        "print(\"chisquare-score is:\", chi_square, \" and p value is:\", p_value)\n",
        "print(conclusion)\n",
        "    \n",
        "# Pendekatan dengan critical value\n",
        "print(\"\\n--------------------------------------------------------------------------------------\")\n",
        "print(\"Approach 2: The critical value approach to hypothesis testing in the decision rule\")\n",
        "critical_value = stats.chi2.ppf(1-alpha, (len(rows)-1)*(len(columns)-1))\n",
        "conclusion = \"Failed to reject the null hypothesis.\"\n",
        "if chi_square > critical_value:\n",
        "    conclusion = \"Null Hypothesis is rejected.\"\n",
        "        \n",
        "print(\"chisquare-score is:\", chi_square, \" and critical value is:\", critical_value)\n",
        "print(conclusion)"
      ]
    },
    {
      "cell_type": "markdown",
      "metadata": {
        "id": "gGlnlFpIxugB"
      },
      "source": [
        "berdasarkan perhitangan chi-square test, diambil kesimpulan bahwa bisa jadi terdapat korelasi antara income dengan race. Akan tetapi, jika dilihat dari grafik histogram, saya tidak yakin bahwa race memiliki pengaruh yang signifikan/valid terhadap prediksi income. conclusion : race tidak dimasukkan sebagai fitur ke model ML"
      ]
    },
    {
      "cell_type": "markdown",
      "metadata": {
        "id": "E824t8T-xugB"
      },
      "source": [
        "### 4.3.11. Melihat korelasi income dan sex"
      ]
    },
    {
      "cell_type": "markdown",
      "metadata": {
        "id": "pBqlxTXKxugB"
      },
      "source": [
        "grafik korelasi"
      ]
    },
    {
      "cell_type": "code",
      "execution_count": 33,
      "metadata": {
        "colab": {
          "base_uri": "https://localhost:8080/",
          "height": 0
        },
        "id": "ToAKwzMdxugC",
        "outputId": "dcbfef61-bd1d-46f8-c46f-4e4124e33e84"
      },
      "outputs": [
        {
          "output_type": "display_data",
          "data": {
            "text/plain": [
              "<Figure size 1080x576 with 1 Axes>"
            ],
            "image/png": "[encoded data removed]"
          },
          "metadata": {
            "needs_background": "light"
          }
        }
      ],
      "source": [
        "fig, axes = plt.subplots(ncols=1,figsize=(15,8))\n",
        "axes.hist(df_new[df_new['income_bracket'] == ' >50K'].sex,\n",
        "         histtype='step', label='>50K')\n",
        "axes.hist(df_new[df_new['income_bracket'] == ' <=50K'].sex,\n",
        "         histtype='step', label='<=50K')\n",
        "axes.set_title('Grafik Distribusi Income berdasarkan sex')\n",
        "axes.legend()\n",
        "axes.set_ylabel('count')\n",
        "axes.set_xlabel('sex')\n",
        "axes.grid()"
      ]
    },
    {
      "cell_type": "markdown",
      "metadata": {
        "id": "-qAZXAQExugD"
      },
      "source": [
        "Berdasarkan grafik:\n",
        "- sebagian besar data ini adalah orang-orang dengan gender 'Male'. Hal ini sesuai dengan analisis seblumnya dimana relationship paling banyak adalah 'Husband'.\n",
        "- orang-orang dengan gender Male otonatis memiliki peluang income >50K lebih tinggi."
      ]
    },
    {
      "cell_type": "markdown",
      "metadata": {
        "id": "pZ_a6I2FxugD"
      },
      "source": [
        "Chi-Square sex"
      ]
    },
    {
      "cell_type": "code",
      "execution_count": 34,
      "metadata": {
        "colab": {
          "base_uri": "https://localhost:8080/"
        },
        "id": "0P7VQuOYxugE",
        "outputId": "26f51aa2-41d6-4fb7-cbc3-862e193b8a1b"
      },
      "outputs": [
        {
          "output_type": "stream",
          "name": "stdout",
          "text": [
            "Approach 1: The p-value approach to hypothesis testing in the decision rule\n",
            "chisquare-score is: 1072.5868497460665  and p value is: 0.0\n",
            "Null Hypothesis is rejected.\n",
            "\n",
            "--------------------------------------------------------------------------------------\n",
            "Approach 2: The critical value approach to hypothesis testing in the decision rule\n",
            "chisquare-score is: 1072.5868497460665  and critical value is: 3.841458820694124\n",
            "Null Hypothesis is rejected.\n"
          ]
        }
      ],
      "source": [
        "# Membuat contingency table\n",
        "data_crosstab = pd.crosstab(df_new['income_bracket'],\n",
        "                            df_new['sex'],\n",
        "                           margins=True, margins_name=\"Total\")\n",
        "\n",
        "# Mendefinisikan significance level\n",
        "alpha = 0.05\n",
        "\n",
        "# Perhitungan Chisquare\n",
        "chi_square = 0\n",
        "rows = data['income_bracket'].unique()\n",
        "columns = data['sex'].unique()\n",
        "for i in columns:\n",
        "    for j in rows:\n",
        "        O = data_crosstab[i][j]\n",
        "        E = data_crosstab[i]['Total'] * data_crosstab['Total'][j] / data_crosstab['Total']['Total']\n",
        "        chi_square += (O-E)**2/E\n",
        "\n",
        "# Pendekatan dengan p-value\n",
        "print(\"Approach 1: The p-value approach to hypothesis testing in the decision rule\")\n",
        "p_value = 1 - stats.chi2.cdf(chi_square, (len(rows)-1)*(len(columns)-1))\n",
        "conclusion = \"Failed to reject the null hypothesis.\"\n",
        "if p_value <= alpha:\n",
        "    conclusion = \"Null Hypothesis is rejected.\"\n",
        "        \n",
        "print(\"chisquare-score is:\", chi_square, \" and p value is:\", p_value)\n",
        "print(conclusion)\n",
        "    \n",
        "# Pendekatan dengan critical value\n",
        "print(\"\\n--------------------------------------------------------------------------------------\")\n",
        "print(\"Approach 2: The critical value approach to hypothesis testing in the decision rule\")\n",
        "critical_value = stats.chi2.ppf(1-alpha, (len(rows)-1)*(len(columns)-1))\n",
        "conclusion = \"Failed to reject the null hypothesis.\"\n",
        "if chi_square > critical_value:\n",
        "    conclusion = \"Null Hypothesis is rejected.\"\n",
        "        \n",
        "print(\"chisquare-score is:\", chi_square, \" and critical value is:\", critical_value)\n",
        "print(conclusion)"
      ]
    },
    {
      "cell_type": "markdown",
      "metadata": {
        "id": "MwxTsrBfxugF"
      },
      "source": [
        "berdasarkan perhitangan chi-square test, diambil kesimpulan bahwa bisa jadi terdapat korelasi antara income dengan sex. conclusion : sex dimasukkan sebagai fitur ke model ML"
      ]
    },
    {
      "cell_type": "markdown",
      "metadata": {
        "id": "piYbjyFcxugF"
      },
      "source": [
        "### 4.3.12. Melihat korelasi income dan native"
      ]
    },
    {
      "cell_type": "markdown",
      "metadata": {
        "id": "bjyeQNJzxugG"
      },
      "source": [
        "grafik korelasi"
      ]
    },
    {
      "cell_type": "code",
      "execution_count": 35,
      "metadata": {
        "colab": {
          "base_uri": "https://localhost:8080/",
          "height": 0
        },
        "id": "mua3Pj5cxugG",
        "outputId": "20e03443-e4b5-4386-f6d6-76a07856a02f"
      },
      "outputs": [
        {
          "output_type": "display_data",
          "data": {
            "text/plain": [
              "<Figure size 2160x576 with 1 Axes>"
            ],
            "image/png": "[encoded data removed]"
          },
          "metadata": {
            "needs_background": "light"
          }
        }
      ],
      "source": [
        "fig, axes = plt.subplots(ncols=1,figsize=(30,8))\n",
        "axes.hist(data_copy[data_copy['income_bracket'] == ' >50K'].native_country,\n",
        "         histtype='step', label='>50K')\n",
        "axes.hist(data_copy[data_copy['income_bracket'] == ' <=50K'].native_country,\n",
        "         histtype='step', label='<=50K')\n",
        "axes.set_title('Grafik Distribusi Income berdasarkan native_country')\n",
        "axes.legend()\n",
        "axes.set_ylabel('count')\n",
        "axes.set_xlabel('native_country')\n",
        "axes.tick_params(axis='x', labelrotation = 40)\n",
        "axes.grid()"
      ]
    },
    {
      "cell_type": "markdown",
      "metadata": {
        "id": "A6N5B5yAxugH"
      },
      "source": [
        "berdasarkan grafik, persebaran data terbanyak adalah dari USA karena memang ini merupakan sensus di USA. menurut saya, kolom ini kurang berkorelasi terhadap income jadi tidak akan saya sertakan dalam pemodelan."
      ]
    },
    {
      "cell_type": "markdown",
      "metadata": {
        "id": "_TRcoCDTxugH"
      },
      "source": [
        "Chi-Square native"
      ]
    },
    {
      "cell_type": "markdown",
      "metadata": {
        "id": "KffuNVO4xugI"
      },
      "source": [
        "Kolom native_num memiliki data null sehingga tidak dapat ditest menggunakan perhitungan chi-square."
      ]
    },
    {
      "cell_type": "markdown",
      "metadata": {
        "id": "qaLJVPOcxugI"
      },
      "source": [
        "Jika dilihat dari grafik histogram, saya tidak yakin bahwa native country memiliki pengaruh yang signifikan/valid terhadap prediksi income. conclusion : native country tidak masuk dalam pemodelan."
      ]
    },
    {
      "cell_type": "markdown",
      "metadata": {
        "id": "GqTxs36MxugI"
      },
      "source": [
        "### fitur yang masuk dalam pemodelan :\n",
        "\n",
        "age, education, hours_per_week, occupation, relationship, dan sex"
      ]
    },
    {
      "cell_type": "markdown",
      "metadata": {
        "id": "g44ofgVTxugJ"
      },
      "source": [
        "## 4.2. Melihat statistik kolom numerik"
      ]
    },
    {
      "cell_type": "code",
      "execution_count": 36,
      "metadata": {
        "colab": {
          "base_uri": "https://localhost:8080/",
          "height": 0
        },
        "id": "qW4ktySZxugJ",
        "outputId": "76f35c29-abcf-47c5-c107-7e4b66917390"
      },
      "outputs": [
        {
          "output_type": "execute_result",
          "data": {
            "text/plain": [
              "                  count         mean          std   min   25%   50%   75%  \\\n",
              "age             21989.0    38.867206    12.989277  17.0  29.0  38.0  48.0   \n",
              "capital_gain    21989.0  1266.510755  8182.231491   0.0   0.0   0.0   0.0   \n",
              "capital_loss    21989.0    94.837237   417.188165   0.0   0.0   0.0   0.0   \n",
              "hours_per_week  21989.0    41.025376    12.245465   1.0  40.0  40.0  45.0   \n",
              "\n",
              "                    max  \n",
              "age                90.0  \n",
              "capital_gain    99999.0  \n",
              "capital_loss     3900.0  \n",
              "hours_per_week     99.0  "
            ],
            "text/html": [
              "\n",
              "  <div id=\"df-2b4a6adf-0f1c-46ac-85b8-d7b687c155bd\">\n",
              "    <div class=\"colab-df-container\">\n",
              "      <div>\n",
              "<style scoped>\n",
              "    .dataframe tbody tr th:only-of-type {\n",
              "        vertical-align: middle;\n",
              "    }\n",
              "\n",
              "    .dataframe tbody tr th {\n",
              "        vertical-align: top;\n",
              "    }\n",
              "\n",
              "    .dataframe thead th {\n",
              "        text-align: right;\n",
              "    }\n",
              "</style>\n",
              "<table border=\"1\" class=\"dataframe\">\n",
              "  <thead>\n",
              "    <tr style=\"text-align: right;\">\n",
              "      <th></th>\n",
              "      <th>count</th>\n",
              "      <th>mean</th>\n",
              "      <th>std</th>\n",
              "      <th>min</th>\n",
              "      <th>25%</th>\n",
              "      <th>50%</th>\n",
              "      <th>75%</th>\n",
              "      <th>max</th>\n",
              "    </tr>\n",
              "  </thead>\n",
              "  <tbody>\n",
              "    <tr>\n",
              "      <th>age</th>\n",
              "      <td>21989.0</td>\n",
              "      <td>38.867206</td>\n",
              "      <td>12.989277</td>\n",
              "      <td>17.0</td>\n",
              "      <td>29.0</td>\n",
              "      <td>38.0</td>\n",
              "      <td>48.0</td>\n",
              "      <td>90.0</td>\n",
              "    </tr>\n",
              "    <tr>\n",
              "      <th>capital_gain</th>\n",
              "      <td>21989.0</td>\n",
              "      <td>1266.510755</td>\n",
              "      <td>8182.231491</td>\n",
              "      <td>0.0</td>\n",
              "      <td>0.0</td>\n",
              "      <td>0.0</td>\n",
              "      <td>0.0</td>\n",
              "      <td>99999.0</td>\n",
              "    </tr>\n",
              "    <tr>\n",
              "      <th>capital_loss</th>\n",
              "      <td>21989.0</td>\n",
              "      <td>94.837237</td>\n",
              "      <td>417.188165</td>\n",
              "      <td>0.0</td>\n",
              "      <td>0.0</td>\n",
              "      <td>0.0</td>\n",
              "      <td>0.0</td>\n",
              "      <td>3900.0</td>\n",
              "    </tr>\n",
              "    <tr>\n",
              "      <th>hours_per_week</th>\n",
              "      <td>21989.0</td>\n",
              "      <td>41.025376</td>\n",
              "      <td>12.245465</td>\n",
              "      <td>1.0</td>\n",
              "      <td>40.0</td>\n",
              "      <td>40.0</td>\n",
              "      <td>45.0</td>\n",
              "      <td>99.0</td>\n",
              "    </tr>\n",
              "  </tbody>\n",
              "</table>\n",
              "</div>\n",
              "      <button class=\"colab-df-convert\" onclick=\"convertToInteractive('df-2b4a6adf-0f1c-46ac-85b8-d7b687c155bd')\"\n",
              "              title=\"Convert this dataframe to an interactive table.\"\n",
              "              style=\"display:none;\">\n",
              "        \n",
              "  <svg xmlns=\"http://www.w3.org/2000/svg\" height=\"24px\"viewBox=\"0 0 24 24\"\n",
              "       width=\"24px\">\n",
              "    <path d=\"M0 0h24v24H0V0z\" fill=\"none\"/>\n",
              "    <path d=\"M18.56 5.44l.94 2.06.94-2.06 2.06-.94-2.06-.94-.94-2.06-.94 2.06-2.06.94zm-11 1L8.5 8.5l.94-2.06 2.06-.94-2.06-.94L8.5 2.5l-.94 2.06-2.06.94zm10 10l.94 2.06.94-2.06 2.06-.94-2.06-.94-.94-2.06-.94 2.06-2.06.94z\"/><path d=\"M17.41 7.96l-1.37-1.37c-.4-.4-.92-.59-1.43-.59-.52 0-1.04.2-1.43.59L10.3 9.45l-7.72 7.72c-.78.78-.78 2.05 0 2.83L4 21.41c.39.39.9.59 1.41.59.51 0 1.02-.2 1.41-.59l7.78-7.78 2.81-2.81c.8-.78.8-2.07 0-2.86zM5.41 20L4 18.59l7.72-7.72 1.47 1.35L5.41 20z\"/>\n",
              "  </svg>\n",
              "      </button>\n",
              "      \n",
              "  <style>\n",
              "    .colab-df-container {\n",
              "      display:flex;\n",
              "      flex-wrap:wrap;\n",
              "      gap: 12px;\n",
              "    }\n",
              "\n",
              "    .colab-df-convert {\n",
              "      background-color: #E8F0FE;\n",
              "      border: none;\n",
              "      border-radius: 50%;\n",
              "      cursor: pointer;\n",
              "      display: none;\n",
              "      fill: #1967D2;\n",
              "      height: 32px;\n",
              "      padding: 0 0 0 0;\n",
              "      width: 32px;\n",
              "    }\n",
              "\n",
              "    .colab-df-convert:hover {\n",
              "      background-color: #E2EBFA;\n",
              "      box-shadow: 0px 1px 2px rgba(60, 64, 67, 0.3), 0px 1px 3px 1px rgba(60, 64, 67, 0.15);\n",
              "      fill: #174EA6;\n",
              "    }\n",
              "\n",
              "    [theme=dark] .colab-df-convert {\n",
              "      background-color: #3B4455;\n",
              "      fill: #D2E3FC;\n",
              "    }\n",
              "\n",
              "    [theme=dark] .colab-df-convert:hover {\n",
              "      background-color: #434B5C;\n",
              "      box-shadow: 0px 1px 3px 1px rgba(0, 0, 0, 0.15);\n",
              "      filter: drop-shadow(0px 1px 2px rgba(0, 0, 0, 0.3));\n",
              "      fill: #FFFFFF;\n",
              "    }\n",
              "  </style>\n",
              "\n",
              "      <script>\n",
              "        const buttonEl =\n",
              "          document.querySelector('#df-2b4a6adf-0f1c-46ac-85b8-d7b687c155bd button.colab-df-convert');\n",
              "        buttonEl.style.display =\n",
              "          google.colab.kernel.accessAllowed ? 'block' : 'none';\n",
              "\n",
              "        async function convertToInteractive(key) {\n",
              "          const element = document.querySelector('#df-2b4a6adf-0f1c-46ac-85b8-d7b687c155bd');\n",
              "          const dataTable =\n",
              "            await google.colab.kernel.invokeFunction('convertToInteractive',\n",
              "                                                     [key], {});\n",
              "          if (!dataTable) return;\n",
              "\n",
              "          const docLinkHtml = 'Like what you see? Visit the ' +\n",
              "            '<a target=\"_blank\" href=https://colab.research.google.com/notebooks/data_table.ipynb>data table notebook</a>'\n",
              "            + ' to learn more about interactive tables.';\n",
              "          element.innerHTML = '';\n",
              "          dataTable['output_type'] = 'display_data';\n",
              "          await google.colab.output.renderOutput(dataTable, element);\n",
              "          const docLink = document.createElement('div');\n",
              "          docLink.innerHTML = docLinkHtml;\n",
              "          element.appendChild(docLink);\n",
              "        }\n",
              "      </script>\n",
              "    </div>\n",
              "  </div>\n",
              "  "
            ]
          },
          "metadata": {},
          "execution_count": 36
        }
      ],
      "source": [
        "df_new.describe().T"
      ]
    },
    {
      "cell_type": "code",
      "execution_count": 37,
      "metadata": {
        "colab": {
          "base_uri": "https://localhost:8080/"
        },
        "id": "RznuOyvNxugK",
        "outputId": "8fa5c9d6-aee3-4277-e46b-7b25f1193fdf"
      },
      "outputs": [
        {
          "output_type": "stream",
          "name": "stdout",
          "text": [
            "<class 'pandas.core.frame.DataFrame'>\n",
            "RangeIndex: 21989 entries, 0 to 21988\n",
            "Data columns (total 13 columns):\n",
            " #   Column          Non-Null Count  Dtype \n",
            "---  ------          --------------  ----- \n",
            " 0   age             21989 non-null  int64 \n",
            " 1   workclass       21989 non-null  object\n",
            " 2   education       21989 non-null  object\n",
            " 3   marital_status  21989 non-null  object\n",
            " 4   occupation      21983 non-null  object\n",
            " 5   relationship    21989 non-null  object\n",
            " 6   race            21989 non-null  object\n",
            " 7   sex             21989 non-null  object\n",
            " 8   capital_gain    21989 non-null  int64 \n",
            " 9   capital_loss    21989 non-null  int64 \n",
            " 10  hours_per_week  21989 non-null  int64 \n",
            " 11  native_country  21599 non-null  object\n",
            " 12  income_bracket  21989 non-null  object\n",
            "dtypes: int64(4), object(9)\n",
            "memory usage: 2.2+ MB\n"
          ]
        }
      ],
      "source": [
        "df_new.info()"
      ]
    },
    {
      "cell_type": "markdown",
      "metadata": {
        "id": "HnSIWcKAxugL"
      },
      "source": [
        "# V. Data Preprocessing"
      ]
    },
    {
      "cell_type": "markdown",
      "metadata": {
        "id": "6jYCkfE5xugN"
      },
      "source": [
        "## 5.1. Drop kolom yang tidak dipakai untuk pemodelan"
      ]
    },
    {
      "cell_type": "code",
      "execution_count": 38,
      "metadata": {
        "colab": {
          "base_uri": "https://localhost:8080/",
          "height": 206
        },
        "id": "8a2mrH-6xugO",
        "outputId": "00ec725f-54d1-4270-c5a9-f99ea488613b"
      },
      "outputs": [
        {
          "output_type": "execute_result",
          "data": {
            "text/plain": [
              "   age workclass education       marital_status          occupation  \\\n",
              "0   39   Private       9th   Married-civ-spouse       Other-service   \n",
              "1   72   Private       9th   Married-civ-spouse     Exec-managerial   \n",
              "2   45   Private       9th   Married-civ-spouse   Machine-op-inspct   \n",
              "3   31   Private       9th   Married-civ-spouse     Exec-managerial   \n",
              "4   55   Private       9th   Married-civ-spouse        Tech-support   \n",
              "\n",
              "  relationship                 race      sex  capital_gain  capital_loss  \\\n",
              "0         Wife                Black   Female          3411             0   \n",
              "1         Wife   Asian-Pac-Islander   Female             0             0   \n",
              "2         Wife                White   Female             0             0   \n",
              "3         Wife                White   Female             0             0   \n",
              "4         Wife                White   Female             0             0   \n",
              "\n",
              "   hours_per_week  native_country income_bracket  \n",
              "0              34   United-States          <=50K  \n",
              "1              48   United-States           >50K  \n",
              "2              40   United-States           >50K  \n",
              "3              40   United-States          <=50K  \n",
              "4              23   United-States          <=50K  "
            ],
            "text/html": [
              "\n",
              "  <div id=\"df-f8f3d20a-6731-4798-b765-46987f7ba955\">\n",
              "    <div class=\"colab-df-container\">\n",
              "      <div>\n",
              "<style scoped>\n",
              "    .dataframe tbody tr th:only-of-type {\n",
              "        vertical-align: middle;\n",
              "    }\n",
              "\n",
              "    .dataframe tbody tr th {\n",
              "        vertical-align: top;\n",
              "    }\n",
              "\n",
              "    .dataframe thead th {\n",
              "        text-align: right;\n",
              "    }\n",
              "</style>\n",
              "<table border=\"1\" class=\"dataframe\">\n",
              "  <thead>\n",
              "    <tr style=\"text-align: right;\">\n",
              "      <th></th>\n",
              "      <th>age</th>\n",
              "      <th>workclass</th>\n",
              "      <th>education</th>\n",
              "      <th>marital_status</th>\n",
              "      <th>occupation</th>\n",
              "      <th>relationship</th>\n",
              "      <th>race</th>\n",
              "      <th>sex</th>\n",
              "      <th>capital_gain</th>\n",
              "      <th>capital_loss</th>\n",
              "      <th>hours_per_week</th>\n",
              "      <th>native_country</th>\n",
              "      <th>income_bracket</th>\n",
              "    </tr>\n",
              "  </thead>\n",
              "  <tbody>\n",
              "    <tr>\n",
              "      <th>0</th>\n",
              "      <td>39</td>\n",
              "      <td>Private</td>\n",
              "      <td>9th</td>\n",
              "      <td>Married-civ-spouse</td>\n",
              "      <td>Other-service</td>\n",
              "      <td>Wife</td>\n",
              "      <td>Black</td>\n",
              "      <td>Female</td>\n",
              "      <td>3411</td>\n",
              "      <td>0</td>\n",
              "      <td>34</td>\n",
              "      <td>United-States</td>\n",
              "      <td>&lt;=50K</td>\n",
              "    </tr>\n",
              "    <tr>\n",
              "      <th>1</th>\n",
              "      <td>72</td>\n",
              "      <td>Private</td>\n",
              "      <td>9th</td>\n",
              "      <td>Married-civ-spouse</td>\n",
              "      <td>Exec-managerial</td>\n",
              "      <td>Wife</td>\n",
              "      <td>Asian-Pac-Islander</td>\n",
              "      <td>Female</td>\n",
              "      <td>0</td>\n",
              "      <td>0</td>\n",
              "      <td>48</td>\n",
              "      <td>United-States</td>\n",
              "      <td>&gt;50K</td>\n",
              "    </tr>\n",
              "    <tr>\n",
              "      <th>2</th>\n",
              "      <td>45</td>\n",
              "      <td>Private</td>\n",
              "      <td>9th</td>\n",
              "      <td>Married-civ-spouse</td>\n",
              "      <td>Machine-op-inspct</td>\n",
              "      <td>Wife</td>\n",
              "      <td>White</td>\n",
              "      <td>Female</td>\n",
              "      <td>0</td>\n",
              "      <td>0</td>\n",
              "      <td>40</td>\n",
              "      <td>United-States</td>\n",
              "      <td>&gt;50K</td>\n",
              "    </tr>\n",
              "    <tr>\n",
              "      <th>3</th>\n",
              "      <td>31</td>\n",
              "      <td>Private</td>\n",
              "      <td>9th</td>\n",
              "      <td>Married-civ-spouse</td>\n",
              "      <td>Exec-managerial</td>\n",
              "      <td>Wife</td>\n",
              "      <td>White</td>\n",
              "      <td>Female</td>\n",
              "      <td>0</td>\n",
              "      <td>0</td>\n",
              "      <td>40</td>\n",
              "      <td>United-States</td>\n",
              "      <td>&lt;=50K</td>\n",
              "    </tr>\n",
              "    <tr>\n",
              "      <th>4</th>\n",
              "      <td>55</td>\n",
              "      <td>Private</td>\n",
              "      <td>9th</td>\n",
              "      <td>Married-civ-spouse</td>\n",
              "      <td>Tech-support</td>\n",
              "      <td>Wife</td>\n",
              "      <td>White</td>\n",
              "      <td>Female</td>\n",
              "      <td>0</td>\n",
              "      <td>0</td>\n",
              "      <td>23</td>\n",
              "      <td>United-States</td>\n",
              "      <td>&lt;=50K</td>\n",
              "    </tr>\n",
              "  </tbody>\n",
              "</table>\n",
              "</div>\n",
              "      <button class=\"colab-df-convert\" onclick=\"convertToInteractive('df-f8f3d20a-6731-4798-b765-46987f7ba955')\"\n",
              "              title=\"Convert this dataframe to an interactive table.\"\n",
              "              style=\"display:none;\">\n",
              "        \n",
              "  <svg xmlns=\"http://www.w3.org/2000/svg\" height=\"24px\"viewBox=\"0 0 24 24\"\n",
              "       width=\"24px\">\n",
              "    <path d=\"M0 0h24v24H0V0z\" fill=\"none\"/>\n",
              "    <path d=\"M18.56 5.44l.94 2.06.94-2.06 2.06-.94-2.06-.94-.94-2.06-.94 2.06-2.06.94zm-11 1L8.5 8.5l.94-2.06 2.06-.94-2.06-.94L8.5 2.5l-.94 2.06-2.06.94zm10 10l.94 2.06.94-2.06 2.06-.94-2.06-.94-.94-2.06-.94 2.06-2.06.94z\"/><path d=\"M17.41 7.96l-1.37-1.37c-.4-.4-.92-.59-1.43-.59-.52 0-1.04.2-1.43.59L10.3 9.45l-7.72 7.72c-.78.78-.78 2.05 0 2.83L4 21.41c.39.39.9.59 1.41.59.51 0 1.02-.2 1.41-.59l7.78-7.78 2.81-2.81c.8-.78.8-2.07 0-2.86zM5.41 20L4 18.59l7.72-7.72 1.47 1.35L5.41 20z\"/>\n",
              "  </svg>\n",
              "      </button>\n",
              "      \n",
              "  <style>\n",
              "    .colab-df-container {\n",
              "      display:flex;\n",
              "      flex-wrap:wrap;\n",
              "      gap: 12px;\n",
              "    }\n",
              "\n",
              "    .colab-df-convert {\n",
              "      background-color: #E8F0FE;\n",
              "      border: none;\n",
              "      border-radius: 50%;\n",
              "      cursor: pointer;\n",
              "      display: none;\n",
              "      fill: #1967D2;\n",
              "      height: 32px;\n",
              "      padding: 0 0 0 0;\n",
              "      width: 32px;\n",
              "    }\n",
              "\n",
              "    .colab-df-convert:hover {\n",
              "      background-color: #E2EBFA;\n",
              "      box-shadow: 0px 1px 2px rgba(60, 64, 67, 0.3), 0px 1px 3px 1px rgba(60, 64, 67, 0.15);\n",
              "      fill: #174EA6;\n",
              "    }\n",
              "\n",
              "    [theme=dark] .colab-df-convert {\n",
              "      background-color: #3B4455;\n",
              "      fill: #D2E3FC;\n",
              "    }\n",
              "\n",
              "    [theme=dark] .colab-df-convert:hover {\n",
              "      background-color: #434B5C;\n",
              "      box-shadow: 0px 1px 3px 1px rgba(0, 0, 0, 0.15);\n",
              "      filter: drop-shadow(0px 1px 2px rgba(0, 0, 0, 0.3));\n",
              "      fill: #FFFFFF;\n",
              "    }\n",
              "  </style>\n",
              "\n",
              "      <script>\n",
              "        const buttonEl =\n",
              "          document.querySelector('#df-f8f3d20a-6731-4798-b765-46987f7ba955 button.colab-df-convert');\n",
              "        buttonEl.style.display =\n",
              "          google.colab.kernel.accessAllowed ? 'block' : 'none';\n",
              "\n",
              "        async function convertToInteractive(key) {\n",
              "          const element = document.querySelector('#df-f8f3d20a-6731-4798-b765-46987f7ba955');\n",
              "          const dataTable =\n",
              "            await google.colab.kernel.invokeFunction('convertToInteractive',\n",
              "                                                     [key], {});\n",
              "          if (!dataTable) return;\n",
              "\n",
              "          const docLinkHtml = 'Like what you see? Visit the ' +\n",
              "            '<a target=\"_blank\" href=https://colab.research.google.com/notebooks/data_table.ipynb>data table notebook</a>'\n",
              "            + ' to learn more about interactive tables.';\n",
              "          element.innerHTML = '';\n",
              "          dataTable['output_type'] = 'display_data';\n",
              "          await google.colab.output.renderOutput(dataTable, element);\n",
              "          const docLink = document.createElement('div');\n",
              "          docLink.innerHTML = docLinkHtml;\n",
              "          element.appendChild(docLink);\n",
              "        }\n",
              "      </script>\n",
              "    </div>\n",
              "  </div>\n",
              "  "
            ]
          },
          "metadata": {},
          "execution_count": 38
        }
      ],
      "source": [
        "df_new.head()"
      ]
    },
    {
      "cell_type": "code",
      "execution_count": 39,
      "metadata": {
        "colab": {
          "base_uri": "https://localhost:8080/",
          "height": 206
        },
        "id": "OTVthXdGxugP",
        "outputId": "c0ee2d0c-0050-403b-b22e-e890966dd7f0"
      },
      "outputs": [
        {
          "output_type": "execute_result",
          "data": {
            "text/plain": [
              "   age education          occupation relationship      sex  hours_per_week  \\\n",
              "0   39       9th       Other-service         Wife   Female              34   \n",
              "1   72       9th     Exec-managerial         Wife   Female              48   \n",
              "2   45       9th   Machine-op-inspct         Wife   Female              40   \n",
              "3   31       9th     Exec-managerial         Wife   Female              40   \n",
              "4   55       9th        Tech-support         Wife   Female              23   \n",
              "\n",
              "  income_bracket  \n",
              "0          <=50K  \n",
              "1           >50K  \n",
              "2           >50K  \n",
              "3          <=50K  \n",
              "4          <=50K  "
            ],
            "text/html": [
              "\n",
              "  <div id=\"df-ee4ac155-4d3a-4733-b765-4f17fa8cb00e\">\n",
              "    <div class=\"colab-df-container\">\n",
              "      <div>\n",
              "<style scoped>\n",
              "    .dataframe tbody tr th:only-of-type {\n",
              "        vertical-align: middle;\n",
              "    }\n",
              "\n",
              "    .dataframe tbody tr th {\n",
              "        vertical-align: top;\n",
              "    }\n",
              "\n",
              "    .dataframe thead th {\n",
              "        text-align: right;\n",
              "    }\n",
              "</style>\n",
              "<table border=\"1\" class=\"dataframe\">\n",
              "  <thead>\n",
              "    <tr style=\"text-align: right;\">\n",
              "      <th></th>\n",
              "      <th>age</th>\n",
              "      <th>education</th>\n",
              "      <th>occupation</th>\n",
              "      <th>relationship</th>\n",
              "      <th>sex</th>\n",
              "      <th>hours_per_week</th>\n",
              "      <th>income_bracket</th>\n",
              "    </tr>\n",
              "  </thead>\n",
              "  <tbody>\n",
              "    <tr>\n",
              "      <th>0</th>\n",
              "      <td>39</td>\n",
              "      <td>9th</td>\n",
              "      <td>Other-service</td>\n",
              "      <td>Wife</td>\n",
              "      <td>Female</td>\n",
              "      <td>34</td>\n",
              "      <td>&lt;=50K</td>\n",
              "    </tr>\n",
              "    <tr>\n",
              "      <th>1</th>\n",
              "      <td>72</td>\n",
              "      <td>9th</td>\n",
              "      <td>Exec-managerial</td>\n",
              "      <td>Wife</td>\n",
              "      <td>Female</td>\n",
              "      <td>48</td>\n",
              "      <td>&gt;50K</td>\n",
              "    </tr>\n",
              "    <tr>\n",
              "      <th>2</th>\n",
              "      <td>45</td>\n",
              "      <td>9th</td>\n",
              "      <td>Machine-op-inspct</td>\n",
              "      <td>Wife</td>\n",
              "      <td>Female</td>\n",
              "      <td>40</td>\n",
              "      <td>&gt;50K</td>\n",
              "    </tr>\n",
              "    <tr>\n",
              "      <th>3</th>\n",
              "      <td>31</td>\n",
              "      <td>9th</td>\n",
              "      <td>Exec-managerial</td>\n",
              "      <td>Wife</td>\n",
              "      <td>Female</td>\n",
              "      <td>40</td>\n",
              "      <td>&lt;=50K</td>\n",
              "    </tr>\n",
              "    <tr>\n",
              "      <th>4</th>\n",
              "      <td>55</td>\n",
              "      <td>9th</td>\n",
              "      <td>Tech-support</td>\n",
              "      <td>Wife</td>\n",
              "      <td>Female</td>\n",
              "      <td>23</td>\n",
              "      <td>&lt;=50K</td>\n",
              "    </tr>\n",
              "  </tbody>\n",
              "</table>\n",
              "</div>\n",
              "      <button class=\"colab-df-convert\" onclick=\"convertToInteractive('df-ee4ac155-4d3a-4733-b765-4f17fa8cb00e')\"\n",
              "              title=\"Convert this dataframe to an interactive table.\"\n",
              "              style=\"display:none;\">\n",
              "        \n",
              "  <svg xmlns=\"http://www.w3.org/2000/svg\" height=\"24px\"viewBox=\"0 0 24 24\"\n",
              "       width=\"24px\">\n",
              "    <path d=\"M0 0h24v24H0V0z\" fill=\"none\"/>\n",
              "    <path d=\"M18.56 5.44l.94 2.06.94-2.06 2.06-.94-2.06-.94-.94-2.06-.94 2.06-2.06.94zm-11 1L8.5 8.5l.94-2.06 2.06-.94-2.06-.94L8.5 2.5l-.94 2.06-2.06.94zm10 10l.94 2.06.94-2.06 2.06-.94-2.06-.94-.94-2.06-.94 2.06-2.06.94z\"/><path d=\"M17.41 7.96l-1.37-1.37c-.4-.4-.92-.59-1.43-.59-.52 0-1.04.2-1.43.59L10.3 9.45l-7.72 7.72c-.78.78-.78 2.05 0 2.83L4 21.41c.39.39.9.59 1.41.59.51 0 1.02-.2 1.41-.59l7.78-7.78 2.81-2.81c.8-.78.8-2.07 0-2.86zM5.41 20L4 18.59l7.72-7.72 1.47 1.35L5.41 20z\"/>\n",
              "  </svg>\n",
              "      </button>\n",
              "      \n",
              "  <style>\n",
              "    .colab-df-container {\n",
              "      display:flex;\n",
              "      flex-wrap:wrap;\n",
              "      gap: 12px;\n",
              "    }\n",
              "\n",
              "    .colab-df-convert {\n",
              "      background-color: #E8F0FE;\n",
              "      border: none;\n",
              "      border-radius: 50%;\n",
              "      cursor: pointer;\n",
              "      display: none;\n",
              "      fill: #1967D2;\n",
              "      height: 32px;\n",
              "      padding: 0 0 0 0;\n",
              "      width: 32px;\n",
              "    }\n",
              "\n",
              "    .colab-df-convert:hover {\n",
              "      background-color: #E2EBFA;\n",
              "      box-shadow: 0px 1px 2px rgba(60, 64, 67, 0.3), 0px 1px 3px 1px rgba(60, 64, 67, 0.15);\n",
              "      fill: #174EA6;\n",
              "    }\n",
              "\n",
              "    [theme=dark] .colab-df-convert {\n",
              "      background-color: #3B4455;\n",
              "      fill: #D2E3FC;\n",
              "    }\n",
              "\n",
              "    [theme=dark] .colab-df-convert:hover {\n",
              "      background-color: #434B5C;\n",
              "      box-shadow: 0px 1px 3px 1px rgba(0, 0, 0, 0.15);\n",
              "      filter: drop-shadow(0px 1px 2px rgba(0, 0, 0, 0.3));\n",
              "      fill: #FFFFFF;\n",
              "    }\n",
              "  </style>\n",
              "\n",
              "      <script>\n",
              "        const buttonEl =\n",
              "          document.querySelector('#df-ee4ac155-4d3a-4733-b765-4f17fa8cb00e button.colab-df-convert');\n",
              "        buttonEl.style.display =\n",
              "          google.colab.kernel.accessAllowed ? 'block' : 'none';\n",
              "\n",
              "        async function convertToInteractive(key) {\n",
              "          const element = document.querySelector('#df-ee4ac155-4d3a-4733-b765-4f17fa8cb00e');\n",
              "          const dataTable =\n",
              "            await google.colab.kernel.invokeFunction('convertToInteractive',\n",
              "                                                     [key], {});\n",
              "          if (!dataTable) return;\n",
              "\n",
              "          const docLinkHtml = 'Like what you see? Visit the ' +\n",
              "            '<a target=\"_blank\" href=https://colab.research.google.com/notebooks/data_table.ipynb>data table notebook</a>'\n",
              "            + ' to learn more about interactive tables.';\n",
              "          element.innerHTML = '';\n",
              "          dataTable['output_type'] = 'display_data';\n",
              "          await google.colab.output.renderOutput(dataTable, element);\n",
              "          const docLink = document.createElement('div');\n",
              "          docLink.innerHTML = docLinkHtml;\n",
              "          element.appendChild(docLink);\n",
              "        }\n",
              "      </script>\n",
              "    </div>\n",
              "  </div>\n",
              "  "
            ]
          },
          "metadata": {},
          "execution_count": 39
        }
      ],
      "source": [
        "df_new.drop(columns=['capital_gain','capital_loss','workclass','marital_status', 'race', 'native_country'], inplace=True)\n",
        "df_new.head()"
      ]
    },
    {
      "cell_type": "markdown",
      "metadata": {
        "id": "-c_bi_DfxugQ"
      },
      "source": [
        "## 5.2. Get data for model inference"
      ]
    },
    {
      "cell_type": "code",
      "execution_count": 40,
      "metadata": {
        "colab": {
          "base_uri": "https://localhost:8080/",
          "height": 363
        },
        "id": "338oUAUfxugR",
        "outputId": "38d6f82e-a7d4-48e1-8688-16202c4deee7"
      },
      "outputs": [
        {
          "output_type": "execute_result",
          "data": {
            "text/plain": [
              "       age      education        occupation relationship      sex  \\\n",
              "13367   60   Some-college   Exec-managerial      Husband     Male   \n",
              "507     36        HS-grad      Adm-clerical         Wife   Female   \n",
              "16029   19        HS-grad             Sales    Own-child     Male   \n",
              "2924    81        HS-grad   Exec-managerial      Husband     Male   \n",
              "4442    51        HS-grad      Tech-support      Husband     Male   \n",
              "12112   49   Some-college             Sales      Husband     Male   \n",
              "17055   23      Bachelors   Exec-managerial    Own-child     Male   \n",
              "9165    48      Bachelors   Exec-managerial      Husband     Male   \n",
              "21615   23   Some-college     Other-service    Unmarried   Female   \n",
              "4565    56        HS-grad   Exec-managerial      Husband     Male   \n",
              "\n",
              "       hours_per_week income_bracket  \n",
              "13367              50          <=50K  \n",
              "507                40           >50K  \n",
              "16029              20          <=50K  \n",
              "2924               30          <=50K  \n",
              "4442               40           >50K  \n",
              "12112              60          <=50K  \n",
              "17055              30          <=50K  \n",
              "9165               60           >50K  \n",
              "21615              25          <=50K  \n",
              "4565               40          <=50K  "
            ],
            "text/html": [
              "\n",
              "  <div id=\"df-2d4ec9da-dbd4-457b-8b4b-506c556fc85b\">\n",
              "    <div class=\"colab-df-container\">\n",
              "      <div>\n",
              "<style scoped>\n",
              "    .dataframe tbody tr th:only-of-type {\n",
              "        vertical-align: middle;\n",
              "    }\n",
              "\n",
              "    .dataframe tbody tr th {\n",
              "        vertical-align: top;\n",
              "    }\n",
              "\n",
              "    .dataframe thead th {\n",
              "        text-align: right;\n",
              "    }\n",
              "</style>\n",
              "<table border=\"1\" class=\"dataframe\">\n",
              "  <thead>\n",
              "    <tr style=\"text-align: right;\">\n",
              "      <th></th>\n",
              "      <th>age</th>\n",
              "      <th>education</th>\n",
              "      <th>occupation</th>\n",
              "      <th>relationship</th>\n",
              "      <th>sex</th>\n",
              "      <th>hours_per_week</th>\n",
              "      <th>income_bracket</th>\n",
              "    </tr>\n",
              "  </thead>\n",
              "  <tbody>\n",
              "    <tr>\n",
              "      <th>13367</th>\n",
              "      <td>60</td>\n",
              "      <td>Some-college</td>\n",
              "      <td>Exec-managerial</td>\n",
              "      <td>Husband</td>\n",
              "      <td>Male</td>\n",
              "      <td>50</td>\n",
              "      <td>&lt;=50K</td>\n",
              "    </tr>\n",
              "    <tr>\n",
              "      <th>507</th>\n",
              "      <td>36</td>\n",
              "      <td>HS-grad</td>\n",
              "      <td>Adm-clerical</td>\n",
              "      <td>Wife</td>\n",
              "      <td>Female</td>\n",
              "      <td>40</td>\n",
              "      <td>&gt;50K</td>\n",
              "    </tr>\n",
              "    <tr>\n",
              "      <th>16029</th>\n",
              "      <td>19</td>\n",
              "      <td>HS-grad</td>\n",
              "      <td>Sales</td>\n",
              "      <td>Own-child</td>\n",
              "      <td>Male</td>\n",
              "      <td>20</td>\n",
              "      <td>&lt;=50K</td>\n",
              "    </tr>\n",
              "    <tr>\n",
              "      <th>2924</th>\n",
              "      <td>81</td>\n",
              "      <td>HS-grad</td>\n",
              "      <td>Exec-managerial</td>\n",
              "      <td>Husband</td>\n",
              "      <td>Male</td>\n",
              "      <td>30</td>\n",
              "      <td>&lt;=50K</td>\n",
              "    </tr>\n",
              "    <tr>\n",
              "      <th>4442</th>\n",
              "      <td>51</td>\n",
              "      <td>HS-grad</td>\n",
              "      <td>Tech-support</td>\n",
              "      <td>Husband</td>\n",
              "      <td>Male</td>\n",
              "      <td>40</td>\n",
              "      <td>&gt;50K</td>\n",
              "    </tr>\n",
              "    <tr>\n",
              "      <th>12112</th>\n",
              "      <td>49</td>\n",
              "      <td>Some-college</td>\n",
              "      <td>Sales</td>\n",
              "      <td>Husband</td>\n",
              "      <td>Male</td>\n",
              "      <td>60</td>\n",
              "      <td>&lt;=50K</td>\n",
              "    </tr>\n",
              "    <tr>\n",
              "      <th>17055</th>\n",
              "      <td>23</td>\n",
              "      <td>Bachelors</td>\n",
              "      <td>Exec-managerial</td>\n",
              "      <td>Own-child</td>\n",
              "      <td>Male</td>\n",
              "      <td>30</td>\n",
              "      <td>&lt;=50K</td>\n",
              "    </tr>\n",
              "    <tr>\n",
              "      <th>9165</th>\n",
              "      <td>48</td>\n",
              "      <td>Bachelors</td>\n",
              "      <td>Exec-managerial</td>\n",
              "      <td>Husband</td>\n",
              "      <td>Male</td>\n",
              "      <td>60</td>\n",
              "      <td>&gt;50K</td>\n",
              "    </tr>\n",
              "    <tr>\n",
              "      <th>21615</th>\n",
              "      <td>23</td>\n",
              "      <td>Some-college</td>\n",
              "      <td>Other-service</td>\n",
              "      <td>Unmarried</td>\n",
              "      <td>Female</td>\n",
              "      <td>25</td>\n",
              "      <td>&lt;=50K</td>\n",
              "    </tr>\n",
              "    <tr>\n",
              "      <th>4565</th>\n",
              "      <td>56</td>\n",
              "      <td>HS-grad</td>\n",
              "      <td>Exec-managerial</td>\n",
              "      <td>Husband</td>\n",
              "      <td>Male</td>\n",
              "      <td>40</td>\n",
              "      <td>&lt;=50K</td>\n",
              "    </tr>\n",
              "  </tbody>\n",
              "</table>\n",
              "</div>\n",
              "      <button class=\"colab-df-convert\" onclick=\"convertToInteractive('df-2d4ec9da-dbd4-457b-8b4b-506c556fc85b')\"\n",
              "              title=\"Convert this dataframe to an interactive table.\"\n",
              "              style=\"display:none;\">\n",
              "        \n",
              "  <svg xmlns=\"http://www.w3.org/2000/svg\" height=\"24px\"viewBox=\"0 0 24 24\"\n",
              "       width=\"24px\">\n",
              "    <path d=\"M0 0h24v24H0V0z\" fill=\"none\"/>\n",
              "    <path d=\"M18.56 5.44l.94 2.06.94-2.06 2.06-.94-2.06-.94-.94-2.06-.94 2.06-2.06.94zm-11 1L8.5 8.5l.94-2.06 2.06-.94-2.06-.94L8.5 2.5l-.94 2.06-2.06.94zm10 10l.94 2.06.94-2.06 2.06-.94-2.06-.94-.94-2.06-.94 2.06-2.06.94z\"/><path d=\"M17.41 7.96l-1.37-1.37c-.4-.4-.92-.59-1.43-.59-.52 0-1.04.2-1.43.59L10.3 9.45l-7.72 7.72c-.78.78-.78 2.05 0 2.83L4 21.41c.39.39.9.59 1.41.59.51 0 1.02-.2 1.41-.59l7.78-7.78 2.81-2.81c.8-.78.8-2.07 0-2.86zM5.41 20L4 18.59l7.72-7.72 1.47 1.35L5.41 20z\"/>\n",
              "  </svg>\n",
              "      </button>\n",
              "      \n",
              "  <style>\n",
              "    .colab-df-container {\n",
              "      display:flex;\n",
              "      flex-wrap:wrap;\n",
              "      gap: 12px;\n",
              "    }\n",
              "\n",
              "    .colab-df-convert {\n",
              "      background-color: #E8F0FE;\n",
              "      border: none;\n",
              "      border-radius: 50%;\n",
              "      cursor: pointer;\n",
              "      display: none;\n",
              "      fill: #1967D2;\n",
              "      height: 32px;\n",
              "      padding: 0 0 0 0;\n",
              "      width: 32px;\n",
              "    }\n",
              "\n",
              "    .colab-df-convert:hover {\n",
              "      background-color: #E2EBFA;\n",
              "      box-shadow: 0px 1px 2px rgba(60, 64, 67, 0.3), 0px 1px 3px 1px rgba(60, 64, 67, 0.15);\n",
              "      fill: #174EA6;\n",
              "    }\n",
              "\n",
              "    [theme=dark] .colab-df-convert {\n",
              "      background-color: #3B4455;\n",
              "      fill: #D2E3FC;\n",
              "    }\n",
              "\n",
              "    [theme=dark] .colab-df-convert:hover {\n",
              "      background-color: #434B5C;\n",
              "      box-shadow: 0px 1px 3px 1px rgba(0, 0, 0, 0.15);\n",
              "      filter: drop-shadow(0px 1px 2px rgba(0, 0, 0, 0.3));\n",
              "      fill: #FFFFFF;\n",
              "    }\n",
              "  </style>\n",
              "\n",
              "      <script>\n",
              "        const buttonEl =\n",
              "          document.querySelector('#df-2d4ec9da-dbd4-457b-8b4b-506c556fc85b button.colab-df-convert');\n",
              "        buttonEl.style.display =\n",
              "          google.colab.kernel.accessAllowed ? 'block' : 'none';\n",
              "\n",
              "        async function convertToInteractive(key) {\n",
              "          const element = document.querySelector('#df-2d4ec9da-dbd4-457b-8b4b-506c556fc85b');\n",
              "          const dataTable =\n",
              "            await google.colab.kernel.invokeFunction('convertToInteractive',\n",
              "                                                     [key], {});\n",
              "          if (!dataTable) return;\n",
              "\n",
              "          const docLinkHtml = 'Like what you see? Visit the ' +\n",
              "            '<a target=\"_blank\" href=https://colab.research.google.com/notebooks/data_table.ipynb>data table notebook</a>'\n",
              "            + ' to learn more about interactive tables.';\n",
              "          element.innerHTML = '';\n",
              "          dataTable['output_type'] = 'display_data';\n",
              "          await google.colab.output.renderOutput(dataTable, element);\n",
              "          const docLink = document.createElement('div');\n",
              "          docLink.innerHTML = docLinkHtml;\n",
              "          element.appendChild(docLink);\n",
              "        }\n",
              "      </script>\n",
              "    </div>\n",
              "  </div>\n",
              "  "
            ]
          },
          "metadata": {},
          "execution_count": 40
        }
      ],
      "source": [
        "# Get data for model inference.\n",
        "# Data inference tidak boleh ada di train dan test. jadi datanya tuh dibagi buat 3 peruntukan.\n",
        "\n",
        "data_inf = df_new.sample(10, random_state=9)   # ambil 10 sampel, random state gunanya untuk biar ga berubah2, nilainya 17. Nilainya terserah gada pengaruhnya\n",
        "data_inf"
      ]
    },
    {
      "cell_type": "code",
      "execution_count": 41,
      "metadata": {
        "colab": {
          "base_uri": "https://localhost:8080/",
          "height": 206
        },
        "id": "AcuhdfdxxugR",
        "outputId": "9b1e1bac-7712-4e3b-90e4-77246976be71"
      },
      "outputs": [
        {
          "output_type": "execute_result",
          "data": {
            "text/plain": [
              "   age education          occupation relationship      sex  hours_per_week  \\\n",
              "0   39       9th       Other-service         Wife   Female              34   \n",
              "1   72       9th     Exec-managerial         Wife   Female              48   \n",
              "2   45       9th   Machine-op-inspct         Wife   Female              40   \n",
              "3   31       9th     Exec-managerial         Wife   Female              40   \n",
              "4   55       9th        Tech-support         Wife   Female              23   \n",
              "\n",
              "  income_bracket  \n",
              "0          <=50K  \n",
              "1           >50K  \n",
              "2           >50K  \n",
              "3          <=50K  \n",
              "4          <=50K  "
            ],
            "text/html": [
              "\n",
              "  <div id=\"df-e524f836-ee48-41e6-8de5-c319543a2c10\">\n",
              "    <div class=\"colab-df-container\">\n",
              "      <div>\n",
              "<style scoped>\n",
              "    .dataframe tbody tr th:only-of-type {\n",
              "        vertical-align: middle;\n",
              "    }\n",
              "\n",
              "    .dataframe tbody tr th {\n",
              "        vertical-align: top;\n",
              "    }\n",
              "\n",
              "    .dataframe thead th {\n",
              "        text-align: right;\n",
              "    }\n",
              "</style>\n",
              "<table border=\"1\" class=\"dataframe\">\n",
              "  <thead>\n",
              "    <tr style=\"text-align: right;\">\n",
              "      <th></th>\n",
              "      <th>age</th>\n",
              "      <th>education</th>\n",
              "      <th>occupation</th>\n",
              "      <th>relationship</th>\n",
              "      <th>sex</th>\n",
              "      <th>hours_per_week</th>\n",
              "      <th>income_bracket</th>\n",
              "    </tr>\n",
              "  </thead>\n",
              "  <tbody>\n",
              "    <tr>\n",
              "      <th>0</th>\n",
              "      <td>39</td>\n",
              "      <td>9th</td>\n",
              "      <td>Other-service</td>\n",
              "      <td>Wife</td>\n",
              "      <td>Female</td>\n",
              "      <td>34</td>\n",
              "      <td>&lt;=50K</td>\n",
              "    </tr>\n",
              "    <tr>\n",
              "      <th>1</th>\n",
              "      <td>72</td>\n",
              "      <td>9th</td>\n",
              "      <td>Exec-managerial</td>\n",
              "      <td>Wife</td>\n",
              "      <td>Female</td>\n",
              "      <td>48</td>\n",
              "      <td>&gt;50K</td>\n",
              "    </tr>\n",
              "    <tr>\n",
              "      <th>2</th>\n",
              "      <td>45</td>\n",
              "      <td>9th</td>\n",
              "      <td>Machine-op-inspct</td>\n",
              "      <td>Wife</td>\n",
              "      <td>Female</td>\n",
              "      <td>40</td>\n",
              "      <td>&gt;50K</td>\n",
              "    </tr>\n",
              "    <tr>\n",
              "      <th>3</th>\n",
              "      <td>31</td>\n",
              "      <td>9th</td>\n",
              "      <td>Exec-managerial</td>\n",
              "      <td>Wife</td>\n",
              "      <td>Female</td>\n",
              "      <td>40</td>\n",
              "      <td>&lt;=50K</td>\n",
              "    </tr>\n",
              "    <tr>\n",
              "      <th>4</th>\n",
              "      <td>55</td>\n",
              "      <td>9th</td>\n",
              "      <td>Tech-support</td>\n",
              "      <td>Wife</td>\n",
              "      <td>Female</td>\n",
              "      <td>23</td>\n",
              "      <td>&lt;=50K</td>\n",
              "    </tr>\n",
              "  </tbody>\n",
              "</table>\n",
              "</div>\n",
              "      <button class=\"colab-df-convert\" onclick=\"convertToInteractive('df-e524f836-ee48-41e6-8de5-c319543a2c10')\"\n",
              "              title=\"Convert this dataframe to an interactive table.\"\n",
              "              style=\"display:none;\">\n",
              "        \n",
              "  <svg xmlns=\"http://www.w3.org/2000/svg\" height=\"24px\"viewBox=\"0 0 24 24\"\n",
              "       width=\"24px\">\n",
              "    <path d=\"M0 0h24v24H0V0z\" fill=\"none\"/>\n",
              "    <path d=\"M18.56 5.44l.94 2.06.94-2.06 2.06-.94-2.06-.94-.94-2.06-.94 2.06-2.06.94zm-11 1L8.5 8.5l.94-2.06 2.06-.94-2.06-.94L8.5 2.5l-.94 2.06-2.06.94zm10 10l.94 2.06.94-2.06 2.06-.94-2.06-.94-.94-2.06-.94 2.06-2.06.94z\"/><path d=\"M17.41 7.96l-1.37-1.37c-.4-.4-.92-.59-1.43-.59-.52 0-1.04.2-1.43.59L10.3 9.45l-7.72 7.72c-.78.78-.78 2.05 0 2.83L4 21.41c.39.39.9.59 1.41.59.51 0 1.02-.2 1.41-.59l7.78-7.78 2.81-2.81c.8-.78.8-2.07 0-2.86zM5.41 20L4 18.59l7.72-7.72 1.47 1.35L5.41 20z\"/>\n",
              "  </svg>\n",
              "      </button>\n",
              "      \n",
              "  <style>\n",
              "    .colab-df-container {\n",
              "      display:flex;\n",
              "      flex-wrap:wrap;\n",
              "      gap: 12px;\n",
              "    }\n",
              "\n",
              "    .colab-df-convert {\n",
              "      background-color: #E8F0FE;\n",
              "      border: none;\n",
              "      border-radius: 50%;\n",
              "      cursor: pointer;\n",
              "      display: none;\n",
              "      fill: #1967D2;\n",
              "      height: 32px;\n",
              "      padding: 0 0 0 0;\n",
              "      width: 32px;\n",
              "    }\n",
              "\n",
              "    .colab-df-convert:hover {\n",
              "      background-color: #E2EBFA;\n",
              "      box-shadow: 0px 1px 2px rgba(60, 64, 67, 0.3), 0px 1px 3px 1px rgba(60, 64, 67, 0.15);\n",
              "      fill: #174EA6;\n",
              "    }\n",
              "\n",
              "    [theme=dark] .colab-df-convert {\n",
              "      background-color: #3B4455;\n",
              "      fill: #D2E3FC;\n",
              "    }\n",
              "\n",
              "    [theme=dark] .colab-df-convert:hover {\n",
              "      background-color: #434B5C;\n",
              "      box-shadow: 0px 1px 3px 1px rgba(0, 0, 0, 0.15);\n",
              "      filter: drop-shadow(0px 1px 2px rgba(0, 0, 0, 0.3));\n",
              "      fill: #FFFFFF;\n",
              "    }\n",
              "  </style>\n",
              "\n",
              "      <script>\n",
              "        const buttonEl =\n",
              "          document.querySelector('#df-e524f836-ee48-41e6-8de5-c319543a2c10 button.colab-df-convert');\n",
              "        buttonEl.style.display =\n",
              "          google.colab.kernel.accessAllowed ? 'block' : 'none';\n",
              "\n",
              "        async function convertToInteractive(key) {\n",
              "          const element = document.querySelector('#df-e524f836-ee48-41e6-8de5-c319543a2c10');\n",
              "          const dataTable =\n",
              "            await google.colab.kernel.invokeFunction('convertToInteractive',\n",
              "                                                     [key], {});\n",
              "          if (!dataTable) return;\n",
              "\n",
              "          const docLinkHtml = 'Like what you see? Visit the ' +\n",
              "            '<a target=\"_blank\" href=https://colab.research.google.com/notebooks/data_table.ipynb>data table notebook</a>'\n",
              "            + ' to learn more about interactive tables.';\n",
              "          element.innerHTML = '';\n",
              "          dataTable['output_type'] = 'display_data';\n",
              "          await google.colab.output.renderOutput(dataTable, element);\n",
              "          const docLink = document.createElement('div');\n",
              "          docLink.innerHTML = docLinkHtml;\n",
              "          element.appendChild(docLink);\n",
              "        }\n",
              "      </script>\n",
              "    </div>\n",
              "  </div>\n",
              "  "
            ]
          },
          "metadata": {},
          "execution_count": 41
        }
      ],
      "source": [
        "# Remove inference-set\n",
        "\n",
        "data_train_test = df_new.drop(data_inf.index)\n",
        "data_train_test.head()"
      ]
    },
    {
      "cell_type": "code",
      "execution_count": 42,
      "metadata": {
        "colab": {
          "base_uri": "https://localhost:8080/",
          "height": 206
        },
        "id": "eqZtjj6MxugS",
        "outputId": "f0881211-d4e4-47cb-cdf2-6caaba6c59fb"
      },
      "outputs": [
        {
          "output_type": "execute_result",
          "data": {
            "text/plain": [
              "   age education          occupation relationship      sex  hours_per_week  \\\n",
              "0   39       9th       Other-service         Wife   Female              34   \n",
              "1   72       9th     Exec-managerial         Wife   Female              48   \n",
              "2   45       9th   Machine-op-inspct         Wife   Female              40   \n",
              "3   31       9th     Exec-managerial         Wife   Female              40   \n",
              "4   55       9th        Tech-support         Wife   Female              23   \n",
              "\n",
              "  income_bracket  \n",
              "0          <=50K  \n",
              "1           >50K  \n",
              "2           >50K  \n",
              "3          <=50K  \n",
              "4          <=50K  "
            ],
            "text/html": [
              "\n",
              "  <div id=\"df-f45d9f8a-d637-4edb-97f5-678ac22b4221\">\n",
              "    <div class=\"colab-df-container\">\n",
              "      <div>\n",
              "<style scoped>\n",
              "    .dataframe tbody tr th:only-of-type {\n",
              "        vertical-align: middle;\n",
              "    }\n",
              "\n",
              "    .dataframe tbody tr th {\n",
              "        vertical-align: top;\n",
              "    }\n",
              "\n",
              "    .dataframe thead th {\n",
              "        text-align: right;\n",
              "    }\n",
              "</style>\n",
              "<table border=\"1\" class=\"dataframe\">\n",
              "  <thead>\n",
              "    <tr style=\"text-align: right;\">\n",
              "      <th></th>\n",
              "      <th>age</th>\n",
              "      <th>education</th>\n",
              "      <th>occupation</th>\n",
              "      <th>relationship</th>\n",
              "      <th>sex</th>\n",
              "      <th>hours_per_week</th>\n",
              "      <th>income_bracket</th>\n",
              "    </tr>\n",
              "  </thead>\n",
              "  <tbody>\n",
              "    <tr>\n",
              "      <th>0</th>\n",
              "      <td>39</td>\n",
              "      <td>9th</td>\n",
              "      <td>Other-service</td>\n",
              "      <td>Wife</td>\n",
              "      <td>Female</td>\n",
              "      <td>34</td>\n",
              "      <td>&lt;=50K</td>\n",
              "    </tr>\n",
              "    <tr>\n",
              "      <th>1</th>\n",
              "      <td>72</td>\n",
              "      <td>9th</td>\n",
              "      <td>Exec-managerial</td>\n",
              "      <td>Wife</td>\n",
              "      <td>Female</td>\n",
              "      <td>48</td>\n",
              "      <td>&gt;50K</td>\n",
              "    </tr>\n",
              "    <tr>\n",
              "      <th>2</th>\n",
              "      <td>45</td>\n",
              "      <td>9th</td>\n",
              "      <td>Machine-op-inspct</td>\n",
              "      <td>Wife</td>\n",
              "      <td>Female</td>\n",
              "      <td>40</td>\n",
              "      <td>&gt;50K</td>\n",
              "    </tr>\n",
              "    <tr>\n",
              "      <th>3</th>\n",
              "      <td>31</td>\n",
              "      <td>9th</td>\n",
              "      <td>Exec-managerial</td>\n",
              "      <td>Wife</td>\n",
              "      <td>Female</td>\n",
              "      <td>40</td>\n",
              "      <td>&lt;=50K</td>\n",
              "    </tr>\n",
              "    <tr>\n",
              "      <th>4</th>\n",
              "      <td>55</td>\n",
              "      <td>9th</td>\n",
              "      <td>Tech-support</td>\n",
              "      <td>Wife</td>\n",
              "      <td>Female</td>\n",
              "      <td>23</td>\n",
              "      <td>&lt;=50K</td>\n",
              "    </tr>\n",
              "  </tbody>\n",
              "</table>\n",
              "</div>\n",
              "      <button class=\"colab-df-convert\" onclick=\"convertToInteractive('df-f45d9f8a-d637-4edb-97f5-678ac22b4221')\"\n",
              "              title=\"Convert this dataframe to an interactive table.\"\n",
              "              style=\"display:none;\">\n",
              "        \n",
              "  <svg xmlns=\"http://www.w3.org/2000/svg\" height=\"24px\"viewBox=\"0 0 24 24\"\n",
              "       width=\"24px\">\n",
              "    <path d=\"M0 0h24v24H0V0z\" fill=\"none\"/>\n",
              "    <path d=\"M18.56 5.44l.94 2.06.94-2.06 2.06-.94-2.06-.94-.94-2.06-.94 2.06-2.06.94zm-11 1L8.5 8.5l.94-2.06 2.06-.94-2.06-.94L8.5 2.5l-.94 2.06-2.06.94zm10 10l.94 2.06.94-2.06 2.06-.94-2.06-.94-.94-2.06-.94 2.06-2.06.94z\"/><path d=\"M17.41 7.96l-1.37-1.37c-.4-.4-.92-.59-1.43-.59-.52 0-1.04.2-1.43.59L10.3 9.45l-7.72 7.72c-.78.78-.78 2.05 0 2.83L4 21.41c.39.39.9.59 1.41.59.51 0 1.02-.2 1.41-.59l7.78-7.78 2.81-2.81c.8-.78.8-2.07 0-2.86zM5.41 20L4 18.59l7.72-7.72 1.47 1.35L5.41 20z\"/>\n",
              "  </svg>\n",
              "      </button>\n",
              "      \n",
              "  <style>\n",
              "    .colab-df-container {\n",
              "      display:flex;\n",
              "      flex-wrap:wrap;\n",
              "      gap: 12px;\n",
              "    }\n",
              "\n",
              "    .colab-df-convert {\n",
              "      background-color: #E8F0FE;\n",
              "      border: none;\n",
              "      border-radius: 50%;\n",
              "      cursor: pointer;\n",
              "      display: none;\n",
              "      fill: #1967D2;\n",
              "      height: 32px;\n",
              "      padding: 0 0 0 0;\n",
              "      width: 32px;\n",
              "    }\n",
              "\n",
              "    .colab-df-convert:hover {\n",
              "      background-color: #E2EBFA;\n",
              "      box-shadow: 0px 1px 2px rgba(60, 64, 67, 0.3), 0px 1px 3px 1px rgba(60, 64, 67, 0.15);\n",
              "      fill: #174EA6;\n",
              "    }\n",
              "\n",
              "    [theme=dark] .colab-df-convert {\n",
              "      background-color: #3B4455;\n",
              "      fill: #D2E3FC;\n",
              "    }\n",
              "\n",
              "    [theme=dark] .colab-df-convert:hover {\n",
              "      background-color: #434B5C;\n",
              "      box-shadow: 0px 1px 3px 1px rgba(0, 0, 0, 0.15);\n",
              "      filter: drop-shadow(0px 1px 2px rgba(0, 0, 0, 0.3));\n",
              "      fill: #FFFFFF;\n",
              "    }\n",
              "  </style>\n",
              "\n",
              "      <script>\n",
              "        const buttonEl =\n",
              "          document.querySelector('#df-f45d9f8a-d637-4edb-97f5-678ac22b4221 button.colab-df-convert');\n",
              "        buttonEl.style.display =\n",
              "          google.colab.kernel.accessAllowed ? 'block' : 'none';\n",
              "\n",
              "        async function convertToInteractive(key) {\n",
              "          const element = document.querySelector('#df-f45d9f8a-d637-4edb-97f5-678ac22b4221');\n",
              "          const dataTable =\n",
              "            await google.colab.kernel.invokeFunction('convertToInteractive',\n",
              "                                                     [key], {});\n",
              "          if (!dataTable) return;\n",
              "\n",
              "          const docLinkHtml = 'Like what you see? Visit the ' +\n",
              "            '<a target=\"_blank\" href=https://colab.research.google.com/notebooks/data_table.ipynb>data table notebook</a>'\n",
              "            + ' to learn more about interactive tables.';\n",
              "          element.innerHTML = '';\n",
              "          dataTable['output_type'] = 'display_data';\n",
              "          await google.colab.output.renderOutput(dataTable, element);\n",
              "          const docLink = document.createElement('div');\n",
              "          docLink.innerHTML = docLinkHtml;\n",
              "          element.appendChild(docLink);\n",
              "        }\n",
              "      </script>\n",
              "    </div>\n",
              "  </div>\n",
              "  "
            ]
          },
          "metadata": {},
          "execution_count": 42
        }
      ],
      "source": [
        "# Reset index\n",
        "data_train_test.reset_index(drop=True, inplace=True)\n",
        "data_inf.reset_index(drop=True, inplace=True)\n",
        "data_train_test.head()"
      ]
    },
    {
      "cell_type": "markdown",
      "metadata": {
        "id": "BkV6b015xugT"
      },
      "source": [
        "## 5.2. Splitting Dataset"
      ]
    },
    {
      "cell_type": "code",
      "execution_count": 43,
      "metadata": {
        "colab": {
          "base_uri": "https://localhost:8080/",
          "height": 206
        },
        "id": "WbwyrhJjxugU",
        "outputId": "fba942da-68ff-4990-ee10-ed7c8f42ee4c"
      },
      "outputs": [
        {
          "output_type": "execute_result",
          "data": {
            "text/plain": [
              "   age education          occupation relationship      sex  hours_per_week\n",
              "0   39       9th       Other-service         Wife   Female              34\n",
              "1   72       9th     Exec-managerial         Wife   Female              48\n",
              "2   45       9th   Machine-op-inspct         Wife   Female              40\n",
              "3   31       9th     Exec-managerial         Wife   Female              40\n",
              "4   55       9th        Tech-support         Wife   Female              23"
            ],
            "text/html": [
              "\n",
              "  <div id=\"df-82cc8b9a-2c5a-4990-96b3-6ddc0c66dbbd\">\n",
              "    <div class=\"colab-df-container\">\n",
              "      <div>\n",
              "<style scoped>\n",
              "    .dataframe tbody tr th:only-of-type {\n",
              "        vertical-align: middle;\n",
              "    }\n",
              "\n",
              "    .dataframe tbody tr th {\n",
              "        vertical-align: top;\n",
              "    }\n",
              "\n",
              "    .dataframe thead th {\n",
              "        text-align: right;\n",
              "    }\n",
              "</style>\n",
              "<table border=\"1\" class=\"dataframe\">\n",
              "  <thead>\n",
              "    <tr style=\"text-align: right;\">\n",
              "      <th></th>\n",
              "      <th>age</th>\n",
              "      <th>education</th>\n",
              "      <th>occupation</th>\n",
              "      <th>relationship</th>\n",
              "      <th>sex</th>\n",
              "      <th>hours_per_week</th>\n",
              "    </tr>\n",
              "  </thead>\n",
              "  <tbody>\n",
              "    <tr>\n",
              "      <th>0</th>\n",
              "      <td>39</td>\n",
              "      <td>9th</td>\n",
              "      <td>Other-service</td>\n",
              "      <td>Wife</td>\n",
              "      <td>Female</td>\n",
              "      <td>34</td>\n",
              "    </tr>\n",
              "    <tr>\n",
              "      <th>1</th>\n",
              "      <td>72</td>\n",
              "      <td>9th</td>\n",
              "      <td>Exec-managerial</td>\n",
              "      <td>Wife</td>\n",
              "      <td>Female</td>\n",
              "      <td>48</td>\n",
              "    </tr>\n",
              "    <tr>\n",
              "      <th>2</th>\n",
              "      <td>45</td>\n",
              "      <td>9th</td>\n",
              "      <td>Machine-op-inspct</td>\n",
              "      <td>Wife</td>\n",
              "      <td>Female</td>\n",
              "      <td>40</td>\n",
              "    </tr>\n",
              "    <tr>\n",
              "      <th>3</th>\n",
              "      <td>31</td>\n",
              "      <td>9th</td>\n",
              "      <td>Exec-managerial</td>\n",
              "      <td>Wife</td>\n",
              "      <td>Female</td>\n",
              "      <td>40</td>\n",
              "    </tr>\n",
              "    <tr>\n",
              "      <th>4</th>\n",
              "      <td>55</td>\n",
              "      <td>9th</td>\n",
              "      <td>Tech-support</td>\n",
              "      <td>Wife</td>\n",
              "      <td>Female</td>\n",
              "      <td>23</td>\n",
              "    </tr>\n",
              "  </tbody>\n",
              "</table>\n",
              "</div>\n",
              "      <button class=\"colab-df-convert\" onclick=\"convertToInteractive('df-82cc8b9a-2c5a-4990-96b3-6ddc0c66dbbd')\"\n",
              "              title=\"Convert this dataframe to an interactive table.\"\n",
              "              style=\"display:none;\">\n",
              "        \n",
              "  <svg xmlns=\"http://www.w3.org/2000/svg\" height=\"24px\"viewBox=\"0 0 24 24\"\n",
              "       width=\"24px\">\n",
              "    <path d=\"M0 0h24v24H0V0z\" fill=\"none\"/>\n",
              "    <path d=\"M18.56 5.44l.94 2.06.94-2.06 2.06-.94-2.06-.94-.94-2.06-.94 2.06-2.06.94zm-11 1L8.5 8.5l.94-2.06 2.06-.94-2.06-.94L8.5 2.5l-.94 2.06-2.06.94zm10 10l.94 2.06.94-2.06 2.06-.94-2.06-.94-.94-2.06-.94 2.06-2.06.94z\"/><path d=\"M17.41 7.96l-1.37-1.37c-.4-.4-.92-.59-1.43-.59-.52 0-1.04.2-1.43.59L10.3 9.45l-7.72 7.72c-.78.78-.78 2.05 0 2.83L4 21.41c.39.39.9.59 1.41.59.51 0 1.02-.2 1.41-.59l7.78-7.78 2.81-2.81c.8-.78.8-2.07 0-2.86zM5.41 20L4 18.59l7.72-7.72 1.47 1.35L5.41 20z\"/>\n",
              "  </svg>\n",
              "      </button>\n",
              "      \n",
              "  <style>\n",
              "    .colab-df-container {\n",
              "      display:flex;\n",
              "      flex-wrap:wrap;\n",
              "      gap: 12px;\n",
              "    }\n",
              "\n",
              "    .colab-df-convert {\n",
              "      background-color: #E8F0FE;\n",
              "      border: none;\n",
              "      border-radius: 50%;\n",
              "      cursor: pointer;\n",
              "      display: none;\n",
              "      fill: #1967D2;\n",
              "      height: 32px;\n",
              "      padding: 0 0 0 0;\n",
              "      width: 32px;\n",
              "    }\n",
              "\n",
              "    .colab-df-convert:hover {\n",
              "      background-color: #E2EBFA;\n",
              "      box-shadow: 0px 1px 2px rgba(60, 64, 67, 0.3), 0px 1px 3px 1px rgba(60, 64, 67, 0.15);\n",
              "      fill: #174EA6;\n",
              "    }\n",
              "\n",
              "    [theme=dark] .colab-df-convert {\n",
              "      background-color: #3B4455;\n",
              "      fill: #D2E3FC;\n",
              "    }\n",
              "\n",
              "    [theme=dark] .colab-df-convert:hover {\n",
              "      background-color: #434B5C;\n",
              "      box-shadow: 0px 1px 3px 1px rgba(0, 0, 0, 0.15);\n",
              "      filter: drop-shadow(0px 1px 2px rgba(0, 0, 0, 0.3));\n",
              "      fill: #FFFFFF;\n",
              "    }\n",
              "  </style>\n",
              "\n",
              "      <script>\n",
              "        const buttonEl =\n",
              "          document.querySelector('#df-82cc8b9a-2c5a-4990-96b3-6ddc0c66dbbd button.colab-df-convert');\n",
              "        buttonEl.style.display =\n",
              "          google.colab.kernel.accessAllowed ? 'block' : 'none';\n",
              "\n",
              "        async function convertToInteractive(key) {\n",
              "          const element = document.querySelector('#df-82cc8b9a-2c5a-4990-96b3-6ddc0c66dbbd');\n",
              "          const dataTable =\n",
              "            await google.colab.kernel.invokeFunction('convertToInteractive',\n",
              "                                                     [key], {});\n",
              "          if (!dataTable) return;\n",
              "\n",
              "          const docLinkHtml = 'Like what you see? Visit the ' +\n",
              "            '<a target=\"_blank\" href=https://colab.research.google.com/notebooks/data_table.ipynb>data table notebook</a>'\n",
              "            + ' to learn more about interactive tables.';\n",
              "          element.innerHTML = '';\n",
              "          dataTable['output_type'] = 'display_data';\n",
              "          await google.colab.output.renderOutput(dataTable, element);\n",
              "          const docLink = document.createElement('div');\n",
              "          docLink.innerHTML = docLinkHtml;\n",
              "          element.appendChild(docLink);\n",
              "        }\n",
              "      </script>\n",
              "    </div>\n",
              "  </div>\n",
              "  "
            ]
          },
          "metadata": {},
          "execution_count": 43
        }
      ],
      "source": [
        "# Split between 'X' (features) and 'y' (target)\n",
        "X = data_train_test.drop('income_bracket', axis = 1)\n",
        "y = data_train_test['income_bracket']\n",
        "X.head()"
      ]
    },
    {
      "cell_type": "code",
      "execution_count": 44,
      "metadata": {
        "colab": {
          "base_uri": "https://localhost:8080/"
        },
        "id": "hasYEQqnxugU",
        "outputId": "75c8aeea-653a-48ff-f35a-a8e4dabba4f3"
      },
      "outputs": [
        {
          "output_type": "stream",
          "name": "stdout",
          "text": [
            "Train Size :  (17583, 6)\n",
            "Test Size :  (4396, 6)\n"
          ]
        }
      ],
      "source": [
        "# Split between train-set and test-set\n",
        "\n",
        "X_train, X_test, y_train, y_test = train_test_split(X, y, test_size=0.2, random_state=17) # sebanyak 20% data jadi data test, 80% train\n",
        "\n",
        "print('Train Size : ', X_train.shape)\n",
        "print('Test Size : ', X_test.shape)"
      ]
    },
    {
      "cell_type": "markdown",
      "metadata": {
        "id": "y_j06WuXxugV"
      },
      "source": [
        "## 5.3. Outlier Handling"
      ]
    },
    {
      "cell_type": "markdown",
      "metadata": {
        "id": "U2MNISa9xugV"
      },
      "source": [
        "Saya akan handling outlier untuk kolom numerikal yaitu kolom `age` dan `hours_per_week`"
      ]
    },
    {
      "cell_type": "markdown",
      "metadata": {
        "id": "sFM7IWgbxugW"
      },
      "source": [
        "### 5.3.1. Outlier Detection"
      ]
    },
    {
      "cell_type": "markdown",
      "metadata": {
        "id": "san9QKeIxugW"
      },
      "source": [
        "Checking normality of the data distribution"
      ]
    },
    {
      "cell_type": "code",
      "execution_count": 45,
      "metadata": {
        "colab": {
          "base_uri": "https://localhost:8080/",
          "height": 269
        },
        "id": "7kIX9IGpxugX",
        "outputId": "38649d35-f368-408b-fb4b-47890b941228"
      },
      "outputs": [
        {
          "output_type": "execute_result",
          "data": {
            "text/plain": [
              "<matplotlib.axes._subplots.AxesSubplot at 0x7fa8c1d69ed0>"
            ]
          },
          "metadata": {},
          "execution_count": 45
        },
        {
          "output_type": "display_data",
          "data": {
            "text/plain": [
              "<Figure size 432x288 with 1 Axes>"
            ],
            "image/png": "[encoded data removed]"
          },
          "metadata": {
            "needs_background": "light"
          }
        }
      ],
      "source": [
        "sns.boxplot(y=X_train['age'])"
      ]
    },
    {
      "cell_type": "code",
      "execution_count": 46,
      "metadata": {
        "colab": {
          "base_uri": "https://localhost:8080/",
          "height": 269
        },
        "id": "FDHDdJSqxugX",
        "outputId": "dab9b074-0baf-4ed1-edff-08e761ac3424"
      },
      "outputs": [
        {
          "output_type": "execute_result",
          "data": {
            "text/plain": [
              "<matplotlib.axes._subplots.AxesSubplot at 0x7fa8c237bdd0>"
            ]
          },
          "metadata": {},
          "execution_count": 46
        },
        {
          "output_type": "display_data",
          "data": {
            "text/plain": [
              "<Figure size 432x288 with 1 Axes>"
            ],
            "image/png": "[encoded data removed]"
          },
          "metadata": {
            "needs_background": "light"
          }
        }
      ],
      "source": [
        "sns.boxplot(y=X_train['hours_per_week'])"
      ]
    },
    {
      "cell_type": "code",
      "execution_count": 47,
      "metadata": {
        "colab": {
          "base_uri": "https://localhost:8080/"
        },
        "id": "FE2zyVxvxugY",
        "outputId": "4abb8c07-a937-4a87-915b-9ed042ab3202"
      },
      "outputs": [
        {
          "output_type": "execute_result",
          "data": {
            "text/plain": [
              "0.4242245556493057"
            ]
          },
          "metadata": {},
          "execution_count": 47
        }
      ],
      "source": [
        "X_train['age'].skew()"
      ]
    },
    {
      "cell_type": "code",
      "execution_count": 48,
      "metadata": {
        "colab": {
          "base_uri": "https://localhost:8080/"
        },
        "id": "15_nH4QwxugY",
        "outputId": "c13263a5-ae58-4978-9875-6367e31e5c0b"
      },
      "outputs": [
        {
          "output_type": "execute_result",
          "data": {
            "text/plain": [
              "0.3166323405177078"
            ]
          },
          "metadata": {},
          "execution_count": 48
        }
      ],
      "source": [
        "X_train['hours_per_week'].skew()"
      ]
    },
    {
      "cell_type": "markdown",
      "metadata": {
        "id": "x3MNr42uxugZ"
      },
      "source": [
        "data yang skew adalah data dengan skewness <-0.5 dan >0.5 dan akan dideteksi outliernya dengan metode IQR. Data yang tidak skew dideteksi dengan metode std.\n",
        "\n",
        "kolom `age` dan kolom `hours_per_week` memiliki skewness < 0.5 sehingga kolom ini berdistribusi normal."
      ]
    },
    {
      "cell_type": "markdown",
      "metadata": {
        "id": "6Vdgxq3rxuga"
      },
      "source": [
        "Outliers Detection - std"
      ]
    },
    {
      "cell_type": "code",
      "execution_count": 49,
      "metadata": {
        "id": "QfW-aSr9xugp"
      },
      "outputs": [],
      "source": [
        "# Function to find upper and lower boundaries for normally distributed variables\n",
        "# Calculate the boundaries outside which sit the outliers for a Gaussian distribution\n",
        "\n",
        "def find_normal_boundaries(df, variable):\n",
        "    upper_boundary = df[variable].mean() + 3 * df[variable].std()\n",
        "    lower_boundary = df[variable].mean() - 3 * df[variable].std()\n",
        "\n",
        "    return upper_boundary, lower_boundary"
      ]
    },
    {
      "cell_type": "markdown",
      "metadata": {
        "id": "cN-e95Rbxugq"
      },
      "source": [
        "Outlier detection - std : age"
      ]
    },
    {
      "cell_type": "code",
      "execution_count": 50,
      "metadata": {
        "colab": {
          "base_uri": "https://localhost:8080/"
        },
        "id": "D_2uJ2KQxugv",
        "outputId": "18f2bce2-7d52-4e43-b58c-bb233047aff4"
      },
      "outputs": [
        {
          "output_type": "execute_result",
          "data": {
            "text/plain": [
              "(77.73684433239056, -0.07944798364461292)"
            ]
          },
          "metadata": {},
          "execution_count": 50
        }
      ],
      "source": [
        "upper_age, lower_age = find_normal_boundaries(X_train, 'age')\n",
        "upper_age, lower_age"
      ]
    },
    {
      "cell_type": "code",
      "execution_count": 51,
      "metadata": {
        "colab": {
          "base_uri": "https://localhost:8080/"
        },
        "id": "IAREr7LWxugv",
        "outputId": "5b3a2309-e4d9-4a4d-a97f-db4101171a0c"
      },
      "outputs": [
        {
          "output_type": "stream",
          "name": "stdout",
          "text": [
            "Total data: 17583\n",
            "Data with price bigger than 77.73   : 1\n",
            "\n",
            "% data with price bigger than 77.73 : 0.0056873116078029915\n"
          ]
        }
      ],
      "source": [
        "print('Total data: {}'.format(len(X_train)))\n",
        "print('Data with price bigger than 77.73   : {}'.format(len([X_train['age'] > upper_age])))\n",
        "print('')\n",
        "print('% data with price bigger than 77.73 : {}'.format(len([X_train['age'] > upper_age])/len(X_train) * 100))"
      ]
    },
    {
      "cell_type": "markdown",
      "metadata": {
        "id": "Nmtr4qpyxugw"
      },
      "source": [
        "Outlier detection - std : hours per week"
      ]
    },
    {
      "cell_type": "code",
      "execution_count": 52,
      "metadata": {
        "colab": {
          "base_uri": "https://localhost:8080/"
        },
        "id": "08jcOap3xugx",
        "outputId": "1a556780-f399-4a55-fd98-a930d06a0937"
      },
      "outputs": [
        {
          "output_type": "execute_result",
          "data": {
            "text/plain": [
              "(77.5975336085033, 4.517691324670793)"
            ]
          },
          "metadata": {},
          "execution_count": 52
        }
      ],
      "source": [
        "upper_hpw, lower_hpw = find_normal_boundaries(X_train, 'hours_per_week')\n",
        "upper_hpw, lower_hpw"
      ]
    },
    {
      "cell_type": "code",
      "execution_count": 53,
      "metadata": {
        "colab": {
          "base_uri": "https://localhost:8080/"
        },
        "id": "q0H2-tr8xugx",
        "outputId": "c29daa61-5e4d-4ba1-91ca-c0140e620c29"
      },
      "outputs": [
        {
          "output_type": "stream",
          "name": "stdout",
          "text": [
            "Total data: 17583\n",
            "Data with hours_per_week bigger than 77.597   : 1\n",
            "% data with hours_per_week bigger than 77.597 : 0.0056873116078029915\n",
            "\n",
            "Data with hours_per_week lower than 4.51   : 1\n",
            "% data with hours_per_week lower than 4.51 : 0.0056873116078029915\n"
          ]
        }
      ],
      "source": [
        "print('Total data: {}'.format(len(X_train)))\n",
        "print('Data with hours_per_week bigger than 77.597   : {}'.format(len([X_train['hours_per_week'] > upper_hpw])))\n",
        "print('% data with hours_per_week bigger than 77.597 : {}'.format(len([X_train['hours_per_week'] > upper_hpw])/len(X_train) * 100))\n",
        "print('')\n",
        "print('Data with hours_per_week lower than 4.51   : {}'.format(len([X_train['hours_per_week'] < lower_hpw])))\n",
        "print('% data with hours_per_week lower than 4.51 : {}'.format(len([X_train['hours_per_week'] < lower_hpw])/len(X_train) * 100))"
      ]
    },
    {
      "cell_type": "markdown",
      "metadata": {
        "id": "p_HofrnSxugy"
      },
      "source": [
        "Ternyata untuk kolom `age` dan `hours_per_week` hanya ada kurang dari 1% outlier dari keseluruhan data train. Maka saya akan lakukan metode trimming untuk handling outliers."
      ]
    },
    {
      "cell_type": "markdown",
      "metadata": {
        "id": "lPkMeU2Fxugz"
      },
      "source": [
        "### 5.3.2. Outliers Handling - Trimming"
      ]
    },
    {
      "cell_type": "markdown",
      "metadata": {
        "id": "fqb2ymIexugz"
      },
      "source": [
        "Trimming kolom `age`"
      ]
    },
    {
      "cell_type": "code",
      "execution_count": 54,
      "metadata": {
        "colab": {
          "base_uri": "https://localhost:8080/"
        },
        "id": "YFnDR6E7xugz",
        "outputId": "641be2ac-5053-410a-de8d-57c70c901e3a"
      },
      "outputs": [
        {
          "output_type": "execute_result",
          "data": {
            "text/plain": [
              "count    17583.000000\n",
              "mean        38.828698\n",
              "std         12.969382\n",
              "min         17.000000\n",
              "25%         29.000000\n",
              "50%         38.000000\n",
              "75%         48.000000\n",
              "max         90.000000\n",
              "Name: age, dtype: float64"
            ]
          },
          "metadata": {},
          "execution_count": 54
        }
      ],
      "source": [
        "# mengecek count, min, dan max data X_train awal\n",
        "X_train['age'].describe()"
      ]
    },
    {
      "cell_type": "markdown",
      "metadata": {
        "id": "hiNCYa04xug0"
      },
      "source": [
        "data awal X_train\n",
        "- banyak data : 17583\n",
        "- nilai minimal ['age']: 17\n",
        "- nilai maksimal ['age'] : 90"
      ]
    },
    {
      "cell_type": "code",
      "execution_count": 55,
      "metadata": {
        "colab": {
          "base_uri": "https://localhost:8080/"
        },
        "id": "eIZmfBScxug1",
        "outputId": "5150342e-3bca-4b92-d005-a1cbaa534515"
      },
      "outputs": [
        {
          "output_type": "execute_result",
          "data": {
            "text/plain": [
              "count    17525.000000\n",
              "mean        38.678231\n",
              "std         12.720577\n",
              "min         17.000000\n",
              "25%         29.000000\n",
              "50%         38.000000\n",
              "75%         47.000000\n",
              "max         77.000000\n",
              "Name: age, dtype: float64"
            ]
          },
          "metadata": {},
          "execution_count": 55
        }
      ],
      "source": [
        "# drop data X_train berdasarkan index yang memenuhi syarat outlier\n",
        "index1 = X_train[(X_train['age'] > upper_age)].index\n",
        "X_train.drop(index1, inplace=True)\n",
        "\n",
        "# mengecek count, min, dan max data X_train setelah di trimming 1\n",
        "X_train['age'].describe()"
      ]
    },
    {
      "cell_type": "markdown",
      "metadata": {
        "id": "rE7bRu4oxug1"
      },
      "source": [
        "data X_train trimming I\n",
        "- banyak data : 17525\n",
        "- nilai minimal ['age'] : 17\n",
        "- nilai maksimal ['age'] : 77"
      ]
    },
    {
      "cell_type": "code",
      "execution_count": 56,
      "metadata": {
        "colab": {
          "base_uri": "https://localhost:8080/"
        },
        "id": "GK5oPeFmxug1",
        "outputId": "df76eb68-c95d-4aec-d591-70c4e9a5e2d6"
      },
      "outputs": [
        {
          "output_type": "stream",
          "name": "stdout",
          "text": [
            " <=50K    12140\n",
            " >50K      5443\n",
            "Name: income_bracket, dtype: int64\n"
          ]
        }
      ],
      "source": [
        "# mengecek count awal y_train\n",
        "print(y_train.value_counts())"
      ]
    },
    {
      "cell_type": "markdown",
      "metadata": {
        "id": "xd-1wJmgxug2"
      },
      "source": [
        "data awal y_train\n",
        "- banyak data : 12140 + 5443 = 17583"
      ]
    },
    {
      "cell_type": "code",
      "execution_count": 57,
      "metadata": {
        "colab": {
          "base_uri": "https://localhost:8080/"
        },
        "id": "pqDr_f3Ixug2",
        "outputId": "96db2c6e-01ec-43ee-a883-efb354314687"
      },
      "outputs": [
        {
          "output_type": "execute_result",
          "data": {
            "text/plain": [
              " <=50K    12097\n",
              " >50K      5428\n",
              "Name: income_bracket, dtype: int64"
            ]
          },
          "metadata": {},
          "execution_count": 57
        }
      ],
      "source": [
        "# drop data y_train berdasarkan index yang memenuhi syarat outlier\n",
        "y_train.drop(index1, inplace=True)\n",
        "\n",
        "# mengecek count y_train setelah di trimming 1\n",
        "y_train.value_counts()"
      ]
    },
    {
      "cell_type": "markdown",
      "metadata": {
        "id": "xan8GpV_xug3"
      },
      "source": [
        "data y_train setelah trimming I\n",
        "- banyak data : 12097 + 5428 = 17525"
      ]
    },
    {
      "cell_type": "markdown",
      "metadata": {
        "id": "lnf6UCgCxug3"
      },
      "source": [
        "Trimming kolom `hours_per_week`"
      ]
    },
    {
      "cell_type": "code",
      "execution_count": 58,
      "metadata": {
        "colab": {
          "base_uri": "https://localhost:8080/"
        },
        "id": "ea0p5IY4xug4",
        "outputId": "b68811f2-aee3-470d-88f3-8db39ac17b0f"
      },
      "outputs": [
        {
          "output_type": "execute_result",
          "data": {
            "text/plain": [
              "count    17525.000000\n",
              "mean        41.084508\n",
              "std         12.152064\n",
              "min          1.000000\n",
              "25%         40.000000\n",
              "50%         40.000000\n",
              "75%         45.000000\n",
              "max         99.000000\n",
              "Name: hours_per_week, dtype: float64"
            ]
          },
          "metadata": {},
          "execution_count": 58
        }
      ],
      "source": [
        "# mengecek count, min, dan max data X_train setelah trimming 1\n",
        "X_train['hours_per_week'].describe()"
      ]
    },
    {
      "cell_type": "markdown",
      "metadata": {
        "id": "VF1tjJ1Qxug5"
      },
      "source": [
        "data X_train sebelum trimming II \n",
        "- banyak data : 17525\n",
        "- nilai minimal ['hours_per_week'] : 1\n",
        "- nilai maksimal ['hours_per_week'] : 99"
      ]
    },
    {
      "cell_type": "code",
      "execution_count": 59,
      "metadata": {
        "colab": {
          "base_uri": "https://localhost:8080/"
        },
        "id": "J9NrwTIdxug5",
        "outputId": "eed57b5c-a35e-40ec-e239-b22df325deef"
      },
      "outputs": [
        {
          "output_type": "execute_result",
          "data": {
            "text/plain": [
              "count    17289.000000\n",
              "mean        40.660015\n",
              "std         11.000099\n",
              "min          5.000000\n",
              "25%         40.000000\n",
              "50%         40.000000\n",
              "75%         45.000000\n",
              "max         77.000000\n",
              "Name: hours_per_week, dtype: float64"
            ]
          },
          "metadata": {},
          "execution_count": 59
        }
      ],
      "source": [
        "# drop data X_train berdasarkan index yang memenuhi syarat outlier\n",
        "index2 = X_train[(X_train['hours_per_week'] > upper_hpw)|(X_train['hours_per_week'] < lower_hpw)].index\n",
        "X_train.drop(index2, inplace=True)\n",
        "\n",
        "# mengecek count, min, dan max data X_train setelah di trimming 2\n",
        "X_train['hours_per_week'].describe()"
      ]
    },
    {
      "cell_type": "markdown",
      "metadata": {
        "id": "HS0b1oDpxug6"
      },
      "source": [
        "data X_train setelah trimming II \n",
        "- banyak data : 17289\n",
        "- nilai minimal ['hours_per_week] : 5\n",
        "- nilai maksimal ['hours_per_week] : 77"
      ]
    },
    {
      "cell_type": "code",
      "execution_count": 60,
      "metadata": {
        "colab": {
          "base_uri": "https://localhost:8080/"
        },
        "id": "1v1-05NKxug6",
        "outputId": "21cc24ef-5f81-48b1-9a6e-028bc3a37d66"
      },
      "outputs": [
        {
          "output_type": "stream",
          "name": "stdout",
          "text": [
            " <=50K    12097\n",
            " >50K      5428\n",
            "Name: income_bracket, dtype: int64\n"
          ]
        }
      ],
      "source": [
        "# mengecek count awal y_train\n",
        "print(y_train.value_counts())"
      ]
    },
    {
      "cell_type": "markdown",
      "metadata": {
        "id": "WVzf3bzUxug7"
      },
      "source": [
        "data y_train sebelum trimming II \n",
        "- banyak data : 12097 + 5428 = 17525"
      ]
    },
    {
      "cell_type": "code",
      "execution_count": 61,
      "metadata": {
        "colab": {
          "base_uri": "https://localhost:8080/"
        },
        "id": "MF6FyM2mxug7",
        "outputId": "bb434123-6045-404e-d433-0e229ffe4ae7"
      },
      "outputs": [
        {
          "output_type": "execute_result",
          "data": {
            "text/plain": [
              " <=50K    11944\n",
              " >50K      5345\n",
              "Name: income_bracket, dtype: int64"
            ]
          },
          "metadata": {},
          "execution_count": 61
        }
      ],
      "source": [
        "# drop data y_train berdasarkan index yang memenuhi syarat outlier\n",
        "y_train.drop(index2, inplace=True)\n",
        "\n",
        "# mengecek count y_train setelah di trimming 2\n",
        "y_train.value_counts()"
      ]
    },
    {
      "cell_type": "markdown",
      "metadata": {
        "id": "cPYbMetxxug8"
      },
      "source": [
        "data y_train setelah trimming II \n",
        "- banyak data : 11944 + 5345 = 17289"
      ]
    },
    {
      "cell_type": "code",
      "execution_count": 62,
      "metadata": {
        "colab": {
          "base_uri": "https://localhost:8080/"
        },
        "id": "__Cl5RCXxug-",
        "outputId": "0b4d1bbc-00cd-4376-f579-7a830cfe91c9"
      },
      "outputs": [
        {
          "output_type": "execute_result",
          "data": {
            "text/plain": [
              "1.6720696126940795"
            ]
          },
          "metadata": {},
          "execution_count": 62
        }
      ],
      "source": [
        "# menghitung persentase data yang dilakukan trimming\n",
        "# (data awal -  data trimming) / data awal * 100\n",
        "(17583 - 17289) / 17583 * 100"
      ]
    },
    {
      "cell_type": "markdown",
      "metadata": {
        "id": "OyjV2ZqJxug-"
      },
      "source": [
        "## 5.4. Handling Missing Value"
      ]
    },
    {
      "cell_type": "markdown",
      "metadata": {
        "id": "i896SxtKxug_"
      },
      "source": [
        "### 5.4.1. Check Missing Values"
      ]
    },
    {
      "cell_type": "code",
      "execution_count": 63,
      "metadata": {
        "colab": {
          "base_uri": "https://localhost:8080/"
        },
        "id": "GBEUPprAxuhA",
        "outputId": "ea012bc5-10a3-4d44-feea-b8ebc6aaf32a"
      },
      "outputs": [
        {
          "output_type": "execute_result",
          "data": {
            "text/plain": [
              "age               0\n",
              "education         0\n",
              "occupation        4\n",
              "relationship      0\n",
              "sex               0\n",
              "hours_per_week    0\n",
              "dtype: int64"
            ]
          },
          "metadata": {},
          "execution_count": 63
        }
      ],
      "source": [
        "X_train.isna().sum()"
      ]
    },
    {
      "cell_type": "code",
      "execution_count": 64,
      "metadata": {
        "colab": {
          "base_uri": "https://localhost:8080/"
        },
        "id": "QiMw37uaxuhA",
        "outputId": "56487ee8-ef3e-47f1-95fa-952c7ce5739a"
      },
      "outputs": [
        {
          "output_type": "execute_result",
          "data": {
            "text/plain": [
              "(17289, 6)"
            ]
          },
          "metadata": {},
          "execution_count": 64
        }
      ],
      "source": [
        "X_train.shape"
      ]
    },
    {
      "cell_type": "code",
      "execution_count": 65,
      "metadata": {
        "colab": {
          "base_uri": "https://localhost:8080/"
        },
        "id": "xIVqnBEPxuhB",
        "outputId": "f87e4e17-6b9f-4009-b225-13f8b68cb972"
      },
      "outputs": [
        {
          "output_type": "execute_result",
          "data": {
            "text/plain": [
              "0.023142791020597086"
            ]
          },
          "metadata": {},
          "execution_count": 65
        }
      ],
      "source": [
        "# menghitung persentase missing values price di X_train\n",
        "4/17284*100"
      ]
    },
    {
      "cell_type": "code",
      "execution_count": 66,
      "metadata": {
        "colab": {
          "base_uri": "https://localhost:8080/"
        },
        "id": "7F5K6NxGxuhB",
        "outputId": "17d7e974-46b6-4df4-f1a2-765682b1ca11"
      },
      "outputs": [
        {
          "output_type": "execute_result",
          "data": {
            "text/plain": [
              "age               0\n",
              "education         0\n",
              "occupation        2\n",
              "relationship      0\n",
              "sex               0\n",
              "hours_per_week    0\n",
              "dtype: int64"
            ]
          },
          "metadata": {},
          "execution_count": 66
        }
      ],
      "source": [
        "X_test.isna().sum()"
      ]
    },
    {
      "cell_type": "code",
      "execution_count": 67,
      "metadata": {
        "colab": {
          "base_uri": "https://localhost:8080/"
        },
        "id": "VXrd73msxuhC",
        "outputId": "90ae22b6-4c1b-40c3-bdb1-eb6b7f741a4d"
      },
      "outputs": [
        {
          "output_type": "execute_result",
          "data": {
            "text/plain": [
              "0"
            ]
          },
          "metadata": {},
          "execution_count": 67
        }
      ],
      "source": [
        "y_train.isna().sum()"
      ]
    },
    {
      "cell_type": "code",
      "execution_count": 68,
      "metadata": {
        "colab": {
          "base_uri": "https://localhost:8080/"
        },
        "id": "sd_xgbIsxuhD",
        "outputId": "5dae755c-ace4-4092-ade4-5e64658ce639"
      },
      "outputs": [
        {
          "output_type": "execute_result",
          "data": {
            "text/plain": [
              "0"
            ]
          },
          "metadata": {},
          "execution_count": 68
        }
      ],
      "source": [
        "y_test.isna().sum()"
      ]
    },
    {
      "cell_type": "markdown",
      "metadata": {
        "id": "TXItFQnpxuhD"
      },
      "source": [
        "### 5.4.2. Missing Values Handling - Mode Imputation"
      ]
    },
    {
      "cell_type": "markdown",
      "metadata": {
        "id": "eraPCE1YxuhE"
      },
      "source": [
        "Ternyata ada sebanyak 0.028% missing values di kolom occupaton dari data X_train. Dari analisis saya, missing values kolom tersebut independen dan termasuk jenis MCAR. Karena data tersebut adalah categorical dan karena missing values < 5%, maka akan dilakukan handling missing values dengan metode mode imputation."
      ]
    },
    {
      "cell_type": "code",
      "execution_count": 69,
      "metadata": {
        "colab": {
          "base_uri": "https://localhost:8080/"
        },
        "id": "ISEp-ZxixuhF",
        "outputId": "7adfb721-b3ea-4403-8ecd-1dde0c2e4076"
      },
      "outputs": [
        {
          "output_type": "execute_result",
          "data": {
            "text/plain": [
              "0     Craft-repair\n",
              "dtype: object"
            ]
          },
          "metadata": {},
          "execution_count": 69
        }
      ],
      "source": [
        "X_train['occupation'].mode()"
      ]
    },
    {
      "cell_type": "markdown",
      "metadata": {
        "id": "_wd9r6H3xuhF"
      },
      "source": [
        "Mode dari kolom occupation di X_train adalah ' Craft-repair' dengan label '12'. Maka untuk imputasi mode digunakan angka 12."
      ]
    },
    {
      "cell_type": "code",
      "execution_count": 70,
      "metadata": {
        "id": "BOu6fdbjxuhG"
      },
      "outputs": [],
      "source": [
        "X_train['occupation'].fillna(value=' Craft-repair', inplace=True)\n",
        "X_test['occupation'].fillna(value=' Craft-repair', inplace=True)"
      ]
    },
    {
      "cell_type": "code",
      "execution_count": 71,
      "metadata": {
        "colab": {
          "base_uri": "https://localhost:8080/"
        },
        "id": "P9hA1z3exuhG",
        "outputId": "9cbd6d16-e6a6-4a70-f274-84d05c31b10a"
      },
      "outputs": [
        {
          "output_type": "execute_result",
          "data": {
            "text/plain": [
              "0"
            ]
          },
          "metadata": {},
          "execution_count": 71
        }
      ],
      "source": [
        "X_train['occupation'].isna().sum()"
      ]
    },
    {
      "cell_type": "code",
      "execution_count": 72,
      "metadata": {
        "colab": {
          "base_uri": "https://localhost:8080/"
        },
        "id": "oDV6nnyMxuhH",
        "outputId": "cdec767f-c2d8-4047-97ce-30ca4d55c26e"
      },
      "outputs": [
        {
          "output_type": "execute_result",
          "data": {
            "text/plain": [
              "0"
            ]
          },
          "metadata": {},
          "execution_count": 72
        }
      ],
      "source": [
        "X_test['occupation'].isna().sum()"
      ]
    },
    {
      "cell_type": "code",
      "execution_count": 73,
      "metadata": {
        "colab": {
          "base_uri": "https://localhost:8080/",
          "height": 206
        },
        "id": "cnQ2OJeVxuhH",
        "outputId": "daacdd4a-4c72-4cd3-a66c-d460fffd81b3"
      },
      "outputs": [
        {
          "output_type": "execute_result",
          "data": {
            "text/plain": [
              "       age      education          occupation relationship    sex  \\\n",
              "7582    49        Masters      Prof-specialty      Husband   Male   \n",
              "10636   47      Bachelors   Machine-op-inspct      Husband   Male   \n",
              "11315   46     Assoc-acdm     Exec-managerial      Husband   Male   \n",
              "8938    38      Bachelors      Prof-specialty      Husband   Male   \n",
              "17284   21   Some-college       Other-service    Own-child   Male   \n",
              "\n",
              "       hours_per_week  \n",
              "7582               50  \n",
              "10636              44  \n",
              "11315              40  \n",
              "8938               50  \n",
              "17284              10  "
            ],
            "text/html": [
              "\n",
              "  <div id=\"df-cea7dd56-06ee-47de-8cd8-6ca5790fed9e\">\n",
              "    <div class=\"colab-df-container\">\n",
              "      <div>\n",
              "<style scoped>\n",
              "    .dataframe tbody tr th:only-of-type {\n",
              "        vertical-align: middle;\n",
              "    }\n",
              "\n",
              "    .dataframe tbody tr th {\n",
              "        vertical-align: top;\n",
              "    }\n",
              "\n",
              "    .dataframe thead th {\n",
              "        text-align: right;\n",
              "    }\n",
              "</style>\n",
              "<table border=\"1\" class=\"dataframe\">\n",
              "  <thead>\n",
              "    <tr style=\"text-align: right;\">\n",
              "      <th></th>\n",
              "      <th>age</th>\n",
              "      <th>education</th>\n",
              "      <th>occupation</th>\n",
              "      <th>relationship</th>\n",
              "      <th>sex</th>\n",
              "      <th>hours_per_week</th>\n",
              "    </tr>\n",
              "  </thead>\n",
              "  <tbody>\n",
              "    <tr>\n",
              "      <th>7582</th>\n",
              "      <td>49</td>\n",
              "      <td>Masters</td>\n",
              "      <td>Prof-specialty</td>\n",
              "      <td>Husband</td>\n",
              "      <td>Male</td>\n",
              "      <td>50</td>\n",
              "    </tr>\n",
              "    <tr>\n",
              "      <th>10636</th>\n",
              "      <td>47</td>\n",
              "      <td>Bachelors</td>\n",
              "      <td>Machine-op-inspct</td>\n",
              "      <td>Husband</td>\n",
              "      <td>Male</td>\n",
              "      <td>44</td>\n",
              "    </tr>\n",
              "    <tr>\n",
              "      <th>11315</th>\n",
              "      <td>46</td>\n",
              "      <td>Assoc-acdm</td>\n",
              "      <td>Exec-managerial</td>\n",
              "      <td>Husband</td>\n",
              "      <td>Male</td>\n",
              "      <td>40</td>\n",
              "    </tr>\n",
              "    <tr>\n",
              "      <th>8938</th>\n",
              "      <td>38</td>\n",
              "      <td>Bachelors</td>\n",
              "      <td>Prof-specialty</td>\n",
              "      <td>Husband</td>\n",
              "      <td>Male</td>\n",
              "      <td>50</td>\n",
              "    </tr>\n",
              "    <tr>\n",
              "      <th>17284</th>\n",
              "      <td>21</td>\n",
              "      <td>Some-college</td>\n",
              "      <td>Other-service</td>\n",
              "      <td>Own-child</td>\n",
              "      <td>Male</td>\n",
              "      <td>10</td>\n",
              "    </tr>\n",
              "  </tbody>\n",
              "</table>\n",
              "</div>\n",
              "      <button class=\"colab-df-convert\" onclick=\"convertToInteractive('df-cea7dd56-06ee-47de-8cd8-6ca5790fed9e')\"\n",
              "              title=\"Convert this dataframe to an interactive table.\"\n",
              "              style=\"display:none;\">\n",
              "        \n",
              "  <svg xmlns=\"http://www.w3.org/2000/svg\" height=\"24px\"viewBox=\"0 0 24 24\"\n",
              "       width=\"24px\">\n",
              "    <path d=\"M0 0h24v24H0V0z\" fill=\"none\"/>\n",
              "    <path d=\"M18.56 5.44l.94 2.06.94-2.06 2.06-.94-2.06-.94-.94-2.06-.94 2.06-2.06.94zm-11 1L8.5 8.5l.94-2.06 2.06-.94-2.06-.94L8.5 2.5l-.94 2.06-2.06.94zm10 10l.94 2.06.94-2.06 2.06-.94-2.06-.94-.94-2.06-.94 2.06-2.06.94z\"/><path d=\"M17.41 7.96l-1.37-1.37c-.4-.4-.92-.59-1.43-.59-.52 0-1.04.2-1.43.59L10.3 9.45l-7.72 7.72c-.78.78-.78 2.05 0 2.83L4 21.41c.39.39.9.59 1.41.59.51 0 1.02-.2 1.41-.59l7.78-7.78 2.81-2.81c.8-.78.8-2.07 0-2.86zM5.41 20L4 18.59l7.72-7.72 1.47 1.35L5.41 20z\"/>\n",
              "  </svg>\n",
              "      </button>\n",
              "      \n",
              "  <style>\n",
              "    .colab-df-container {\n",
              "      display:flex;\n",
              "      flex-wrap:wrap;\n",
              "      gap: 12px;\n",
              "    }\n",
              "\n",
              "    .colab-df-convert {\n",
              "      background-color: #E8F0FE;\n",
              "      border: none;\n",
              "      border-radius: 50%;\n",
              "      cursor: pointer;\n",
              "      display: none;\n",
              "      fill: #1967D2;\n",
              "      height: 32px;\n",
              "      padding: 0 0 0 0;\n",
              "      width: 32px;\n",
              "    }\n",
              "\n",
              "    .colab-df-convert:hover {\n",
              "      background-color: #E2EBFA;\n",
              "      box-shadow: 0px 1px 2px rgba(60, 64, 67, 0.3), 0px 1px 3px 1px rgba(60, 64, 67, 0.15);\n",
              "      fill: #174EA6;\n",
              "    }\n",
              "\n",
              "    [theme=dark] .colab-df-convert {\n",
              "      background-color: #3B4455;\n",
              "      fill: #D2E3FC;\n",
              "    }\n",
              "\n",
              "    [theme=dark] .colab-df-convert:hover {\n",
              "      background-color: #434B5C;\n",
              "      box-shadow: 0px 1px 3px 1px rgba(0, 0, 0, 0.15);\n",
              "      filter: drop-shadow(0px 1px 2px rgba(0, 0, 0, 0.3));\n",
              "      fill: #FFFFFF;\n",
              "    }\n",
              "  </style>\n",
              "\n",
              "      <script>\n",
              "        const buttonEl =\n",
              "          document.querySelector('#df-cea7dd56-06ee-47de-8cd8-6ca5790fed9e button.colab-df-convert');\n",
              "        buttonEl.style.display =\n",
              "          google.colab.kernel.accessAllowed ? 'block' : 'none';\n",
              "\n",
              "        async function convertToInteractive(key) {\n",
              "          const element = document.querySelector('#df-cea7dd56-06ee-47de-8cd8-6ca5790fed9e');\n",
              "          const dataTable =\n",
              "            await google.colab.kernel.invokeFunction('convertToInteractive',\n",
              "                                                     [key], {});\n",
              "          if (!dataTable) return;\n",
              "\n",
              "          const docLinkHtml = 'Like what you see? Visit the ' +\n",
              "            '<a target=\"_blank\" href=https://colab.research.google.com/notebooks/data_table.ipynb>data table notebook</a>'\n",
              "            + ' to learn more about interactive tables.';\n",
              "          element.innerHTML = '';\n",
              "          dataTable['output_type'] = 'display_data';\n",
              "          await google.colab.output.renderOutput(dataTable, element);\n",
              "          const docLink = document.createElement('div');\n",
              "          docLink.innerHTML = docLinkHtml;\n",
              "          element.appendChild(docLink);\n",
              "        }\n",
              "      </script>\n",
              "    </div>\n",
              "  </div>\n",
              "  "
            ]
          },
          "metadata": {},
          "execution_count": 73
        }
      ],
      "source": [
        "X_train.head()"
      ]
    },
    {
      "cell_type": "markdown",
      "metadata": {
        "id": "JSyg73u5xuhI"
      },
      "source": [
        "## 5.5. Feature Selection"
      ]
    },
    {
      "cell_type": "code",
      "execution_count": 74,
      "metadata": {
        "colab": {
          "base_uri": "https://localhost:8080/"
        },
        "id": "cDzBkg8XxuhI",
        "outputId": "95d1c4b7-1f55-4b09-898b-35bdfa1f57e4"
      },
      "outputs": [
        {
          "output_type": "stream",
          "name": "stdout",
          "text": [
            "Numerical columns :  ['age', 'hours_per_week']\n",
            "Categorical columns :  ['education', 'occupation', 'relationship', 'sex']\n"
          ]
        }
      ],
      "source": [
        "# Get numerical columns and categorical columns\n",
        "num_columns = X_train.select_dtypes(include=np.number).columns.tolist()\n",
        "cat_columns = X_train.select_dtypes(include=['object']).columns.tolist()\n",
        "\n",
        "print('Numerical columns : ', num_columns)\n",
        "print('Categorical columns : ', cat_columns)"
      ]
    },
    {
      "cell_type": "code",
      "execution_count": 75,
      "metadata": {
        "id": "4MMCNxxWxuhJ"
      },
      "outputs": [],
      "source": [
        "# Split Train-set and Test-set based on column types\n",
        "\n",
        "X_train_num = X_train[num_columns]\n",
        "X_train_cat = X_train[cat_columns]\n",
        "\n",
        "X_test_num = X_test[num_columns]\n",
        "X_test_cat = X_test[cat_columns]"
      ]
    },
    {
      "cell_type": "markdown",
      "metadata": {
        "id": "7plfSu4hxuhJ"
      },
      "source": [
        "## 5.6. Feature Scaling"
      ]
    },
    {
      "cell_type": "markdown",
      "metadata": {
        "id": "xVY5UxGjxuhK"
      },
      "source": [
        "Karena datanya terdistribusi normal, saya akan menggunakan MinMaxScaler. Algoritma ini memiliki kelebihan mempertahankan distribusi data. Saya akan mengatur range nya dari 0 s/d 1 untuk memudahkan pemahaman data."
      ]
    },
    {
      "cell_type": "code",
      "execution_count": 76,
      "metadata": {
        "colab": {
          "base_uri": "https://localhost:8080/"
        },
        "id": "HrBIZoXpxuhK",
        "outputId": "a3612313-5350-468b-a7e2-e3e4b171fdb7"
      },
      "outputs": [
        {
          "output_type": "execute_result",
          "data": {
            "text/plain": [
              "array([[0.53333333, 0.625     ],\n",
              "       [0.5       , 0.54166667],\n",
              "       [0.48333333, 0.48611111],\n",
              "       ...,\n",
              "       [0.23333333, 0.55555556],\n",
              "       [0.45      , 0.34722222],\n",
              "       [0.1       , 0.48611111]])"
            ]
          },
          "metadata": {},
          "execution_count": 76
        }
      ],
      "source": [
        "# Feature scaling using MinMaxScaler, defaultnya jadi range 0 s/d 1\n",
        "\n",
        "scaler = MinMaxScaler()\n",
        "scaler.fit(X_train_num) # .fit hanya milik train\n",
        "\n",
        "X_train_num_scaled = scaler.transform(X_train_num)\n",
        "X_test_num_scaled = scaler.transform(X_test_num)\n",
        "\n",
        "X_train_num_scaled"
      ]
    },
    {
      "cell_type": "markdown",
      "metadata": {
        "id": "JSClAeSBxuha"
      },
      "source": [
        "## 5.7. Feature Encoding"
      ]
    },
    {
      "cell_type": "markdown",
      "metadata": {
        "id": "sc7XmmElxuhb"
      },
      "source": [
        "Karena datanya terdistribusi normal, saya akan menggunakan OrdinalEncoder."
      ]
    },
    {
      "cell_type": "code",
      "execution_count": 77,
      "metadata": {
        "colab": {
          "base_uri": "https://localhost:8080/"
        },
        "id": "fGom_mmjxuhb",
        "outputId": "87d1345c-8263-4f68-8dba-48f53a1df5bf"
      },
      "outputs": [
        {
          "output_type": "execute_result",
          "data": {
            "text/plain": [
              "array([[12.,  9.,  0.,  1.],\n",
              "       [ 9.,  6.,  0.,  1.],\n",
              "       [ 7.,  3.,  0.,  1.],\n",
              "       ...,\n",
              "       [ 9.,  3.,  0.,  1.],\n",
              "       [11.,  5.,  4.,  0.],\n",
              "       [ 1.,  5.,  0.,  1.]])"
            ]
          },
          "metadata": {},
          "execution_count": 77
        }
      ],
      "source": [
        "# feature Encoding using OrdinalEncoder\n",
        "\n",
        "encoder = OrdinalEncoder()\n",
        "encoder.fit(X_train_cat)\n",
        "\n",
        "X_train_cat_encoded = encoder.transform(X_train_cat)\n",
        "X_test_cat_encoded = encoder.transform(X_test_cat)\n",
        "\n",
        "X_train_cat_encoded"
      ]
    },
    {
      "cell_type": "markdown",
      "metadata": {
        "id": "lu8WCmjzxuhc"
      },
      "source": [
        "## 5.8. Merge/Concat between scaled num columns and encoded cat columns"
      ]
    },
    {
      "cell_type": "code",
      "execution_count": 78,
      "metadata": {
        "colab": {
          "base_uri": "https://localhost:8080/"
        },
        "id": "7QSQIoUqxuhd",
        "outputId": "99570995-38af-494c-ef61-90aba8cbc5c1"
      },
      "outputs": [
        {
          "output_type": "execute_result",
          "data": {
            "text/plain": [
              "array([[ 0.53333333,  0.625     , 12.        ,  9.        ,  0.        ,\n",
              "         1.        ],\n",
              "       [ 0.5       ,  0.54166667,  9.        ,  6.        ,  0.        ,\n",
              "         1.        ],\n",
              "       [ 0.48333333,  0.48611111,  7.        ,  3.        ,  0.        ,\n",
              "         1.        ],\n",
              "       ...,\n",
              "       [ 0.23333333,  0.55555556,  9.        ,  3.        ,  0.        ,\n",
              "         1.        ],\n",
              "       [ 0.45      ,  0.34722222, 11.        ,  5.        ,  4.        ,\n",
              "         0.        ],\n",
              "       [ 0.1       ,  0.48611111,  1.        ,  5.        ,  0.        ,\n",
              "         1.        ]])"
            ]
          },
          "metadata": {},
          "execution_count": 78
        }
      ],
      "source": [
        "# Concat columns\n",
        "\n",
        "X_train_final = np.concatenate([X_train_num_scaled, X_train_cat_encoded], axis=1)\n",
        "X_test_final = np.concatenate([X_test_num_scaled, X_test_cat_encoded], axis=1)\n",
        "\n",
        "X_train_final"
      ]
    },
    {
      "cell_type": "code",
      "execution_count": 79,
      "metadata": {
        "colab": {
          "base_uri": "https://localhost:8080/",
          "height": 206
        },
        "id": "AwKvagfexuhd",
        "outputId": "227b4956-069e-4382-e82f-50426ca41a7e"
      },
      "outputs": [
        {
          "output_type": "execute_result",
          "data": {
            "text/plain": [
              "        age hours_per_week education occupation relationship  sex\n",
              "0  0.533333       0.625000      12.0        9.0          0.0  1.0\n",
              "1  0.500000       0.541667       9.0        6.0          0.0  1.0\n",
              "2  0.483333       0.486111       7.0        3.0          0.0  1.0\n",
              "3  0.350000       0.625000       9.0        9.0          0.0  1.0\n",
              "4  0.066667       0.069444      15.0        7.0          2.0  1.0"
            ],
            "text/html": [
              "\n",
              "  <div id=\"df-9bbec689-1beb-485a-b999-c235c8c2197c\">\n",
              "    <div class=\"colab-df-container\">\n",
              "      <div>\n",
              "<style scoped>\n",
              "    .dataframe tbody tr th:only-of-type {\n",
              "        vertical-align: middle;\n",
              "    }\n",
              "\n",
              "    .dataframe tbody tr th {\n",
              "        vertical-align: top;\n",
              "    }\n",
              "\n",
              "    .dataframe thead tr th {\n",
              "        text-align: left;\n",
              "    }\n",
              "</style>\n",
              "<table border=\"1\" class=\"dataframe\">\n",
              "  <thead>\n",
              "    <tr>\n",
              "      <th></th>\n",
              "      <th>age</th>\n",
              "      <th>hours_per_week</th>\n",
              "      <th>education</th>\n",
              "      <th>occupation</th>\n",
              "      <th>relationship</th>\n",
              "      <th>sex</th>\n",
              "    </tr>\n",
              "  </thead>\n",
              "  <tbody>\n",
              "    <tr>\n",
              "      <th>0</th>\n",
              "      <td>0.533333</td>\n",
              "      <td>0.625000</td>\n",
              "      <td>12.0</td>\n",
              "      <td>9.0</td>\n",
              "      <td>0.0</td>\n",
              "      <td>1.0</td>\n",
              "    </tr>\n",
              "    <tr>\n",
              "      <th>1</th>\n",
              "      <td>0.500000</td>\n",
              "      <td>0.541667</td>\n",
              "      <td>9.0</td>\n",
              "      <td>6.0</td>\n",
              "      <td>0.0</td>\n",
              "      <td>1.0</td>\n",
              "    </tr>\n",
              "    <tr>\n",
              "      <th>2</th>\n",
              "      <td>0.483333</td>\n",
              "      <td>0.486111</td>\n",
              "      <td>7.0</td>\n",
              "      <td>3.0</td>\n",
              "      <td>0.0</td>\n",
              "      <td>1.0</td>\n",
              "    </tr>\n",
              "    <tr>\n",
              "      <th>3</th>\n",
              "      <td>0.350000</td>\n",
              "      <td>0.625000</td>\n",
              "      <td>9.0</td>\n",
              "      <td>9.0</td>\n",
              "      <td>0.0</td>\n",
              "      <td>1.0</td>\n",
              "    </tr>\n",
              "    <tr>\n",
              "      <th>4</th>\n",
              "      <td>0.066667</td>\n",
              "      <td>0.069444</td>\n",
              "      <td>15.0</td>\n",
              "      <td>7.0</td>\n",
              "      <td>2.0</td>\n",
              "      <td>1.0</td>\n",
              "    </tr>\n",
              "  </tbody>\n",
              "</table>\n",
              "</div>\n",
              "      <button class=\"colab-df-convert\" onclick=\"convertToInteractive('df-9bbec689-1beb-485a-b999-c235c8c2197c')\"\n",
              "              title=\"Convert this dataframe to an interactive table.\"\n",
              "              style=\"display:none;\">\n",
              "        \n",
              "  <svg xmlns=\"http://www.w3.org/2000/svg\" height=\"24px\"viewBox=\"0 0 24 24\"\n",
              "       width=\"24px\">\n",
              "    <path d=\"M0 0h24v24H0V0z\" fill=\"none\"/>\n",
              "    <path d=\"M18.56 5.44l.94 2.06.94-2.06 2.06-.94-2.06-.94-.94-2.06-.94 2.06-2.06.94zm-11 1L8.5 8.5l.94-2.06 2.06-.94-2.06-.94L8.5 2.5l-.94 2.06-2.06.94zm10 10l.94 2.06.94-2.06 2.06-.94-2.06-.94-.94-2.06-.94 2.06-2.06.94z\"/><path d=\"M17.41 7.96l-1.37-1.37c-.4-.4-.92-.59-1.43-.59-.52 0-1.04.2-1.43.59L10.3 9.45l-7.72 7.72c-.78.78-.78 2.05 0 2.83L4 21.41c.39.39.9.59 1.41.59.51 0 1.02-.2 1.41-.59l7.78-7.78 2.81-2.81c.8-.78.8-2.07 0-2.86zM5.41 20L4 18.59l7.72-7.72 1.47 1.35L5.41 20z\"/>\n",
              "  </svg>\n",
              "      </button>\n",
              "      \n",
              "  <style>\n",
              "    .colab-df-container {\n",
              "      display:flex;\n",
              "      flex-wrap:wrap;\n",
              "      gap: 12px;\n",
              "    }\n",
              "\n",
              "    .colab-df-convert {\n",
              "      background-color: #E8F0FE;\n",
              "      border: none;\n",
              "      border-radius: 50%;\n",
              "      cursor: pointer;\n",
              "      display: none;\n",
              "      fill: #1967D2;\n",
              "      height: 32px;\n",
              "      padding: 0 0 0 0;\n",
              "      width: 32px;\n",
              "    }\n",
              "\n",
              "    .colab-df-convert:hover {\n",
              "      background-color: #E2EBFA;\n",
              "      box-shadow: 0px 1px 2px rgba(60, 64, 67, 0.3), 0px 1px 3px 1px rgba(60, 64, 67, 0.15);\n",
              "      fill: #174EA6;\n",
              "    }\n",
              "\n",
              "    [theme=dark] .colab-df-convert {\n",
              "      background-color: #3B4455;\n",
              "      fill: #D2E3FC;\n",
              "    }\n",
              "\n",
              "    [theme=dark] .colab-df-convert:hover {\n",
              "      background-color: #434B5C;\n",
              "      box-shadow: 0px 1px 3px 1px rgba(0, 0, 0, 0.15);\n",
              "      filter: drop-shadow(0px 1px 2px rgba(0, 0, 0, 0.3));\n",
              "      fill: #FFFFFF;\n",
              "    }\n",
              "  </style>\n",
              "\n",
              "      <script>\n",
              "        const buttonEl =\n",
              "          document.querySelector('#df-9bbec689-1beb-485a-b999-c235c8c2197c button.colab-df-convert');\n",
              "        buttonEl.style.display =\n",
              "          google.colab.kernel.accessAllowed ? 'block' : 'none';\n",
              "\n",
              "        async function convertToInteractive(key) {\n",
              "          const element = document.querySelector('#df-9bbec689-1beb-485a-b999-c235c8c2197c');\n",
              "          const dataTable =\n",
              "            await google.colab.kernel.invokeFunction('convertToInteractive',\n",
              "                                                     [key], {});\n",
              "          if (!dataTable) return;\n",
              "\n",
              "          const docLinkHtml = 'Like what you see? Visit the ' +\n",
              "            '<a target=\"_blank\" href=https://colab.research.google.com/notebooks/data_table.ipynb>data table notebook</a>'\n",
              "            + ' to learn more about interactive tables.';\n",
              "          element.innerHTML = '';\n",
              "          dataTable['output_type'] = 'display_data';\n",
              "          await google.colab.output.renderOutput(dataTable, element);\n",
              "          const docLink = document.createElement('div');\n",
              "          docLink.innerHTML = docLinkHtml;\n",
              "          element.appendChild(docLink);\n",
              "        }\n",
              "      </script>\n",
              "    </div>\n",
              "  </div>\n",
              "  "
            ]
          },
          "metadata": {},
          "execution_count": 79
        }
      ],
      "source": [
        "# Display as DataFrame\n",
        "\n",
        "X_train_final_df = pd.DataFrame(X_train_final, columns=[num_columns+cat_columns])\n",
        "X_train_final_df.head()"
      ]
    },
    {
      "cell_type": "markdown",
      "metadata": {
        "id": "6ETyLyG-xuh8"
      },
      "source": [
        "# VI. Model Definition"
      ]
    },
    {
      "cell_type": "markdown",
      "metadata": {
        "id": "U5ZxjnM-xuh9"
      },
      "source": [
        "Data yang digunakan adalah data categorical. Model yang digunakan adalah LogisticRegression dan SVM."
      ]
    },
    {
      "cell_type": "markdown",
      "metadata": {
        "id": "CDCVdHLexuh9"
      },
      "source": [
        "## 6.1. LogisticRegression"
      ]
    },
    {
      "cell_type": "markdown",
      "metadata": {
        "id": "gKLdrC-1xuh-"
      },
      "source": [
        "Saya akan mencari model terbaik dari LogisticRegression dengan hyperparameter tuning menggunakan GridSearchCV. "
      ]
    },
    {
      "cell_type": "code",
      "execution_count": 80,
      "metadata": {
        "colab": {
          "base_uri": "https://localhost:8080/"
        },
        "id": "xd3wS9EWxuiC",
        "outputId": "de107c6d-500a-41e8-b4b9-43c81b79b4d6"
      },
      "outputs": [
        {
          "output_type": "stream",
          "name": "stdout",
          "text": [
            "Fitting 5 folds for each of 60 candidates, totalling 300 fits\n"
          ]
        },
        {
          "output_type": "stream",
          "name": "stderr",
          "text": [
            "/usr/local/lib/python3.7/dist-packages/sklearn/model_selection/_validation.py:372: FitFailedWarning: \n",
            "135 fits failed out of a total of 300.\n",
            "The score on these train-test partitions for these parameters will be set to nan.\n",
            "If these failures are not expected, you can try to debug them by setting error_score='raise'.\n",
            "\n",
            "Below are more details about the failures:\n",
            "--------------------------------------------------------------------------------\n",
            "15 fits failed with the following error:\n",
            "Traceback (most recent call last):\n",
            "  File \"/usr/local/lib/python3.7/dist-packages/sklearn/model_selection/_validation.py\", line 680, in _fit_and_score\n",
            "    estimator.fit(X_train, y_train, **fit_params)\n",
            "  File \"/usr/local/lib/python3.7/dist-packages/sklearn/linear_model/_logistic.py\", line 1461, in fit\n",
            "    solver = _check_solver(self.solver, self.penalty, self.dual)\n",
            "  File \"/usr/local/lib/python3.7/dist-packages/sklearn/linear_model/_logistic.py\", line 449, in _check_solver\n",
            "    % (solver, penalty)\n",
            "ValueError: Solver newton-cg supports only 'l2' or 'none' penalties, got l1 penalty.\n",
            "\n",
            "--------------------------------------------------------------------------------\n",
            "15 fits failed with the following error:\n",
            "Traceback (most recent call last):\n",
            "  File \"/usr/local/lib/python3.7/dist-packages/sklearn/model_selection/_validation.py\", line 680, in _fit_and_score\n",
            "    estimator.fit(X_train, y_train, **fit_params)\n",
            "  File \"/usr/local/lib/python3.7/dist-packages/sklearn/linear_model/_logistic.py\", line 1461, in fit\n",
            "    solver = _check_solver(self.solver, self.penalty, self.dual)\n",
            "  File \"/usr/local/lib/python3.7/dist-packages/sklearn/linear_model/_logistic.py\", line 449, in _check_solver\n",
            "    % (solver, penalty)\n",
            "ValueError: Solver lbfgs supports only 'l2' or 'none' penalties, got l1 penalty.\n",
            "\n",
            "--------------------------------------------------------------------------------\n",
            "15 fits failed with the following error:\n",
            "Traceback (most recent call last):\n",
            "  File \"/usr/local/lib/python3.7/dist-packages/sklearn/model_selection/_validation.py\", line 680, in _fit_and_score\n",
            "    estimator.fit(X_train, y_train, **fit_params)\n",
            "  File \"/usr/local/lib/python3.7/dist-packages/sklearn/linear_model/_logistic.py\", line 1461, in fit\n",
            "    solver = _check_solver(self.solver, self.penalty, self.dual)\n",
            "  File \"/usr/local/lib/python3.7/dist-packages/sklearn/linear_model/_logistic.py\", line 449, in _check_solver\n",
            "    % (solver, penalty)\n",
            "ValueError: Solver sag supports only 'l2' or 'none' penalties, got l1 penalty.\n",
            "\n",
            "--------------------------------------------------------------------------------\n",
            "15 fits failed with the following error:\n",
            "Traceback (most recent call last):\n",
            "  File \"/usr/local/lib/python3.7/dist-packages/sklearn/model_selection/_validation.py\", line 680, in _fit_and_score\n",
            "    estimator.fit(X_train, y_train, **fit_params)\n",
            "  File \"/usr/local/lib/python3.7/dist-packages/sklearn/linear_model/_logistic.py\", line 1461, in fit\n",
            "    solver = _check_solver(self.solver, self.penalty, self.dual)\n",
            "  File \"/usr/local/lib/python3.7/dist-packages/sklearn/linear_model/_logistic.py\", line 449, in _check_solver\n",
            "    % (solver, penalty)\n",
            "ValueError: Solver newton-cg supports only 'l2' or 'none' penalties, got elasticnet penalty.\n",
            "\n",
            "--------------------------------------------------------------------------------\n",
            "15 fits failed with the following error:\n",
            "Traceback (most recent call last):\n",
            "  File \"/usr/local/lib/python3.7/dist-packages/sklearn/model_selection/_validation.py\", line 680, in _fit_and_score\n",
            "    estimator.fit(X_train, y_train, **fit_params)\n",
            "  File \"/usr/local/lib/python3.7/dist-packages/sklearn/linear_model/_logistic.py\", line 1461, in fit\n",
            "    solver = _check_solver(self.solver, self.penalty, self.dual)\n",
            "  File \"/usr/local/lib/python3.7/dist-packages/sklearn/linear_model/_logistic.py\", line 449, in _check_solver\n",
            "    % (solver, penalty)\n",
            "ValueError: Solver lbfgs supports only 'l2' or 'none' penalties, got elasticnet penalty.\n",
            "\n",
            "--------------------------------------------------------------------------------\n",
            "15 fits failed with the following error:\n",
            "Traceback (most recent call last):\n",
            "  File \"/usr/local/lib/python3.7/dist-packages/sklearn/model_selection/_validation.py\", line 680, in _fit_and_score\n",
            "    estimator.fit(X_train, y_train, **fit_params)\n",
            "  File \"/usr/local/lib/python3.7/dist-packages/sklearn/linear_model/_logistic.py\", line 1461, in fit\n",
            "    solver = _check_solver(self.solver, self.penalty, self.dual)\n",
            "  File \"/usr/local/lib/python3.7/dist-packages/sklearn/linear_model/_logistic.py\", line 459, in _check_solver\n",
            "    solver\n",
            "ValueError: Only 'saga' solver supports elasticnet penalty, got solver=liblinear.\n",
            "\n",
            "--------------------------------------------------------------------------------\n",
            "15 fits failed with the following error:\n",
            "Traceback (most recent call last):\n",
            "  File \"/usr/local/lib/python3.7/dist-packages/sklearn/model_selection/_validation.py\", line 680, in _fit_and_score\n",
            "    estimator.fit(X_train, y_train, **fit_params)\n",
            "  File \"/usr/local/lib/python3.7/dist-packages/sklearn/linear_model/_logistic.py\", line 1461, in fit\n",
            "    solver = _check_solver(self.solver, self.penalty, self.dual)\n",
            "  File \"/usr/local/lib/python3.7/dist-packages/sklearn/linear_model/_logistic.py\", line 449, in _check_solver\n",
            "    % (solver, penalty)\n",
            "ValueError: Solver sag supports only 'l2' or 'none' penalties, got elasticnet penalty.\n",
            "\n",
            "--------------------------------------------------------------------------------\n",
            "15 fits failed with the following error:\n",
            "Traceback (most recent call last):\n",
            "  File \"/usr/local/lib/python3.7/dist-packages/sklearn/model_selection/_validation.py\", line 680, in _fit_and_score\n",
            "    estimator.fit(X_train, y_train, **fit_params)\n",
            "  File \"/usr/local/lib/python3.7/dist-packages/sklearn/linear_model/_logistic.py\", line 1473, in fit\n",
            "    % self.l1_ratio\n",
            "ValueError: l1_ratio must be between 0 and 1; got (l1_ratio=None)\n",
            "\n",
            "--------------------------------------------------------------------------------\n",
            "15 fits failed with the following error:\n",
            "Traceback (most recent call last):\n",
            "  File \"/usr/local/lib/python3.7/dist-packages/sklearn/model_selection/_validation.py\", line 680, in _fit_and_score\n",
            "    estimator.fit(X_train, y_train, **fit_params)\n",
            "  File \"/usr/local/lib/python3.7/dist-packages/sklearn/linear_model/_logistic.py\", line 1461, in fit\n",
            "    solver = _check_solver(self.solver, self.penalty, self.dual)\n",
            "  File \"/usr/local/lib/python3.7/dist-packages/sklearn/linear_model/_logistic.py\", line 464, in _check_solver\n",
            "    raise ValueError(\"penalty='none' is not supported for the liblinear solver\")\n",
            "ValueError: penalty='none' is not supported for the liblinear solver\n",
            "\n",
            "  warnings.warn(some_fits_failed_message, FitFailedWarning)\n",
            "/usr/local/lib/python3.7/dist-packages/sklearn/model_selection/_search.py:972: UserWarning: One or more of the test scores are non-finite: [       nan        nan 0.71716165        nan 0.71750874 0.71739296\n",
            " 0.71739296 0.71536859 0.71727729 0.71739296        nan        nan\n",
            "        nan        nan        nan 0.7180294  0.71791373        nan\n",
            " 0.71814506 0.7180294         nan        nan 0.71814508        nan\n",
            " 0.71797157 0.71791373 0.71791373 0.7180294  0.7182029  0.71785589\n",
            "        nan        nan        nan        nan        nan 0.7180294\n",
            " 0.71791373        nan 0.71785584 0.7180294         nan        nan\n",
            " 0.71808724        nan 0.7180294  0.7180294  0.71791373 0.7180294\n",
            " 0.71814511 0.7180294         nan        nan        nan        nan\n",
            "        nan 0.7180294  0.71791373        nan 0.71791371 0.7180294 ]\n",
            "  category=UserWarning,\n",
            "/usr/local/lib/python3.7/dist-packages/sklearn/utils/validation.py:1692: FutureWarning: Feature names only support names that are all strings. Got feature names with dtypes: ['tuple']. An error will be raised in 1.2.\n",
            "  FutureWarning,\n"
          ]
        },
        {
          "output_type": "execute_result",
          "data": {
            "text/plain": [
              "{'C': 10, 'penalty': 'l2', 'solver': 'sag'}"
            ]
          },
          "metadata": {},
          "execution_count": 80
        }
      ],
      "source": [
        "log_model = LogisticRegression()\n",
        "parameters_log = {'penalty':['l1', 'l2', 'elasticnet', 'none'],\n",
        "              'C':[0.1, 10, 100],\n",
        "              'solver': ['newton-cg', 'lbfgs', 'liblinear', 'sag', 'saga']\n",
        "              }\n",
        "\n",
        "grid_log = GridSearchCV(estimator=log_model, param_grid=parameters_log, scoring='accuracy',cv=5, verbose=1, n_jobs=-1)\n",
        "grid_log.fit(X_train_final_df,y_train)\n",
        "grid_log.best_params_"
      ]
    },
    {
      "cell_type": "markdown",
      "metadata": {
        "id": "fbLkYAgdxuiD"
      },
      "source": [
        "Hyperparameter terbaik untuk model LogisticRegression :\n",
        "- C = 10\n",
        "- penalty = 'l2'\n",
        "- solver = 'sag'"
      ]
    },
    {
      "cell_type": "code",
      "execution_count": 99,
      "metadata": {
        "colab": {
          "base_uri": "https://localhost:8080/"
        },
        "id": "X3XCHwMCxuiD",
        "outputId": "67c67f20-9d17-4a47-b67d-c2f9ba1b9bcd"
      },
      "outputs": [
        {
          "output_type": "stream",
          "name": "stderr",
          "text": [
            "/usr/local/lib/python3.7/dist-packages/sklearn/utils/validation.py:1692: FutureWarning: Feature names only support names that are all strings. Got feature names with dtypes: ['tuple']. An error will be raised in 1.2.\n",
            "  FutureWarning,\n"
          ]
        },
        {
          "output_type": "execute_result",
          "data": {
            "text/plain": [
              "LogisticRegression(C=10, solver='sag')"
            ]
          },
          "metadata": {},
          "execution_count": 99
        }
      ],
      "source": [
        "best_log_model = LogisticRegression(C=10, penalty='l2', solver='sag')\n",
        "best_log_model.fit(X_train_final_df,y_train)"
      ]
    },
    {
      "cell_type": "code",
      "source": [
        "best_log_model.coef_"
      ],
      "metadata": {
        "colab": {
          "base_uri": "https://localhost:8080/"
        },
        "id": "TxWYp3wWF01k",
        "outputId": "fa443897-72a5-46e0-ea58-5476ebe05688"
      },
      "execution_count": 100,
      "outputs": [
        {
          "output_type": "execute_result",
          "data": {
            "text/plain": [
              "array([[ 2.57139149,  3.21184333,  0.0593532 ,  0.02245773, -0.31375262,\n",
              "         0.07363988]])"
            ]
          },
          "metadata": {},
          "execution_count": 100
        }
      ]
    },
    {
      "cell_type": "code",
      "source": [
        "X_train_final_df.info()"
      ],
      "metadata": {
        "colab": {
          "base_uri": "https://localhost:8080/"
        },
        "id": "DQ2gH15BF7Lt",
        "outputId": "1ab5d668-7783-42c0-be40-e919f6b58e28"
      },
      "execution_count": 101,
      "outputs": [
        {
          "output_type": "stream",
          "name": "stdout",
          "text": [
            "<class 'pandas.core.frame.DataFrame'>\n",
            "RangeIndex: 17289 entries, 0 to 17288\n",
            "Data columns (total 6 columns):\n",
            " #   Column             Non-Null Count  Dtype  \n",
            "---  ------             --------------  -----  \n",
            " 0   (age,)             17289 non-null  float64\n",
            " 1   (hours_per_week,)  17289 non-null  float64\n",
            " 2   (education,)       17289 non-null  float64\n",
            " 3   (occupation,)      17289 non-null  float64\n",
            " 4   (relationship,)    17289 non-null  float64\n",
            " 5   (sex,)             17289 non-null  float64\n",
            "dtypes: float64(6)\n",
            "memory usage: 810.5 KB\n"
          ]
        }
      ]
    },
    {
      "cell_type": "markdown",
      "source": [
        "masing-masing koefisien menggambarkan pembobotan dari setiap fitur (kolom di X set) yang nantinya dapat ditarik kesimpulan prediksinya."
      ],
      "metadata": {
        "id": "7RT9uwzbGcxW"
      }
    },
    {
      "cell_type": "markdown",
      "metadata": {
        "id": "Zs5NUqs5xuiE"
      },
      "source": [
        "## 6.2. SVM"
      ]
    },
    {
      "cell_type": "markdown",
      "metadata": {
        "id": "d7xzXoatxuiE"
      },
      "source": [
        "Seharusnya terlebih dahulu dilakukan pencarian hyperparameter terbaik dengan tuning. Akan tetapi, prosesing model SVM memakan waktu yang cukup lama sehingga saya akan setting parameternya berdasarkan asumsi saya. Kernel yang dipilih adalah rbf agar hyperplane lebih fleksibel dalam mengklasifikasikan model sehingga harapannya didapatkan akurasi model yang lebih baik."
      ]
    },
    {
      "cell_type": "code",
      "source": [
        "#svc_model = SVC()\n",
        "#parameters_svc = {'C':[0.1, 10, 100],\n",
        "#                  'gamma':[0.1, 1, 10, 100],\n",
        "#              'kernel': ['rbf']\n",
        "#              }\n",
        "\n",
        "#grid_svc = GridSearchCV(estimator=svc_model, param_grid=parameters_svc, scoring='accuracy',cv=3, verbose=1, n_jobs=-1)\n",
        "#grid_svc.fit(X_train_final_df,y_train)\n",
        "#grid_svc.best_params_"
      ],
      "metadata": {
        "id": "qndsBLn8yeQ-"
      },
      "execution_count": 84,
      "outputs": []
    },
    {
      "cell_type": "code",
      "execution_count": 102,
      "metadata": {
        "colab": {
          "base_uri": "https://localhost:8080/"
        },
        "id": "B5HYQqduxuiF",
        "outputId": "f0af2e13-4c11-47db-ef94-6a79e7afde77"
      },
      "outputs": [
        {
          "output_type": "stream",
          "name": "stderr",
          "text": [
            "/usr/local/lib/python3.7/dist-packages/sklearn/utils/validation.py:1692: FutureWarning: Feature names only support names that are all strings. Got feature names with dtypes: ['tuple']. An error will be raised in 1.2.\n",
            "  FutureWarning,\n"
          ]
        },
        {
          "output_type": "execute_result",
          "data": {
            "text/plain": [
              "SVC(C=1, gamma=1)"
            ]
          },
          "metadata": {},
          "execution_count": 102
        }
      ],
      "source": [
        "svc_model = SVC(C=1,gamma=1, kernel = 'rbf')\n",
        "svc_model.fit(X_train_final_df,y_train)"
      ]
    },
    {
      "cell_type": "markdown",
      "metadata": {
        "id": "04C6MSHHxuiG"
      },
      "source": [
        "# VII. Model Evaluation"
      ]
    },
    {
      "cell_type": "code",
      "execution_count": 103,
      "metadata": {
        "colab": {
          "base_uri": "https://localhost:8080/"
        },
        "id": "BzkvfOgbxuiI",
        "outputId": "067107d2-635c-4b77-8c61-8ba14453da39"
      },
      "outputs": [
        {
          "output_type": "stream",
          "name": "stdout",
          "text": [
            "Classification Report Logistic Regression\n",
            "               precision    recall  f1-score   support\n",
            "\n",
            "       <=50K       0.76      0.88      0.82      3063\n",
            "        >50K       0.57      0.37      0.45      1333\n",
            "\n",
            "    accuracy                           0.72      4396\n",
            "   macro avg       0.67      0.63      0.63      4396\n",
            "weighted avg       0.70      0.72      0.71      4396\n",
            "\n",
            "\n",
            "Classification Report SVC-RBF\n",
            "               precision    recall  f1-score   support\n",
            "\n",
            "       <=50K       0.76      0.88      0.82      3063\n",
            "        >50K       0.57      0.37      0.45      1333\n",
            "\n",
            "    accuracy                           0.72      4396\n",
            "   macro avg       0.67      0.63      0.63      4396\n",
            "weighted avg       0.70      0.72      0.71      4396\n",
            "\n"
          ]
        }
      ],
      "source": [
        "print('Classification Report Logistic Regression\\n',classification_report(y_test, best_log_model.predict(X_test_final)))\n",
        "print('\\nClassification Report SVC-RBF\\n', classification_report(y_test, best_log_model.predict(X_test_final)))"
      ]
    },
    {
      "cell_type": "markdown",
      "source": [
        "**Model Logistic Regression**\n",
        "- dari seluruh data yang terprediksi <=50K, ada 0.76 data yang benar-benar <=50K\n",
        "- dari seluruh data aktual <=50K, terdapat 0.88 data yang terprediksi <=50K\n",
        "- terdapat 82% data terprediksi <=50K yang benar.\n",
        "\n",
        "\n",
        "- dari seluruh data yang terprediksi >50K, ada 0.57 data yang benar-benar >50K\n",
        "- dari seluruh data aktual >50K, terdapat 0.37 data yang terprediksi >50K\n",
        "- terdapat 45% data terprediksi >50K yang benar.\n",
        "\n",
        "- Akurasi model : 72%"
      ],
      "metadata": {
        "id": "MCIqp5ro91ua"
      }
    },
    {
      "cell_type": "markdown",
      "source": [
        "**Model SVM-SVC**\n",
        "- dari seluruh data yang terprediksi <=50K, ada 0.76 data yang benar-benar <=50K\n",
        "- dari seluruh data aktual <=50K, terdapat 0.88 data yang terprediksi <=50K\n",
        "- terdapat 82% data terprediksi <=50K yang benar.\n",
        "\n",
        "\n",
        "- dari seluruh data yang terprediksi >50K, ada 0.57 data yang benar-benar >50K\n",
        "- dari seluruh data aktual >50K, terdapat 0.37 data yang terprediksi >50K\n",
        "- terdapat 45% data terprediksi >50K yang benar.\n",
        "- Akurasi model : 72%"
      ],
      "metadata": {
        "id": "0xjQhKz2_kTF"
      }
    },
    {
      "cell_type": "markdown",
      "source": [
        "**overall analysis on model evaluation :**\n",
        "metrics evaluasi model logistic regression dan svm-svc menghasilkan angka yang mirip. Kedua model menghasilkan nilai F1-score yang berbeda jauh antara kategori income >50K dan <=50K. Hal ini terjadi karena adanya imbalance pada data dimana data dengan income <=50K jauh lebih banyak daripada data dengan income >50K."
      ],
      "metadata": {
        "id": "hvysBRm9AhG6"
      }
    },
    {
      "cell_type": "markdown",
      "source": [
        "# VIII. Model Inference"
      ],
      "metadata": {
        "id": "QhsJq0IA2q2_"
      }
    },
    {
      "cell_type": "markdown",
      "source": [
        "## 8.1. Model Saving"
      ],
      "metadata": {
        "id": "gd52-2dd8NNw"
      }
    },
    {
      "cell_type": "markdown",
      "source": [
        "model yang telah disimpan akan diterapkan pada data inference"
      ],
      "metadata": {
        "id": "MZe8qliw9V-z"
      }
    },
    {
      "cell_type": "code",
      "source": [
        "# Model Saving\n",
        "\n",
        "with open('model_scaler.pkl', 'wb') as file_1:  # nama file, wb write binary, as aliasnya\n",
        "  pickle.dump(scaler, file_1)  # masukin yang fit dan aliasnya\n",
        "\n",
        "with open('model_encoder.pkl', 'wb') as file_2:\n",
        "  pickle.dump(encoder, file_2)\n",
        "\n",
        "with open('model_log_reg.pkl', 'wb') as file_3:\n",
        "  pickle.dump(best_log_model, file_3)\n",
        "\n",
        "with open('svc_model.pkl', 'wb') as file_4:\n",
        "  pickle.dump(svc_model, file_4)"
      ],
      "metadata": {
        "id": "-8ARRLhD6agw"
      },
      "execution_count": 104,
      "outputs": []
    },
    {
      "cell_type": "code",
      "source": [
        "# Load All Models\n",
        "\n",
        "with open('model_scaler.pkl', 'rb') as file_1:\n",
        "  model_scaler = pickle.load(file_1)\n",
        "\n",
        "with open('model_encoder.pkl', 'rb') as file_2:\n",
        "  model_encoder = pickle.load(file_2)\n",
        "\n",
        "with open('model_log_reg.pkl', 'rb') as file_3:\n",
        "  model_log_reg = pickle.load(file_3)\n",
        "\n",
        "with open('svc_model.pkl', 'rb') as file_4:\n",
        "  svc_model = pickle.load(file_4)"
      ],
      "metadata": {
        "id": "V-MQahC-8VSB"
      },
      "execution_count": 105,
      "outputs": []
    },
    {
      "cell_type": "markdown",
      "source": [
        "## 8.2. Preprocessing inference data"
      ],
      "metadata": {
        "id": "wxtKqKW29kvY"
      }
    },
    {
      "cell_type": "code",
      "source": [
        "data_inf.head()"
      ],
      "metadata": {
        "colab": {
          "base_uri": "https://localhost:8080/",
          "height": 206
        },
        "id": "ZcvOJ3yL6Quo",
        "outputId": "748b9ed6-0cc1-471a-f25b-a6a36843384f"
      },
      "execution_count": 106,
      "outputs": [
        {
          "output_type": "execute_result",
          "data": {
            "text/plain": [
              "   age      education        occupation relationship      sex  hours_per_week  \\\n",
              "0   60   Some-college   Exec-managerial      Husband     Male              50   \n",
              "1   36        HS-grad      Adm-clerical         Wife   Female              40   \n",
              "2   19        HS-grad             Sales    Own-child     Male              20   \n",
              "3   81        HS-grad   Exec-managerial      Husband     Male              30   \n",
              "4   51        HS-grad      Tech-support      Husband     Male              40   \n",
              "\n",
              "  income_bracket  \n",
              "0          <=50K  \n",
              "1           >50K  \n",
              "2          <=50K  \n",
              "3          <=50K  \n",
              "4           >50K  "
            ],
            "text/html": [
              "\n",
              "  <div id=\"df-f82a1c17-9821-45bc-941e-d2e504aa8513\">\n",
              "    <div class=\"colab-df-container\">\n",
              "      <div>\n",
              "<style scoped>\n",
              "    .dataframe tbody tr th:only-of-type {\n",
              "        vertical-align: middle;\n",
              "    }\n",
              "\n",
              "    .dataframe tbody tr th {\n",
              "        vertical-align: top;\n",
              "    }\n",
              "\n",
              "    .dataframe thead th {\n",
              "        text-align: right;\n",
              "    }\n",
              "</style>\n",
              "<table border=\"1\" class=\"dataframe\">\n",
              "  <thead>\n",
              "    <tr style=\"text-align: right;\">\n",
              "      <th></th>\n",
              "      <th>age</th>\n",
              "      <th>education</th>\n",
              "      <th>occupation</th>\n",
              "      <th>relationship</th>\n",
              "      <th>sex</th>\n",
              "      <th>hours_per_week</th>\n",
              "      <th>income_bracket</th>\n",
              "    </tr>\n",
              "  </thead>\n",
              "  <tbody>\n",
              "    <tr>\n",
              "      <th>0</th>\n",
              "      <td>60</td>\n",
              "      <td>Some-college</td>\n",
              "      <td>Exec-managerial</td>\n",
              "      <td>Husband</td>\n",
              "      <td>Male</td>\n",
              "      <td>50</td>\n",
              "      <td>&lt;=50K</td>\n",
              "    </tr>\n",
              "    <tr>\n",
              "      <th>1</th>\n",
              "      <td>36</td>\n",
              "      <td>HS-grad</td>\n",
              "      <td>Adm-clerical</td>\n",
              "      <td>Wife</td>\n",
              "      <td>Female</td>\n",
              "      <td>40</td>\n",
              "      <td>&gt;50K</td>\n",
              "    </tr>\n",
              "    <tr>\n",
              "      <th>2</th>\n",
              "      <td>19</td>\n",
              "      <td>HS-grad</td>\n",
              "      <td>Sales</td>\n",
              "      <td>Own-child</td>\n",
              "      <td>Male</td>\n",
              "      <td>20</td>\n",
              "      <td>&lt;=50K</td>\n",
              "    </tr>\n",
              "    <tr>\n",
              "      <th>3</th>\n",
              "      <td>81</td>\n",
              "      <td>HS-grad</td>\n",
              "      <td>Exec-managerial</td>\n",
              "      <td>Husband</td>\n",
              "      <td>Male</td>\n",
              "      <td>30</td>\n",
              "      <td>&lt;=50K</td>\n",
              "    </tr>\n",
              "    <tr>\n",
              "      <th>4</th>\n",
              "      <td>51</td>\n",
              "      <td>HS-grad</td>\n",
              "      <td>Tech-support</td>\n",
              "      <td>Husband</td>\n",
              "      <td>Male</td>\n",
              "      <td>40</td>\n",
              "      <td>&gt;50K</td>\n",
              "    </tr>\n",
              "  </tbody>\n",
              "</table>\n",
              "</div>\n",
              "      <button class=\"colab-df-convert\" onclick=\"convertToInteractive('df-f82a1c17-9821-45bc-941e-d2e504aa8513')\"\n",
              "              title=\"Convert this dataframe to an interactive table.\"\n",
              "              style=\"display:none;\">\n",
              "        \n",
              "  <svg xmlns=\"http://www.w3.org/2000/svg\" height=\"24px\"viewBox=\"0 0 24 24\"\n",
              "       width=\"24px\">\n",
              "    <path d=\"M0 0h24v24H0V0z\" fill=\"none\"/>\n",
              "    <path d=\"M18.56 5.44l.94 2.06.94-2.06 2.06-.94-2.06-.94-.94-2.06-.94 2.06-2.06.94zm-11 1L8.5 8.5l.94-2.06 2.06-.94-2.06-.94L8.5 2.5l-.94 2.06-2.06.94zm10 10l.94 2.06.94-2.06 2.06-.94-2.06-.94-.94-2.06-.94 2.06-2.06.94z\"/><path d=\"M17.41 7.96l-1.37-1.37c-.4-.4-.92-.59-1.43-.59-.52 0-1.04.2-1.43.59L10.3 9.45l-7.72 7.72c-.78.78-.78 2.05 0 2.83L4 21.41c.39.39.9.59 1.41.59.51 0 1.02-.2 1.41-.59l7.78-7.78 2.81-2.81c.8-.78.8-2.07 0-2.86zM5.41 20L4 18.59l7.72-7.72 1.47 1.35L5.41 20z\"/>\n",
              "  </svg>\n",
              "      </button>\n",
              "      \n",
              "  <style>\n",
              "    .colab-df-container {\n",
              "      display:flex;\n",
              "      flex-wrap:wrap;\n",
              "      gap: 12px;\n",
              "    }\n",
              "\n",
              "    .colab-df-convert {\n",
              "      background-color: #E8F0FE;\n",
              "      border: none;\n",
              "      border-radius: 50%;\n",
              "      cursor: pointer;\n",
              "      display: none;\n",
              "      fill: #1967D2;\n",
              "      height: 32px;\n",
              "      padding: 0 0 0 0;\n",
              "      width: 32px;\n",
              "    }\n",
              "\n",
              "    .colab-df-convert:hover {\n",
              "      background-color: #E2EBFA;\n",
              "      box-shadow: 0px 1px 2px rgba(60, 64, 67, 0.3), 0px 1px 3px 1px rgba(60, 64, 67, 0.15);\n",
              "      fill: #174EA6;\n",
              "    }\n",
              "\n",
              "    [theme=dark] .colab-df-convert {\n",
              "      background-color: #3B4455;\n",
              "      fill: #D2E3FC;\n",
              "    }\n",
              "\n",
              "    [theme=dark] .colab-df-convert:hover {\n",
              "      background-color: #434B5C;\n",
              "      box-shadow: 0px 1px 3px 1px rgba(0, 0, 0, 0.15);\n",
              "      filter: drop-shadow(0px 1px 2px rgba(0, 0, 0, 0.3));\n",
              "      fill: #FFFFFF;\n",
              "    }\n",
              "  </style>\n",
              "\n",
              "      <script>\n",
              "        const buttonEl =\n",
              "          document.querySelector('#df-f82a1c17-9821-45bc-941e-d2e504aa8513 button.colab-df-convert');\n",
              "        buttonEl.style.display =\n",
              "          google.colab.kernel.accessAllowed ? 'block' : 'none';\n",
              "\n",
              "        async function convertToInteractive(key) {\n",
              "          const element = document.querySelector('#df-f82a1c17-9821-45bc-941e-d2e504aa8513');\n",
              "          const dataTable =\n",
              "            await google.colab.kernel.invokeFunction('convertToInteractive',\n",
              "                                                     [key], {});\n",
              "          if (!dataTable) return;\n",
              "\n",
              "          const docLinkHtml = 'Like what you see? Visit the ' +\n",
              "            '<a target=\"_blank\" href=https://colab.research.google.com/notebooks/data_table.ipynb>data table notebook</a>'\n",
              "            + ' to learn more about interactive tables.';\n",
              "          element.innerHTML = '';\n",
              "          dataTable['output_type'] = 'display_data';\n",
              "          await google.colab.output.renderOutput(dataTable, element);\n",
              "          const docLink = document.createElement('div');\n",
              "          docLink.innerHTML = docLinkHtml;\n",
              "          element.appendChild(docLink);\n",
              "        }\n",
              "      </script>\n",
              "    </div>\n",
              "  </div>\n",
              "  "
            ]
          },
          "metadata": {},
          "execution_count": 106
        }
      ]
    },
    {
      "cell_type": "code",
      "source": [
        "# Split between num columns and cat columns\n",
        "\n",
        "data_inf_num = data_inf[num_columns]\n",
        "data_inf_cat = data_inf[cat_columns]\n",
        "\n",
        "data_inf_num"
      ],
      "metadata": {
        "colab": {
          "base_uri": "https://localhost:8080/",
          "height": 363
        },
        "id": "Q0hwxr4C6UdI",
        "outputId": "65248be7-b3a7-4cce-c122-57d42b3ce41f"
      },
      "execution_count": 107,
      "outputs": [
        {
          "output_type": "execute_result",
          "data": {
            "text/plain": [
              "   age  hours_per_week\n",
              "0   60              50\n",
              "1   36              40\n",
              "2   19              20\n",
              "3   81              30\n",
              "4   51              40\n",
              "5   49              60\n",
              "6   23              30\n",
              "7   48              60\n",
              "8   23              25\n",
              "9   56              40"
            ],
            "text/html": [
              "\n",
              "  <div id=\"df-f857d705-93d5-4fe9-9591-ea3ef96fa66a\">\n",
              "    <div class=\"colab-df-container\">\n",
              "      <div>\n",
              "<style scoped>\n",
              "    .dataframe tbody tr th:only-of-type {\n",
              "        vertical-align: middle;\n",
              "    }\n",
              "\n",
              "    .dataframe tbody tr th {\n",
              "        vertical-align: top;\n",
              "    }\n",
              "\n",
              "    .dataframe thead th {\n",
              "        text-align: right;\n",
              "    }\n",
              "</style>\n",
              "<table border=\"1\" class=\"dataframe\">\n",
              "  <thead>\n",
              "    <tr style=\"text-align: right;\">\n",
              "      <th></th>\n",
              "      <th>age</th>\n",
              "      <th>hours_per_week</th>\n",
              "    </tr>\n",
              "  </thead>\n",
              "  <tbody>\n",
              "    <tr>\n",
              "      <th>0</th>\n",
              "      <td>60</td>\n",
              "      <td>50</td>\n",
              "    </tr>\n",
              "    <tr>\n",
              "      <th>1</th>\n",
              "      <td>36</td>\n",
              "      <td>40</td>\n",
              "    </tr>\n",
              "    <tr>\n",
              "      <th>2</th>\n",
              "      <td>19</td>\n",
              "      <td>20</td>\n",
              "    </tr>\n",
              "    <tr>\n",
              "      <th>3</th>\n",
              "      <td>81</td>\n",
              "      <td>30</td>\n",
              "    </tr>\n",
              "    <tr>\n",
              "      <th>4</th>\n",
              "      <td>51</td>\n",
              "      <td>40</td>\n",
              "    </tr>\n",
              "    <tr>\n",
              "      <th>5</th>\n",
              "      <td>49</td>\n",
              "      <td>60</td>\n",
              "    </tr>\n",
              "    <tr>\n",
              "      <th>6</th>\n",
              "      <td>23</td>\n",
              "      <td>30</td>\n",
              "    </tr>\n",
              "    <tr>\n",
              "      <th>7</th>\n",
              "      <td>48</td>\n",
              "      <td>60</td>\n",
              "    </tr>\n",
              "    <tr>\n",
              "      <th>8</th>\n",
              "      <td>23</td>\n",
              "      <td>25</td>\n",
              "    </tr>\n",
              "    <tr>\n",
              "      <th>9</th>\n",
              "      <td>56</td>\n",
              "      <td>40</td>\n",
              "    </tr>\n",
              "  </tbody>\n",
              "</table>\n",
              "</div>\n",
              "      <button class=\"colab-df-convert\" onclick=\"convertToInteractive('df-f857d705-93d5-4fe9-9591-ea3ef96fa66a')\"\n",
              "              title=\"Convert this dataframe to an interactive table.\"\n",
              "              style=\"display:none;\">\n",
              "        \n",
              "  <svg xmlns=\"http://www.w3.org/2000/svg\" height=\"24px\"viewBox=\"0 0 24 24\"\n",
              "       width=\"24px\">\n",
              "    <path d=\"M0 0h24v24H0V0z\" fill=\"none\"/>\n",
              "    <path d=\"M18.56 5.44l.94 2.06.94-2.06 2.06-.94-2.06-.94-.94-2.06-.94 2.06-2.06.94zm-11 1L8.5 8.5l.94-2.06 2.06-.94-2.06-.94L8.5 2.5l-.94 2.06-2.06.94zm10 10l.94 2.06.94-2.06 2.06-.94-2.06-.94-.94-2.06-.94 2.06-2.06.94z\"/><path d=\"M17.41 7.96l-1.37-1.37c-.4-.4-.92-.59-1.43-.59-.52 0-1.04.2-1.43.59L10.3 9.45l-7.72 7.72c-.78.78-.78 2.05 0 2.83L4 21.41c.39.39.9.59 1.41.59.51 0 1.02-.2 1.41-.59l7.78-7.78 2.81-2.81c.8-.78.8-2.07 0-2.86zM5.41 20L4 18.59l7.72-7.72 1.47 1.35L5.41 20z\"/>\n",
              "  </svg>\n",
              "      </button>\n",
              "      \n",
              "  <style>\n",
              "    .colab-df-container {\n",
              "      display:flex;\n",
              "      flex-wrap:wrap;\n",
              "      gap: 12px;\n",
              "    }\n",
              "\n",
              "    .colab-df-convert {\n",
              "      background-color: #E8F0FE;\n",
              "      border: none;\n",
              "      border-radius: 50%;\n",
              "      cursor: pointer;\n",
              "      display: none;\n",
              "      fill: #1967D2;\n",
              "      height: 32px;\n",
              "      padding: 0 0 0 0;\n",
              "      width: 32px;\n",
              "    }\n",
              "\n",
              "    .colab-df-convert:hover {\n",
              "      background-color: #E2EBFA;\n",
              "      box-shadow: 0px 1px 2px rgba(60, 64, 67, 0.3), 0px 1px 3px 1px rgba(60, 64, 67, 0.15);\n",
              "      fill: #174EA6;\n",
              "    }\n",
              "\n",
              "    [theme=dark] .colab-df-convert {\n",
              "      background-color: #3B4455;\n",
              "      fill: #D2E3FC;\n",
              "    }\n",
              "\n",
              "    [theme=dark] .colab-df-convert:hover {\n",
              "      background-color: #434B5C;\n",
              "      box-shadow: 0px 1px 3px 1px rgba(0, 0, 0, 0.15);\n",
              "      filter: drop-shadow(0px 1px 2px rgba(0, 0, 0, 0.3));\n",
              "      fill: #FFFFFF;\n",
              "    }\n",
              "  </style>\n",
              "\n",
              "      <script>\n",
              "        const buttonEl =\n",
              "          document.querySelector('#df-f857d705-93d5-4fe9-9591-ea3ef96fa66a button.colab-df-convert');\n",
              "        buttonEl.style.display =\n",
              "          google.colab.kernel.accessAllowed ? 'block' : 'none';\n",
              "\n",
              "        async function convertToInteractive(key) {\n",
              "          const element = document.querySelector('#df-f857d705-93d5-4fe9-9591-ea3ef96fa66a');\n",
              "          const dataTable =\n",
              "            await google.colab.kernel.invokeFunction('convertToInteractive',\n",
              "                                                     [key], {});\n",
              "          if (!dataTable) return;\n",
              "\n",
              "          const docLinkHtml = 'Like what you see? Visit the ' +\n",
              "            '<a target=\"_blank\" href=https://colab.research.google.com/notebooks/data_table.ipynb>data table notebook</a>'\n",
              "            + ' to learn more about interactive tables.';\n",
              "          element.innerHTML = '';\n",
              "          dataTable['output_type'] = 'display_data';\n",
              "          await google.colab.output.renderOutput(dataTable, element);\n",
              "          const docLink = document.createElement('div');\n",
              "          docLink.innerHTML = docLinkHtml;\n",
              "          element.appendChild(docLink);\n",
              "        }\n",
              "      </script>\n",
              "    </div>\n",
              "  </div>\n",
              "  "
            ]
          },
          "metadata": {},
          "execution_count": 107
        }
      ]
    },
    {
      "cell_type": "code",
      "source": [
        "# Feature Scaling and Feature Encoding\n",
        "\n",
        "data_inf_num_scaled = model_scaler.transform(data_inf_num)\n",
        "data_inf_cat_encoded = model_encoder.transform(data_inf_cat)\n",
        "data_inf_num_scaled"
      ],
      "metadata": {
        "colab": {
          "base_uri": "https://localhost:8080/"
        },
        "id": "1ZvFqGZa6Xzo",
        "outputId": "4276de62-ab82-4a46-cac3-4f9952fd3c98"
      },
      "execution_count": 108,
      "outputs": [
        {
          "output_type": "execute_result",
          "data": {
            "text/plain": [
              "array([[0.71666667, 0.625     ],\n",
              "       [0.31666667, 0.48611111],\n",
              "       [0.03333333, 0.20833333],\n",
              "       [1.06666667, 0.34722222],\n",
              "       [0.56666667, 0.48611111],\n",
              "       [0.53333333, 0.76388889],\n",
              "       [0.1       , 0.34722222],\n",
              "       [0.51666667, 0.76388889],\n",
              "       [0.1       , 0.27777778],\n",
              "       [0.65      , 0.48611111]])"
            ]
          },
          "metadata": {},
          "execution_count": 108
        }
      ]
    },
    {
      "cell_type": "code",
      "source": [
        "# Concate\n",
        "\n",
        "data_inf_final = np.concatenate([data_inf_num_scaled, data_inf_cat_encoded], axis=1)\n",
        "data_inf_final"
      ],
      "metadata": {
        "colab": {
          "base_uri": "https://localhost:8080/"
        },
        "id": "qWFi9woM6373",
        "outputId": "c16d4941-f377-4534-be3a-0c2718c1c895"
      },
      "execution_count": 109,
      "outputs": [
        {
          "output_type": "execute_result",
          "data": {
            "text/plain": [
              "array([[ 0.71666667,  0.625     , 15.        ,  3.        ,  0.        ,\n",
              "         1.        ],\n",
              "       [ 0.31666667,  0.48611111, 11.        ,  0.        ,  4.        ,\n",
              "         0.        ],\n",
              "       [ 0.03333333,  0.20833333, 11.        , 11.        ,  2.        ,\n",
              "         1.        ],\n",
              "       [ 1.06666667,  0.34722222, 11.        ,  3.        ,  0.        ,\n",
              "         1.        ],\n",
              "       [ 0.56666667,  0.48611111, 11.        , 12.        ,  0.        ,\n",
              "         1.        ],\n",
              "       [ 0.53333333,  0.76388889, 15.        , 11.        ,  0.        ,\n",
              "         1.        ],\n",
              "       [ 0.1       ,  0.34722222,  9.        ,  3.        ,  2.        ,\n",
              "         1.        ],\n",
              "       [ 0.51666667,  0.76388889,  9.        ,  3.        ,  0.        ,\n",
              "         1.        ],\n",
              "       [ 0.1       ,  0.27777778, 15.        ,  7.        ,  3.        ,\n",
              "         0.        ],\n",
              "       [ 0.65      ,  0.48611111, 11.        ,  3.        ,  0.        ,\n",
              "         1.        ]])"
            ]
          },
          "metadata": {},
          "execution_count": 109
        }
      ]
    },
    {
      "cell_type": "markdown",
      "source": [
        "## 8.3. Inference logistic regression"
      ],
      "metadata": {
        "id": "j3MULY_l68ng"
      }
    },
    {
      "cell_type": "code",
      "source": [
        "# Predict Data Inference\n",
        "\n",
        "y_pred_inf = model_log_reg.predict(data_inf_final)\n",
        "y_pred_inf"
      ],
      "metadata": {
        "colab": {
          "base_uri": "https://localhost:8080/"
        },
        "id": "cxqk90St7JfL",
        "outputId": "77970e24-4d75-457a-9704-1be3398438a0"
      },
      "execution_count": 110,
      "outputs": [
        {
          "output_type": "execute_result",
          "data": {
            "text/plain": [
              "array([' >50K', ' <=50K', ' <=50K', ' >50K', ' >50K', ' >50K', ' <=50K',\n",
              "       ' >50K', ' <=50K', ' >50K'], dtype=object)"
            ]
          },
          "metadata": {},
          "execution_count": 110
        }
      ]
    },
    {
      "cell_type": "code",
      "source": [
        "# Convert into DataFrame\n",
        "\n",
        "y_pred_inf_df = pd.DataFrame(y_pred_inf, columns=['Income - Prediction'])\n",
        "y_pred_inf_df"
      ],
      "metadata": {
        "colab": {
          "base_uri": "https://localhost:8080/",
          "height": 363
        },
        "id": "F2YAoap67OIP",
        "outputId": "7e35af29-4b22-4e5f-faa8-366f71406120"
      },
      "execution_count": 111,
      "outputs": [
        {
          "output_type": "execute_result",
          "data": {
            "text/plain": [
              "  Income - Prediction\n",
              "0                >50K\n",
              "1               <=50K\n",
              "2               <=50K\n",
              "3                >50K\n",
              "4                >50K\n",
              "5                >50K\n",
              "6               <=50K\n",
              "7                >50K\n",
              "8               <=50K\n",
              "9                >50K"
            ],
            "text/html": [
              "\n",
              "  <div id=\"df-e116fd57-2b26-4f74-b050-dc06d20b7133\">\n",
              "    <div class=\"colab-df-container\">\n",
              "      <div>\n",
              "<style scoped>\n",
              "    .dataframe tbody tr th:only-of-type {\n",
              "        vertical-align: middle;\n",
              "    }\n",
              "\n",
              "    .dataframe tbody tr th {\n",
              "        vertical-align: top;\n",
              "    }\n",
              "\n",
              "    .dataframe thead th {\n",
              "        text-align: right;\n",
              "    }\n",
              "</style>\n",
              "<table border=\"1\" class=\"dataframe\">\n",
              "  <thead>\n",
              "    <tr style=\"text-align: right;\">\n",
              "      <th></th>\n",
              "      <th>Income - Prediction</th>\n",
              "    </tr>\n",
              "  </thead>\n",
              "  <tbody>\n",
              "    <tr>\n",
              "      <th>0</th>\n",
              "      <td>&gt;50K</td>\n",
              "    </tr>\n",
              "    <tr>\n",
              "      <th>1</th>\n",
              "      <td>&lt;=50K</td>\n",
              "    </tr>\n",
              "    <tr>\n",
              "      <th>2</th>\n",
              "      <td>&lt;=50K</td>\n",
              "    </tr>\n",
              "    <tr>\n",
              "      <th>3</th>\n",
              "      <td>&gt;50K</td>\n",
              "    </tr>\n",
              "    <tr>\n",
              "      <th>4</th>\n",
              "      <td>&gt;50K</td>\n",
              "    </tr>\n",
              "    <tr>\n",
              "      <th>5</th>\n",
              "      <td>&gt;50K</td>\n",
              "    </tr>\n",
              "    <tr>\n",
              "      <th>6</th>\n",
              "      <td>&lt;=50K</td>\n",
              "    </tr>\n",
              "    <tr>\n",
              "      <th>7</th>\n",
              "      <td>&gt;50K</td>\n",
              "    </tr>\n",
              "    <tr>\n",
              "      <th>8</th>\n",
              "      <td>&lt;=50K</td>\n",
              "    </tr>\n",
              "    <tr>\n",
              "      <th>9</th>\n",
              "      <td>&gt;50K</td>\n",
              "    </tr>\n",
              "  </tbody>\n",
              "</table>\n",
              "</div>\n",
              "      <button class=\"colab-df-convert\" onclick=\"convertToInteractive('df-e116fd57-2b26-4f74-b050-dc06d20b7133')\"\n",
              "              title=\"Convert this dataframe to an interactive table.\"\n",
              "              style=\"display:none;\">\n",
              "        \n",
              "  <svg xmlns=\"http://www.w3.org/2000/svg\" height=\"24px\"viewBox=\"0 0 24 24\"\n",
              "       width=\"24px\">\n",
              "    <path d=\"M0 0h24v24H0V0z\" fill=\"none\"/>\n",
              "    <path d=\"M18.56 5.44l.94 2.06.94-2.06 2.06-.94-2.06-.94-.94-2.06-.94 2.06-2.06.94zm-11 1L8.5 8.5l.94-2.06 2.06-.94-2.06-.94L8.5 2.5l-.94 2.06-2.06.94zm10 10l.94 2.06.94-2.06 2.06-.94-2.06-.94-.94-2.06-.94 2.06-2.06.94z\"/><path d=\"M17.41 7.96l-1.37-1.37c-.4-.4-.92-.59-1.43-.59-.52 0-1.04.2-1.43.59L10.3 9.45l-7.72 7.72c-.78.78-.78 2.05 0 2.83L4 21.41c.39.39.9.59 1.41.59.51 0 1.02-.2 1.41-.59l7.78-7.78 2.81-2.81c.8-.78.8-2.07 0-2.86zM5.41 20L4 18.59l7.72-7.72 1.47 1.35L5.41 20z\"/>\n",
              "  </svg>\n",
              "      </button>\n",
              "      \n",
              "  <style>\n",
              "    .colab-df-container {\n",
              "      display:flex;\n",
              "      flex-wrap:wrap;\n",
              "      gap: 12px;\n",
              "    }\n",
              "\n",
              "    .colab-df-convert {\n",
              "      background-color: #E8F0FE;\n",
              "      border: none;\n",
              "      border-radius: 50%;\n",
              "      cursor: pointer;\n",
              "      display: none;\n",
              "      fill: #1967D2;\n",
              "      height: 32px;\n",
              "      padding: 0 0 0 0;\n",
              "      width: 32px;\n",
              "    }\n",
              "\n",
              "    .colab-df-convert:hover {\n",
              "      background-color: #E2EBFA;\n",
              "      box-shadow: 0px 1px 2px rgba(60, 64, 67, 0.3), 0px 1px 3px 1px rgba(60, 64, 67, 0.15);\n",
              "      fill: #174EA6;\n",
              "    }\n",
              "\n",
              "    [theme=dark] .colab-df-convert {\n",
              "      background-color: #3B4455;\n",
              "      fill: #D2E3FC;\n",
              "    }\n",
              "\n",
              "    [theme=dark] .colab-df-convert:hover {\n",
              "      background-color: #434B5C;\n",
              "      box-shadow: 0px 1px 3px 1px rgba(0, 0, 0, 0.15);\n",
              "      filter: drop-shadow(0px 1px 2px rgba(0, 0, 0, 0.3));\n",
              "      fill: #FFFFFF;\n",
              "    }\n",
              "  </style>\n",
              "\n",
              "      <script>\n",
              "        const buttonEl =\n",
              "          document.querySelector('#df-e116fd57-2b26-4f74-b050-dc06d20b7133 button.colab-df-convert');\n",
              "        buttonEl.style.display =\n",
              "          google.colab.kernel.accessAllowed ? 'block' : 'none';\n",
              "\n",
              "        async function convertToInteractive(key) {\n",
              "          const element = document.querySelector('#df-e116fd57-2b26-4f74-b050-dc06d20b7133');\n",
              "          const dataTable =\n",
              "            await google.colab.kernel.invokeFunction('convertToInteractive',\n",
              "                                                     [key], {});\n",
              "          if (!dataTable) return;\n",
              "\n",
              "          const docLinkHtml = 'Like what you see? Visit the ' +\n",
              "            '<a target=\"_blank\" href=https://colab.research.google.com/notebooks/data_table.ipynb>data table notebook</a>'\n",
              "            + ' to learn more about interactive tables.';\n",
              "          element.innerHTML = '';\n",
              "          dataTable['output_type'] = 'display_data';\n",
              "          await google.colab.output.renderOutput(dataTable, element);\n",
              "          const docLink = document.createElement('div');\n",
              "          docLink.innerHTML = docLinkHtml;\n",
              "          element.appendChild(docLink);\n",
              "        }\n",
              "      </script>\n",
              "    </div>\n",
              "  </div>\n",
              "  "
            ]
          },
          "metadata": {},
          "execution_count": 111
        }
      ]
    },
    {
      "cell_type": "markdown",
      "source": [
        "## 8.4. Inference svc"
      ],
      "metadata": {
        "id": "pc3Wvk8a7FDn"
      }
    },
    {
      "cell_type": "code",
      "source": [
        "y_pred_inf_svc = model_log_reg.predict(data_inf_final)\n",
        "y_pred_inf_svc"
      ],
      "metadata": {
        "colab": {
          "base_uri": "https://localhost:8080/"
        },
        "id": "2O9bvVXw7D57",
        "outputId": "f85e07c1-d85c-4166-f167-a76a4cb36ba6"
      },
      "execution_count": 112,
      "outputs": [
        {
          "output_type": "execute_result",
          "data": {
            "text/plain": [
              "array([' >50K', ' <=50K', ' <=50K', ' >50K', ' >50K', ' >50K', ' <=50K',\n",
              "       ' >50K', ' <=50K', ' >50K'], dtype=object)"
            ]
          },
          "metadata": {},
          "execution_count": 112
        }
      ]
    },
    {
      "cell_type": "code",
      "source": [
        "# Convert into DataFrame\n",
        "\n",
        "y_pred_inf_svc_df = pd.DataFrame(y_pred_inf_svc, columns=['Income - Prediction'])\n",
        "y_pred_inf_svc_df"
      ],
      "metadata": {
        "colab": {
          "base_uri": "https://localhost:8080/",
          "height": 363
        },
        "id": "oD4IcIei7ch6",
        "outputId": "4a75c866-fadb-4d8a-a542-c415928081b6"
      },
      "execution_count": 113,
      "outputs": [
        {
          "output_type": "execute_result",
          "data": {
            "text/plain": [
              "  Income - Prediction\n",
              "0                >50K\n",
              "1               <=50K\n",
              "2               <=50K\n",
              "3                >50K\n",
              "4                >50K\n",
              "5                >50K\n",
              "6               <=50K\n",
              "7                >50K\n",
              "8               <=50K\n",
              "9                >50K"
            ],
            "text/html": [
              "\n",
              "  <div id=\"df-80dc5be2-7a43-48ea-bc51-d663ac106576\">\n",
              "    <div class=\"colab-df-container\">\n",
              "      <div>\n",
              "<style scoped>\n",
              "    .dataframe tbody tr th:only-of-type {\n",
              "        vertical-align: middle;\n",
              "    }\n",
              "\n",
              "    .dataframe tbody tr th {\n",
              "        vertical-align: top;\n",
              "    }\n",
              "\n",
              "    .dataframe thead th {\n",
              "        text-align: right;\n",
              "    }\n",
              "</style>\n",
              "<table border=\"1\" class=\"dataframe\">\n",
              "  <thead>\n",
              "    <tr style=\"text-align: right;\">\n",
              "      <th></th>\n",
              "      <th>Income - Prediction</th>\n",
              "    </tr>\n",
              "  </thead>\n",
              "  <tbody>\n",
              "    <tr>\n",
              "      <th>0</th>\n",
              "      <td>&gt;50K</td>\n",
              "    </tr>\n",
              "    <tr>\n",
              "      <th>1</th>\n",
              "      <td>&lt;=50K</td>\n",
              "    </tr>\n",
              "    <tr>\n",
              "      <th>2</th>\n",
              "      <td>&lt;=50K</td>\n",
              "    </tr>\n",
              "    <tr>\n",
              "      <th>3</th>\n",
              "      <td>&gt;50K</td>\n",
              "    </tr>\n",
              "    <tr>\n",
              "      <th>4</th>\n",
              "      <td>&gt;50K</td>\n",
              "    </tr>\n",
              "    <tr>\n",
              "      <th>5</th>\n",
              "      <td>&gt;50K</td>\n",
              "    </tr>\n",
              "    <tr>\n",
              "      <th>6</th>\n",
              "      <td>&lt;=50K</td>\n",
              "    </tr>\n",
              "    <tr>\n",
              "      <th>7</th>\n",
              "      <td>&gt;50K</td>\n",
              "    </tr>\n",
              "    <tr>\n",
              "      <th>8</th>\n",
              "      <td>&lt;=50K</td>\n",
              "    </tr>\n",
              "    <tr>\n",
              "      <th>9</th>\n",
              "      <td>&gt;50K</td>\n",
              "    </tr>\n",
              "  </tbody>\n",
              "</table>\n",
              "</div>\n",
              "      <button class=\"colab-df-convert\" onclick=\"convertToInteractive('df-80dc5be2-7a43-48ea-bc51-d663ac106576')\"\n",
              "              title=\"Convert this dataframe to an interactive table.\"\n",
              "              style=\"display:none;\">\n",
              "        \n",
              "  <svg xmlns=\"http://www.w3.org/2000/svg\" height=\"24px\"viewBox=\"0 0 24 24\"\n",
              "       width=\"24px\">\n",
              "    <path d=\"M0 0h24v24H0V0z\" fill=\"none\"/>\n",
              "    <path d=\"M18.56 5.44l.94 2.06.94-2.06 2.06-.94-2.06-.94-.94-2.06-.94 2.06-2.06.94zm-11 1L8.5 8.5l.94-2.06 2.06-.94-2.06-.94L8.5 2.5l-.94 2.06-2.06.94zm10 10l.94 2.06.94-2.06 2.06-.94-2.06-.94-.94-2.06-.94 2.06-2.06.94z\"/><path d=\"M17.41 7.96l-1.37-1.37c-.4-.4-.92-.59-1.43-.59-.52 0-1.04.2-1.43.59L10.3 9.45l-7.72 7.72c-.78.78-.78 2.05 0 2.83L4 21.41c.39.39.9.59 1.41.59.51 0 1.02-.2 1.41-.59l7.78-7.78 2.81-2.81c.8-.78.8-2.07 0-2.86zM5.41 20L4 18.59l7.72-7.72 1.47 1.35L5.41 20z\"/>\n",
              "  </svg>\n",
              "      </button>\n",
              "      \n",
              "  <style>\n",
              "    .colab-df-container {\n",
              "      display:flex;\n",
              "      flex-wrap:wrap;\n",
              "      gap: 12px;\n",
              "    }\n",
              "\n",
              "    .colab-df-convert {\n",
              "      background-color: #E8F0FE;\n",
              "      border: none;\n",
              "      border-radius: 50%;\n",
              "      cursor: pointer;\n",
              "      display: none;\n",
              "      fill: #1967D2;\n",
              "      height: 32px;\n",
              "      padding: 0 0 0 0;\n",
              "      width: 32px;\n",
              "    }\n",
              "\n",
              "    .colab-df-convert:hover {\n",
              "      background-color: #E2EBFA;\n",
              "      box-shadow: 0px 1px 2px rgba(60, 64, 67, 0.3), 0px 1px 3px 1px rgba(60, 64, 67, 0.15);\n",
              "      fill: #174EA6;\n",
              "    }\n",
              "\n",
              "    [theme=dark] .colab-df-convert {\n",
              "      background-color: #3B4455;\n",
              "      fill: #D2E3FC;\n",
              "    }\n",
              "\n",
              "    [theme=dark] .colab-df-convert:hover {\n",
              "      background-color: #434B5C;\n",
              "      box-shadow: 0px 1px 3px 1px rgba(0, 0, 0, 0.15);\n",
              "      filter: drop-shadow(0px 1px 2px rgba(0, 0, 0, 0.3));\n",
              "      fill: #FFFFFF;\n",
              "    }\n",
              "  </style>\n",
              "\n",
              "      <script>\n",
              "        const buttonEl =\n",
              "          document.querySelector('#df-80dc5be2-7a43-48ea-bc51-d663ac106576 button.colab-df-convert');\n",
              "        buttonEl.style.display =\n",
              "          google.colab.kernel.accessAllowed ? 'block' : 'none';\n",
              "\n",
              "        async function convertToInteractive(key) {\n",
              "          const element = document.querySelector('#df-80dc5be2-7a43-48ea-bc51-d663ac106576');\n",
              "          const dataTable =\n",
              "            await google.colab.kernel.invokeFunction('convertToInteractive',\n",
              "                                                     [key], {});\n",
              "          if (!dataTable) return;\n",
              "\n",
              "          const docLinkHtml = 'Like what you see? Visit the ' +\n",
              "            '<a target=\"_blank\" href=https://colab.research.google.com/notebooks/data_table.ipynb>data table notebook</a>'\n",
              "            + ' to learn more about interactive tables.';\n",
              "          element.innerHTML = '';\n",
              "          dataTable['output_type'] = 'display_data';\n",
              "          await google.colab.output.renderOutput(dataTable, element);\n",
              "          const docLink = document.createElement('div');\n",
              "          docLink.innerHTML = docLinkHtml;\n",
              "          element.appendChild(docLink);\n",
              "        }\n",
              "      </script>\n",
              "    </div>\n",
              "  </div>\n",
              "  "
            ]
          },
          "metadata": {},
          "execution_count": 113
        }
      ]
    },
    {
      "cell_type": "markdown",
      "source": [
        "hasil prediksi data inference dari kedua model sama persis"
      ],
      "metadata": {
        "id": "JesIGhryR2AC"
      }
    },
    {
      "cell_type": "markdown",
      "source": [
        "# IX. Kesimpulan"
      ],
      "metadata": {
        "id": "YHIG0GOq9tqE"
      }
    },
    {
      "cell_type": "markdown",
      "source": [
        "**Metrics Model**\n",
        "- metrics evaluasi model logistic regression dan svm-svc menghasilkan angka yang mirip, salah satunya metrics akurasi dengan angka 71% untuk kedua model.\n",
        "\n",
        "\n",
        "**Analisis kedua model**\n",
        "- model Logistic Regression memiliki kelebihan pemrosesan yang cepat dibandingkan SVM.\n",
        "- model SVM-SVC memiliki kelebihan dapat memprediksi lebih dari 2 kategori dengan baik dibandingkan dengan model Logistic Regression.\n",
        "- Sebenarnya, model logistic regression lebih sensitif terhadap overfitting daripada model SVM-SVC. Akan tetapi karena adanya imbalancy data, kelemahan tersebut seperti tidak terlihat karena hasil metrics f1-score antara kedua model sangat mirip.\n",
        "\n",
        "\n",
        "**Improvement Suggestion**\n",
        "- Improvement yang dapat diterapkan untuk machine learning ini adalah adanya handling imbalance data.\n",
        "\n",
        "\n",
        "**Insight setelah proses EDA dan selanjutnya**\n",
        "- dari analisis grafik, chi-square test, dan personal judgement di EDA, kolom yang terpilih sebagai fitur sudah cukup baik dalam memprediksi data karena akurasinya mencapai 71%.\n",
        "- setiap proses yang diambil harus dipilih berdasarkan argumen yang kuat. Apabila model dan proses pada dataset ini diaplikasikan pada dataset lain, belum tentu menghasilkan model dengan akurasi yang sama."
      ],
      "metadata": {
        "id": "QqUB2pulBRN6"
      }
    },
    {
      "cell_type": "markdown",
      "source": [
        "# X. Conceptual Problems"
      ],
      "metadata": {
        "id": "7ZogM0vPBN5T"
      }
    },
    {
      "cell_type": "code",
      "source": [
        "# melihat koefisien fitur logistic regression\n",
        "best_log_model.coef_"
      ],
      "metadata": {
        "colab": {
          "base_uri": "https://localhost:8080/"
        },
        "id": "OPlwfYNMGzZ0",
        "outputId": "2132b1f4-a3d7-4ef1-a0b6-d9b7c8b25da1"
      },
      "execution_count": 97,
      "outputs": [
        {
          "output_type": "execute_result",
          "data": {
            "text/plain": [
              "array([[ 2.57437875,  3.21817388,  0.05931254,  0.02257031, -0.31369242,\n",
              "         0.07355192]])"
            ]
          },
          "metadata": {},
          "execution_count": 97
        }
      ]
    },
    {
      "cell_type": "code",
      "source": [
        "# melihat fitur\n",
        "X_train_final_df.info()"
      ],
      "metadata": {
        "colab": {
          "base_uri": "https://localhost:8080/"
        },
        "id": "cmt0dmXsG1BE",
        "outputId": "68b2c9dd-a0e7-490f-d7c0-8f21128a9925"
      },
      "execution_count": 98,
      "outputs": [
        {
          "output_type": "stream",
          "name": "stdout",
          "text": [
            "<class 'pandas.core.frame.DataFrame'>\n",
            "RangeIndex: 17289 entries, 0 to 17288\n",
            "Data columns (total 6 columns):\n",
            " #   Column             Non-Null Count  Dtype  \n",
            "---  ------             --------------  -----  \n",
            " 0   (age,)             17289 non-null  float64\n",
            " 1   (hours_per_week,)  17289 non-null  float64\n",
            " 2   (education,)       17289 non-null  float64\n",
            " 3   (occupation,)      17289 non-null  float64\n",
            " 4   (relationship,)    17289 non-null  float64\n",
            " 5   (sex,)             17289 non-null  float64\n",
            "dtypes: float64(6)\n",
            "memory usage: 810.5 KB\n"
          ]
        }
      ]
    },
    {
      "cell_type": "markdown",
      "source": [
        "1. Apakah yang dimaksud dengan coeficient pada logistic regression?\n",
        "2. Apakah yang dimaksud dengan Support Vector pada SVM?\n",
        "3. Apakah fungsi parameter kernel pada SVM? Jelaskan salah satu kernel yang kalian pahami!"
      ],
      "metadata": {
        "id": "Y4r0tsj_Gxx8"
      }
    },
    {
      "cell_type": "markdown",
      "source": [
        "1. koefisien pada logistic regression menggambarkan besarnya bobot pada setiap fitur. Apabila nilainya positif, maka lebih besar kemungkinannya pada tingkat prediktor daripada tingkat referensi. dan begitu pula sebaliknya. koefisien yang bernilai negatif di logistic regression kali ini adalah pada fitur relationship.\n",
        "2. Support Vector adalah data poin yang berada lebih dekat dengan hyperplane. Support vector mempengaruhi posisi dan orientasi/rotasi dari hyperplane. Support vector dapat memaksimalkan margin. Maka dari itu, support vector dapat menjadi pertimbangan data scientist dalam mebuat model SVM yang maksimal.\n",
        "3. Kernel pada SVM merupakan suatu metode untuk mentransformasikan data poin dan mengoptimalkan pembatas klasifikasi antar kategori. Kernel sangat berguna pada non-linear model seperti contohnya SVM. salah satu kernelnya adalah RBF (Radial Basis Function). RBF memiliki hyperplane yang lebih fleksibel terhadap data point daripada kernel linear. RBF cocok untuk data yang memiliki persebaran poin yang tidak lugas karena garis hyperplane akan mencari data terluar.support vector dengan lebih fleksibel. 2 hyperparameter paling penting di RBF adalah C dan gamma yang dapat memengaruhi bentuk, posisi, dan orientasi hyperplane."
      ],
      "metadata": {
        "id": "fFuHDWTcHJY4"
      }
    }
  ],
  "metadata": {
    "interpreter": {
      "hash": "ad2bdc8ecc057115af97d19610ffacc2b4e99fae6737bb82f5d7fb13d2f2c186"
    },
    "kernelspec": {
      "display_name": "Python 3.9.7 ('base')",
      "language": "python",
      "name": "python3"
    },
    "language_info": {
      "codemirror_mode": {
        "name": "ipython",
        "version": 3
      },
      "file_extension": ".py",
      "mimetype": "text/x-python",
      "name": "python",
      "nbconvert_exporter": "python",
      "pygments_lexer": "ipython3",
      "version": "3.9.7"
    },
    "orig_nbformat": 4,
    "colab": {
      "name": "h8dsft_P1W1LGSVM_Nabila_Edelliana_K.ipynb",
      "provenance": [],
      "collapsed_sections": [
        "TiJ-iTI2xue5",
        "xqOx8dPjxufG",
        "UPS2rqzExufU",
        "0kzdsRusxufY",
        "OjfZtARWxufj",
        "45vkOyCQxufn",
        "XVV-s8D8xuft",
        "V8C_FXs5xufw",
        "8LSP7lwZxuf0",
        "U3uGa5Oyxuf4",
        "4TEmDWJRxuf9",
        "E824t8T-xugB",
        "piYbjyFcxugF",
        "GqTxs36MxugI",
        "g44ofgVTxugJ"
      ]
    }
  },
  "nbformat": 4,
  "nbformat_minor": 0
}